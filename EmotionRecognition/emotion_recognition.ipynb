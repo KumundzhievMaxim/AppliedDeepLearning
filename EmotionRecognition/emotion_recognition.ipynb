{
  "nbformat": 4,
  "nbformat_minor": 0,
  "metadata": {
    "colab": {
      "name": " emotion_recognition.ipynb",
      "provenance": [],
      "toc_visible": true,
      "authorship_tag": "ABX9TyNzGwx7bJyEZtDOvcDf75xb",
      "include_colab_link": true
    },
    "kernelspec": {
      "name": "python3",
      "display_name": "Python 3"
    }
  },
  "cells": [
    {
      "cell_type": "markdown",
      "metadata": {
        "id": "view-in-github",
        "colab_type": "text"
      },
      "source": [
        "<a href=\"https://colab.research.google.com/github/KumundzhievMaxim/AppliedDeepLearning/blob/main/EmotionRecognition/emotion_recognition.ipynb\" target=\"_parent\"><img src=\"https://colab.research.google.com/assets/colab-badge.svg\" alt=\"Open In Colab\"/></a>"
      ]
    },
    {
      "cell_type": "markdown",
      "metadata": {
        "id": "xDVZ9bm8R7d5"
      },
      "source": [
        "### Downloading the Data {When UNI Link unreacheable}"
      ]
    },
    {
      "cell_type": "code",
      "metadata": {
        "colab": {
          "base_uri": "https://localhost:8080/"
        },
        "id": "7_Po5yhnOWDO",
        "outputId": "f302cb76-bb1e-4821-d12d-fe507d481e3d"
      },
      "source": [
        "# Audio Song 1-24\n",
        "!wget -O Audio_Song_Actors_01-24.zip https://zenodo.org/record/1188976/files/Audio_Song_Actors_01-24.zip?download=1 "
      ],
      "execution_count": null,
      "outputs": [
        {
          "output_type": "stream",
          "text": [
            "--2020-12-15 07:30:35--  https://zenodo.org/record/1188976/files/Audio_Song_Actors_01-24.zip?download=1\n",
            "Resolving zenodo.org (zenodo.org)... 137.138.76.77\n",
            "Connecting to zenodo.org (zenodo.org)|137.138.76.77|:443... connected.\n",
            "HTTP request sent, awaiting response... 200 OK\n",
            "Length: 225505317 (215M) [application/octet-stream]\n",
            "Saving to: ‘Audio_Song_Actors_01-24.zip’\n",
            "\n",
            "Audio_Song_Actors_0 100%[===================>] 215.06M  7.43MB/s    in 31s     \n",
            "\n",
            "2020-12-15 07:31:07 (7.04 MB/s) - ‘Audio_Song_Actors_01-24.zip’ saved [225505317/225505317]\n",
            "\n"
          ],
          "name": "stdout"
        }
      ]
    },
    {
      "cell_type": "code",
      "metadata": {
        "colab": {
          "base_uri": "https://localhost:8080/"
        },
        "id": "CgSC41c5PS8w",
        "outputId": "a38cfc0e-a9b6-4fdf-80af-e3fda36d21ec"
      },
      "source": [
        "# Audio Speech\n",
        "!wget -O Audio_Speech_Actors_01-24.zip https://zenodo.org/record/1188976/files/Audio_Speech_Actors_01-24.zip?download=1"
      ],
      "execution_count": null,
      "outputs": [
        {
          "output_type": "stream",
          "text": [
            "--2020-12-15 07:31:57--  https://zenodo.org/record/1188976/files/Audio_Speech_Actors_01-24.zip?download=1\n",
            "Resolving zenodo.org (zenodo.org)... 137.138.76.77\n",
            "Connecting to zenodo.org (zenodo.org)|137.138.76.77|:443... connected.\n",
            "HTTP request sent, awaiting response... 200 OK\n",
            "Length: 208468073 (199M) [application/octet-stream]\n",
            "Saving to: ‘Audio_Speech_Actors_01-24.zip’\n",
            "\n",
            "Audio_Speech_Actors 100%[===================>] 198.81M  8.33MB/s    in 27s     \n",
            "\n",
            "2020-12-15 07:32:25 (7.41 MB/s) - ‘Audio_Speech_Actors_01-24.zip’ saved [208468073/208468073]\n",
            "\n"
          ],
          "name": "stdout"
        }
      ]
    },
    {
      "cell_type": "code",
      "metadata": {
        "colab": {
          "base_uri": "https://localhost:8080/"
        },
        "id": "gYPVmyCtPk51",
        "outputId": "6b1f9e2c-4f60-4797-fda1-48e79225b034"
      },
      "source": [
        "# Unzip Audio Song 1-24 (./song)\n",
        "!mkdir ./song && unzip /content/Audio_Song_Actors_01-24.zip -d ./song && rm -r /content/Audio_Song_Actors_01-24.zip"
      ],
      "execution_count": null,
      "outputs": [
        {
          "output_type": "stream",
          "text": [
            "mkdir: cannot create directory ‘./song’: File exists\n"
          ],
          "name": "stdout"
        }
      ]
    },
    {
      "cell_type": "code",
      "metadata": {
        "id": "xMr99_zxP-_Q"
      },
      "source": [
        "# Unzip Audio Speech 1-24 (./speech)\n",
        "!mkdir ./speech && unzip -q /content/Audio_Speech_Actors_01-24.zip -d ./speech  && rm -r /content/Audio_Speech_Actors_01-24.zip"
      ],
      "execution_count": null,
      "outputs": []
    },
    {
      "cell_type": "code",
      "metadata": {
        "colab": {
          "base_uri": "https://localhost:8080/"
        },
        "id": "OvWdh4oXT_2k",
        "outputId": "29dbb4ad-4d92-46f4-b07f-8de6c3b0ac54"
      },
      "source": [
        "# Downalod Video Song Actor 1-9\n",
        "import os\n",
        "\n",
        "for video_index in range(1, 10):\n",
        "  down_cmd = f'wget -O Video_Song_Actor_0{video_index}.zip https://zenodo.org/record/1188976/files/Video_Song_Actor_0{video_index}.zip?download=1'\n",
        "  dir_cmd = f'mkdir ./video/Actor_0{video_index}'\n",
        "  unzip_cmd = f'unzip -q Video_Song_Actor_0{video_index}.zip -d ./video/Actor_0{video_index}/'\n",
        "  rm_cmd = f'rm -r Video_Song_Actor_0{video_index}.zip'\n",
        "\n",
        "  print(f'Downloading Video_{video_index} zip')\n",
        "  os.system(down_cmd)\n",
        "  \n",
        "  print('Created folder for particular Video zip')\n",
        "  os.system(dir_cmd)\n",
        "  \n",
        "  print('Unzipping particular Video')\n",
        "  os.system(unzip_cmd)\n",
        "\n",
        "  print('Deleting particular Video zip')\n",
        "  os.system(rm_cmd)\n"
      ],
      "execution_count": null,
      "outputs": [
        {
          "output_type": "stream",
          "text": [
            "Downloading Video_1 zip\n",
            "Created folder for particular Video zip\n",
            "Unzipping particular Video\n",
            "Deleting particular Video zip\n",
            "Downloading Video_2 zip\n",
            "Created folder for particular Video zip\n",
            "Unzipping particular Video\n",
            "Deleting particular Video zip\n",
            "Downloading Video_3 zip\n",
            "Created folder for particular Video zip\n",
            "Unzipping particular Video\n",
            "Deleting particular Video zip\n",
            "Downloading Video_4 zip\n",
            "Created folder for particular Video zip\n",
            "Unzipping particular Video\n",
            "Deleting particular Video zip\n",
            "Downloading Video_5 zip\n"
          ],
          "name": "stdout"
        }
      ]
    },
    {
      "cell_type": "markdown",
      "metadata": {
        "id": "0jU4RO-dlnW5"
      },
      "source": [
        "# ENTRY POINT"
      ]
    },
    {
      "cell_type": "markdown",
      "metadata": {
        "id": "hBv5dryRVWXV"
      },
      "source": [
        "## Data Description\n",
        "The RAVDESS contains **7356** files. \n",
        "Each file was rated **10 times** on emotional validity, intensity, and genuineness\n",
        "\n",
        "[Video example](https://www.youtube.com/watch?v=Y7OQoNEu3dY)\n",
        "\n",
        "The database contains 24 professional actors (12 female, 12 male), vocalizing two lexically-matched statements in a neutral North American accent. Speech includes calm, happy, sad, angry, fearful, surprise, and disgust expressions.\n",
        "\n",
        "\n",
        "All conditions are available in three modality formats: Audio-only (16bit, 48kHz .wav), Audio-Video (720p H.264, AAC 48kHz, .mp4), and Video-only (no sound).  <b>Note, there are no song files for Actor_18.</b>\n",
        "\n",
        "\n",
        "### Names convetions and details\n",
        "#### Audio-only files {Audio_Speech_Actors}\n",
        "Audio-only files of all actors (01-24) are available as two separate zip files (~200 MB each):\n",
        "\n",
        "Speech file (Audio_Speech_Actors_01-24.zip, 215 MB) contains 1440 files: 60 trials per actor x 24 actors = 1440. \n",
        "\n",
        "#### Audio-Visual and Video-only files files {Video_Speech_Actor}\n",
        "Speech files (Video_Speech_Actor_01.zip to Video_Speech_Actor_24.zip) collectively contains 2880 files: 60 trials per actor x 2 modalities (AV, VO) x 24 actors = 2880.\n"
      ]
    },
    {
      "cell_type": "markdown",
      "metadata": {
        "id": "SEqbfYEvXNm-"
      },
      "source": [
        "### Download Data when UNI Link reachable"
      ]
    },
    {
      "cell_type": "code",
      "metadata": {
        "colab": {
          "base_uri": "https://localhost:8080/"
        },
        "id": "JAM4xOIHWN9s",
        "outputId": "94c7e29e-7f08-4e7d-a72b-fdc6f6ca9f52"
      },
      "source": [
        "!wget -O ravdess.zip http://nipg1.inf.elte.hu:8765/ravdess.zip "
      ],
      "execution_count": null,
      "outputs": [
        {
          "output_type": "stream",
          "text": [
            "--2020-12-15 14:52:48--  http://nipg1.inf.elte.hu:8765/ravdess.zip\n",
            "Resolving nipg1.inf.elte.hu (nipg1.inf.elte.hu)... 157.181.160.161\n",
            "Connecting to nipg1.inf.elte.hu (nipg1.inf.elte.hu)|157.181.160.161|:8765... connected.\n",
            "HTTP request sent, awaiting response... 200 OK\n",
            "Length: 13565818088 (13G) [application/zip]\n",
            "Saving to: ‘ravdess.zip’\n",
            "\n",
            "ravdess.zip         100%[===================>]  12.63G  16.2MB/s    in 11m 44s \n",
            "\n",
            "2020-12-15 15:04:33 (18.4 MB/s) - ‘ravdess.zip’ saved [13565818088/13565818088]\n",
            "\n"
          ],
          "name": "stdout"
        }
      ]
    },
    {
      "cell_type": "code",
      "metadata": {
        "id": "OGyt6elQXWCk"
      },
      "source": [
        "!unzip -q ravdess.zip "
      ],
      "execution_count": 3,
      "outputs": []
    },
    {
      "cell_type": "markdown",
      "metadata": {
        "id": "Xu8-HvPalsey"
      },
      "source": [
        "## Download and Setup **jumcutter**\n",
        "[Original Documentation](https://github.com/carykh/jumpcutter) "
      ]
    },
    {
      "cell_type": "code",
      "metadata": {
        "colab": {
          "base_uri": "https://localhost:8080/"
        },
        "id": "2JRz5vOTZPJ4",
        "outputId": "7eda1343-0aea-444e-a100-a8f62bf055da"
      },
      "source": [
        "!wget -O jumcutter.py https://raw.githubusercontent.com/carykh/jumpcutter/master/jumpcutter.py\n",
        "!wget -O requirements.txt https://raw.githubusercontent.com/carykh/jumpcutter/master/requirements.txt\n",
        "!pip install -r requirements.txt"
      ],
      "execution_count": null,
      "outputs": [
        {
          "output_type": "stream",
          "text": [
            "--2020-12-15 07:59:57--  https://raw.githubusercontent.com/carykh/jumpcutter/master/jumpcutter.py\n",
            "Resolving raw.githubusercontent.com (raw.githubusercontent.com)... 151.101.0.133, 151.101.64.133, 151.101.128.133, ...\n",
            "Connecting to raw.githubusercontent.com (raw.githubusercontent.com)|151.101.0.133|:443... connected.\n",
            "HTTP request sent, awaiting response... 200 OK\n",
            "Length: 8147 (8.0K) [text/plain]\n",
            "Saving to: ‘jumcutter.py’\n",
            "\n",
            "jumcutter.py        100%[===================>]   7.96K  --.-KB/s    in 0s      \n",
            "\n",
            "2020-12-15 07:59:57 (77.1 MB/s) - ‘jumcutter.py’ saved [8147/8147]\n",
            "\n",
            "--2020-12-15 07:59:57--  https://raw.githubusercontent.com/carykh/jumpcutter/master/requirements.txt\n",
            "Resolving raw.githubusercontent.com (raw.githubusercontent.com)... 151.101.0.133, 151.101.64.133, 151.101.128.133, ...\n",
            "Connecting to raw.githubusercontent.com (raw.githubusercontent.com)|151.101.0.133|:443... connected.\n",
            "HTTP request sent, awaiting response... 200 OK\n",
            "Length: 35 [text/plain]\n",
            "Saving to: ‘requirements.txt’\n",
            "\n",
            "requirements.txt    100%[===================>]      35  --.-KB/s    in 0s      \n",
            "\n",
            "2020-12-15 07:59:57 (2.19 MB/s) - ‘requirements.txt’ saved [35/35]\n",
            "\n",
            "Requirement already satisfied: Pillow in /usr/local/lib/python3.6/dist-packages (from -r requirements.txt (line 1)) (7.0.0)\n",
            "Collecting audiotsm\n",
            "  Downloading https://files.pythonhosted.org/packages/9c/7d/a214ff529fed9501452252d24231f54ab5afe8691b4f81e5d07d204070b4/audiotsm-0.1.2-py2.py3-none-any.whl\n",
            "Requirement already satisfied: scipy in /usr/local/lib/python3.6/dist-packages (from -r requirements.txt (line 3)) (1.4.1)\n",
            "Requirement already satisfied: numpy in /usr/local/lib/python3.6/dist-packages (from -r requirements.txt (line 4)) (1.18.5)\n",
            "Collecting pytube\n",
            "\u001b[?25l  Downloading https://files.pythonhosted.org/packages/63/2d/5b64e61f34d193b718aa39d322eddd7a17a3cc07f56a4b27b107ea234c02/pytube-10.0.0-py3-none-any.whl (40kB)\n",
            "\u001b[K     |████████████████████████████████| 40kB 4.7MB/s \n",
            "\u001b[?25hRequirement already satisfied: typing-extensions in /usr/local/lib/python3.6/dist-packages (from pytube->-r requirements.txt (line 5)) (3.7.4.3)\n",
            "Installing collected packages: audiotsm, pytube\n",
            "Successfully installed audiotsm-0.1.2 pytube-10.0.0\n"
          ],
          "name": "stdout"
        }
      ]
    },
    {
      "cell_type": "code",
      "metadata": {
        "colab": {
          "base_uri": "https://localhost:8080/",
          "height": 232
        },
        "id": "fFBDpI7YaA25",
        "outputId": "c8b4d77b-2b0e-42c5-d4d1-0a2f77aeb888"
      },
      "source": [
        "import os\n",
        "from tqdm import tqdm \n",
        "from typing import List\n",
        "from pathlib import Path\n",
        "\n",
        "ROOT_DIR = './ravdess'\n",
        "\n",
        "video_zips = sorted([zip_name for zip_name in os.listdir(ROOT_DIR) if zip_name.startswith('Video')])  \n",
        "audio_zips = sorted([zip_name for zip_name in os.listdir(ROOT_DIR) if zip_name.startswith('Audio')])  \n",
        "\n",
        "def unzip_video_speech(video_zip_paths: List[str]):\n",
        "  for video_index, video_zip in enumerate(video_zip_paths):  \n",
        "    source = f'{ROOT_DIR}/{video_zip}'\n",
        "    target = f'{ROOT_DIR}/videos'\n",
        "    \n",
        "    print(f'Unzip {source} TO {target}')\n",
        "\n",
        "    unzip_cmd = f'unzip -q {source} -d {target} &' # umpersant relies for continue of the execution, otherwise STOPS. \n",
        "    os.system(unzip_cmd)\n",
        "  return True\n",
        "\n",
        "def delete_zips(paths: List[str]):\n",
        "  \"\"\"Permanently delete zips.\n",
        "  \"\"\"\n",
        "  assert [False for path in paths if not path.endswith('*.zip')], 'paths have NOT .zip extensioned files.' \n",
        "  \n",
        "  for path in paths:\n",
        "    rm_cmd = f'rm -r {path} &' # umpersant relies for continue of the execution, otherwise STOPS. \n",
        "    os.system(rm_cmd)\n",
        "    print(f'Permanently deleted {path}')\n",
        "  return True\n",
        "\n",
        "\n",
        "def transform_videos():\n",
        "  \"\"\"\n",
        "  Notes:\n",
        "    Resulting Folder Structure for Particular Video \n",
        "    - Actor_01\n",
        "      - processed\n",
        "        processed_0.mp4\n",
        "        ...\n",
        "        processed_n.mp4\n",
        "      01-01-01-01-01-01.mp4\n",
        "      ...\n",
        "  Returns:\n",
        "    proceesed_videos_paths (List[str]): list of full pathes for processed videos\n",
        "  \"\"\"\n",
        "\n",
        "  proceesed_videos_paths = []\n",
        "\n",
        "  root_videos_path = Path(ROOT_DIR, 'videos') # stored all retrieved video_speech\n",
        "  video_sources = os.listdir(root_videos_path) # [Actor_01, ..., Actor_24]\n",
        "  \n",
        "  # @TODO delete --> reduce number of proccessing folders == 2\n",
        "  video_sources = video_sources[:2]\n",
        "\n",
        "  for _, folder in enumerate(tqdm(video_sources)):\n",
        "    _current = Path(root_videos_path / folder) # [./ravdess/videos/Actor_<>/]\n",
        "    _current_videos = os.listdir(_current)\n",
        "    \n",
        "    # create resulting folder for particular ACTOR folder\n",
        "    _output_path = f'{_current}/processed/' # [./ravdess/videos/Actor_<>/processed/]\n",
        "    mkdir_cmd = f'mkdir {_output_path} &'\n",
        "    os.system(mkdir_cmd)\n",
        "\n",
        "    for video_index, video in enumerate(tqdm(_current_videos)):\n",
        "      print(f'Processing {video}, {video_index+1}/{len(_current_videos)}')\n",
        "\n",
        "      output_file = f'{_output_path}/processed_{video_index}.mp4' \n",
        "\n",
        "      # get rid of silience in the beggining and end of the video\n",
        "      video_silence_cmd = f'python jumcutter.py --input_file {_current}/{video} --output_file {output_file} --sounded_speed 1 --silent_speed 999999 --frame_margin 2 --frame_rate 30'\n",
        "      os.system(video_silence_cmd)\n",
        "      \n",
        "      proceesed_videos_paths.append(output_file)\n",
        "\n",
        "  return proceesed_videos_paths"
      ],
      "execution_count": null,
      "outputs": [
        {
          "output_type": "error",
          "ename": "FileNotFoundError",
          "evalue": "ignored",
          "traceback": [
            "\u001b[0;31m---------------------------------------------------------------------------\u001b[0m",
            "\u001b[0;31mFileNotFoundError\u001b[0m                         Traceback (most recent call last)",
            "\u001b[0;32m<ipython-input-2-a2b67fd79d24>\u001b[0m in \u001b[0;36m<module>\u001b[0;34m()\u001b[0m\n\u001b[1;32m      6\u001b[0m \u001b[0mROOT_DIR\u001b[0m \u001b[0;34m=\u001b[0m \u001b[0;34m'./ravdess'\u001b[0m\u001b[0;34m\u001b[0m\u001b[0;34m\u001b[0m\u001b[0m\n\u001b[1;32m      7\u001b[0m \u001b[0;34m\u001b[0m\u001b[0m\n\u001b[0;32m----> 8\u001b[0;31m \u001b[0mvideo_zips\u001b[0m \u001b[0;34m=\u001b[0m \u001b[0msorted\u001b[0m\u001b[0;34m(\u001b[0m\u001b[0;34m[\u001b[0m\u001b[0mzip_name\u001b[0m \u001b[0;32mfor\u001b[0m \u001b[0mzip_name\u001b[0m \u001b[0;32min\u001b[0m \u001b[0mos\u001b[0m\u001b[0;34m.\u001b[0m\u001b[0mlistdir\u001b[0m\u001b[0;34m(\u001b[0m\u001b[0mROOT_DIR\u001b[0m\u001b[0;34m)\u001b[0m \u001b[0;32mif\u001b[0m \u001b[0mzip_name\u001b[0m\u001b[0;34m.\u001b[0m\u001b[0mstartswith\u001b[0m\u001b[0;34m(\u001b[0m\u001b[0;34m'Video'\u001b[0m\u001b[0;34m)\u001b[0m\u001b[0;34m]\u001b[0m\u001b[0;34m)\u001b[0m\u001b[0;34m\u001b[0m\u001b[0;34m\u001b[0m\u001b[0m\n\u001b[0m\u001b[1;32m      9\u001b[0m \u001b[0maudio_zips\u001b[0m \u001b[0;34m=\u001b[0m \u001b[0msorted\u001b[0m\u001b[0;34m(\u001b[0m\u001b[0;34m[\u001b[0m\u001b[0mzip_name\u001b[0m \u001b[0;32mfor\u001b[0m \u001b[0mzip_name\u001b[0m \u001b[0;32min\u001b[0m \u001b[0mos\u001b[0m\u001b[0;34m.\u001b[0m\u001b[0mlistdir\u001b[0m\u001b[0;34m(\u001b[0m\u001b[0mROOT_DIR\u001b[0m\u001b[0;34m)\u001b[0m \u001b[0;32mif\u001b[0m \u001b[0mzip_name\u001b[0m\u001b[0;34m.\u001b[0m\u001b[0mstartswith\u001b[0m\u001b[0;34m(\u001b[0m\u001b[0;34m'Audio'\u001b[0m\u001b[0;34m)\u001b[0m\u001b[0;34m]\u001b[0m\u001b[0;34m)\u001b[0m\u001b[0;34m\u001b[0m\u001b[0;34m\u001b[0m\u001b[0m\n\u001b[1;32m     10\u001b[0m \u001b[0;34m\u001b[0m\u001b[0m\n",
            "\u001b[0;31mFileNotFoundError\u001b[0m: [Errno 2] No such file or directory: './ravdess'"
          ]
        }
      ]
    },
    {
      "cell_type": "code",
      "metadata": {
        "colab": {
          "base_uri": "https://localhost:8080/"
        },
        "id": "jywvJdrKgyHU",
        "outputId": "88b161ee-0272-4b4a-84ca-33fa0ce70e5d"
      },
      "source": [
        "# -- main\n",
        "unzip_video_speech(video_zips)\n",
        "# @TODO add missed step for unzip audio_speech \n",
        "processed_videos = transform_videos()"
      ],
      "execution_count": null,
      "outputs": [
        {
          "output_type": "stream",
          "text": [
            "Audio_Speech_Actors_01-24.zip  Video_Speech_Actor_13.zip\n",
            "Video_Speech_Actor_01.zip      Video_Speech_Actor_14.zip\n",
            "Video_Speech_Actor_02.zip      Video_Speech_Actor_15.zip\n",
            "Video_Speech_Actor_03.zip      Video_Speech_Actor_16.zip\n",
            "Video_Speech_Actor_04.zip      Video_Speech_Actor_17.zip\n",
            "Video_Speech_Actor_05.zip      Video_Speech_Actor_18.zip\n",
            "Video_Speech_Actor_06.zip      Video_Speech_Actor_19.zip\n",
            "Video_Speech_Actor_07.zip      Video_Speech_Actor_20.zip\n",
            "Video_Speech_Actor_08.zip      Video_Speech_Actor_21.zip\n",
            "Video_Speech_Actor_09.zip      Video_Speech_Actor_22.zip\n",
            "Video_Speech_Actor_10.zip      Video_Speech_Actor_23.zip\n",
            "Video_Speech_Actor_11.zip      Video_Speech_Actor_24.zip\n",
            "Video_Speech_Actor_12.zip\n"
          ],
          "name": "stdout"
        }
      ]
    },
    {
      "cell_type": "code",
      "metadata": {
        "id": "o086DgiOoqiZ"
      },
      "source": [
        ""
      ],
      "execution_count": null,
      "outputs": []
    }
  ]
}