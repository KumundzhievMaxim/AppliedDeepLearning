{
  "nbformat": 4,
  "nbformat_minor": 0,
  "metadata": {
    "colab": {
      "name": " emotion_recognition.ipynb",
      "provenance": [],
      "toc_visible": true,
      "authorship_tag": "ABX9TyPjUioRpwLqv0uzWoH30q8f",
      "include_colab_link": true
    },
    "kernelspec": {
      "name": "python3",
      "display_name": "Python 3"
    }
  },
  "cells": [
    {
      "cell_type": "markdown",
      "metadata": {
        "id": "view-in-github",
        "colab_type": "text"
      },
      "source": [
        "<a href=\"https://colab.research.google.com/github/KumundzhievMaxim/AppliedDeepLearning/blob/main/EmotionRecognition/emotion_recognition.ipynb\" target=\"_parent\"><img src=\"https://colab.research.google.com/assets/colab-badge.svg\" alt=\"Open In Colab\"/></a>"
      ]
    },
    {
      "cell_type": "markdown",
      "metadata": {
        "id": "xDVZ9bm8R7d5"
      },
      "source": [
        "### Downloading the Data {When UNI Link unreacheable}"
      ]
    },
    {
      "cell_type": "code",
      "metadata": {
        "colab": {
          "base_uri": "https://localhost:8080/"
        },
        "id": "7_Po5yhnOWDO",
        "outputId": "f302cb76-bb1e-4821-d12d-fe507d481e3d"
      },
      "source": [
        "# Audio Song 1-24\n",
        "!wget -O Audio_Song_Actors_01-24.zip https://zenodo.org/record/1188976/files/Audio_Song_Actors_01-24.zip?download=1 "
      ],
      "execution_count": null,
      "outputs": [
        {
          "output_type": "stream",
          "text": [
            "--2020-12-15 07:30:35--  https://zenodo.org/record/1188976/files/Audio_Song_Actors_01-24.zip?download=1\n",
            "Resolving zenodo.org (zenodo.org)... 137.138.76.77\n",
            "Connecting to zenodo.org (zenodo.org)|137.138.76.77|:443... connected.\n",
            "HTTP request sent, awaiting response... 200 OK\n",
            "Length: 225505317 (215M) [application/octet-stream]\n",
            "Saving to: ‘Audio_Song_Actors_01-24.zip’\n",
            "\n",
            "Audio_Song_Actors_0 100%[===================>] 215.06M  7.43MB/s    in 31s     \n",
            "\n",
            "2020-12-15 07:31:07 (7.04 MB/s) - ‘Audio_Song_Actors_01-24.zip’ saved [225505317/225505317]\n",
            "\n"
          ],
          "name": "stdout"
        }
      ]
    },
    {
      "cell_type": "code",
      "metadata": {
        "colab": {
          "base_uri": "https://localhost:8080/"
        },
        "id": "CgSC41c5PS8w",
        "outputId": "a38cfc0e-a9b6-4fdf-80af-e3fda36d21ec"
      },
      "source": [
        "# Audio Speech\n",
        "!wget -O Audio_Speech_Actors_01-24.zip https://zenodo.org/record/1188976/files/Audio_Speech_Actors_01-24.zip?download=1"
      ],
      "execution_count": null,
      "outputs": [
        {
          "output_type": "stream",
          "text": [
            "--2020-12-15 07:31:57--  https://zenodo.org/record/1188976/files/Audio_Speech_Actors_01-24.zip?download=1\n",
            "Resolving zenodo.org (zenodo.org)... 137.138.76.77\n",
            "Connecting to zenodo.org (zenodo.org)|137.138.76.77|:443... connected.\n",
            "HTTP request sent, awaiting response... 200 OK\n",
            "Length: 208468073 (199M) [application/octet-stream]\n",
            "Saving to: ‘Audio_Speech_Actors_01-24.zip’\n",
            "\n",
            "Audio_Speech_Actors 100%[===================>] 198.81M  8.33MB/s    in 27s     \n",
            "\n",
            "2020-12-15 07:32:25 (7.41 MB/s) - ‘Audio_Speech_Actors_01-24.zip’ saved [208468073/208468073]\n",
            "\n"
          ],
          "name": "stdout"
        }
      ]
    },
    {
      "cell_type": "code",
      "metadata": {
        "colab": {
          "base_uri": "https://localhost:8080/"
        },
        "id": "gYPVmyCtPk51",
        "outputId": "6b1f9e2c-4f60-4797-fda1-48e79225b034"
      },
      "source": [
        "# Unzip Audio Song 1-24 (./song)\n",
        "!mkdir ./song && unzip /content/Audio_Song_Actors_01-24.zip -d ./song && rm -r /content/Audio_Song_Actors_01-24.zip"
      ],
      "execution_count": null,
      "outputs": [
        {
          "output_type": "stream",
          "text": [
            "mkdir: cannot create directory ‘./song’: File exists\n"
          ],
          "name": "stdout"
        }
      ]
    },
    {
      "cell_type": "code",
      "metadata": {
        "id": "xMr99_zxP-_Q"
      },
      "source": [
        "# Unzip Audio Speech 1-24 (./speech)\n",
        "!mkdir ./speech && unzip -q /content/Audio_Speech_Actors_01-24.zip -d ./speech  && rm -r /content/Audio_Speech_Actors_01-24.zip"
      ],
      "execution_count": null,
      "outputs": []
    },
    {
      "cell_type": "code",
      "metadata": {
        "colab": {
          "base_uri": "https://localhost:8080/"
        },
        "id": "OvWdh4oXT_2k",
        "outputId": "29dbb4ad-4d92-46f4-b07f-8de6c3b0ac54"
      },
      "source": [
        "# Downalod Video Song Actor 1-9\n",
        "import os\n",
        "\n",
        "for video_index in range(1, 10):\n",
        "  down_cmd = f'wget -O Video_Song_Actor_0{video_index}.zip https://zenodo.org/record/1188976/files/Video_Song_Actor_0{video_index}.zip?download=1'\n",
        "  dir_cmd = f'mkdir ./video/Actor_0{video_index}'\n",
        "  unzip_cmd = f'unzip -q Video_Song_Actor_0{video_index}.zip -d ./video/Actor_0{video_index}/'\n",
        "  rm_cmd = f'rm -r Video_Song_Actor_0{video_index}.zip'\n",
        "\n",
        "  print(f'Downloading Video_{video_index} zip')\n",
        "  os.system(down_cmd)\n",
        "  \n",
        "  print('Created folder for particular Video zip')\n",
        "  os.system(dir_cmd)\n",
        "  \n",
        "  print('Unzipping particular Video')\n",
        "  os.system(unzip_cmd)\n",
        "\n",
        "  print('Deleting particular Video zip')\n",
        "  os.system(rm_cmd)\n"
      ],
      "execution_count": null,
      "outputs": [
        {
          "output_type": "stream",
          "text": [
            "Downloading Video_1 zip\n",
            "Created folder for particular Video zip\n",
            "Unzipping particular Video\n",
            "Deleting particular Video zip\n",
            "Downloading Video_2 zip\n",
            "Created folder for particular Video zip\n",
            "Unzipping particular Video\n",
            "Deleting particular Video zip\n",
            "Downloading Video_3 zip\n",
            "Created folder for particular Video zip\n",
            "Unzipping particular Video\n",
            "Deleting particular Video zip\n",
            "Downloading Video_4 zip\n",
            "Created folder for particular Video zip\n",
            "Unzipping particular Video\n",
            "Deleting particular Video zip\n",
            "Downloading Video_5 zip\n"
          ],
          "name": "stdout"
        }
      ]
    },
    {
      "cell_type": "markdown",
      "metadata": {
        "id": "0jU4RO-dlnW5"
      },
      "source": [
        "# ENTRY POINT"
      ]
    },
    {
      "cell_type": "markdown",
      "metadata": {
        "id": "hBv5dryRVWXV"
      },
      "source": [
        "## Data Description\n",
        "The RAVDESS contains **7356** files. \n",
        "Each file was rated **10 times** on emotional validity, intensity, and genuineness\n",
        "\n",
        "[Video example](https://www.youtube.com/watch?v=Y7OQoNEu3dY)\n",
        "\n",
        "The database contains 24 professional actors (12 female, 12 male), vocalizing two lexically-matched statements in a neutral North American accent. Speech includes calm, happy, sad, angry, fearful, surprise, and disgust expressions.\n",
        "\n",
        "\n",
        "All conditions are available in three modality formats: Audio-only (16bit, 48kHz .wav), Audio-Video (720p H.264, AAC 48kHz, .mp4), and Video-only (no sound).  <b>Note, there are no song files for Actor_18.</b>\n",
        "\n",
        "\n",
        "### Names convetions and details\n",
        "#### Audio-only files {Audio_Speech_Actors}\n",
        "Audio-only files of all actors (01-24) are available as two separate zip files (~200 MB each):\n",
        "\n",
        "Speech file (Audio_Speech_Actors_01-24.zip, 215 MB) contains 1440 files: 60 trials per actor x 24 actors = 1440. \n",
        "\n",
        "#### Audio-Visual and Video-only files files {Video_Speech_Actor}\n",
        "Speech files (Video_Speech_Actor_01.zip to Video_Speech_Actor_24.zip) collectively contains 2880 files: 60 trials per actor x 2 modalities (AV, VO) x 24 actors = 2880.\n"
      ]
    },
    {
      "cell_type": "markdown",
      "metadata": {
        "id": "SEqbfYEvXNm-"
      },
      "source": [
        "### Download Data when UNI Link reachable"
      ]
    },
    {
      "cell_type": "code",
      "metadata": {
        "colab": {
          "base_uri": "https://localhost:8080/"
        },
        "id": "JAM4xOIHWN9s",
        "outputId": "94c7e29e-7f08-4e7d-a72b-fdc6f6ca9f52"
      },
      "source": [
        "!wget -O ravdess.zip http://nipg1.inf.elte.hu:8765/ravdess.zip "
      ],
      "execution_count": null,
      "outputs": [
        {
          "output_type": "stream",
          "text": [
            "--2020-12-15 14:52:48--  http://nipg1.inf.elte.hu:8765/ravdess.zip\n",
            "Resolving nipg1.inf.elte.hu (nipg1.inf.elte.hu)... 157.181.160.161\n",
            "Connecting to nipg1.inf.elte.hu (nipg1.inf.elte.hu)|157.181.160.161|:8765... connected.\n",
            "HTTP request sent, awaiting response... 200 OK\n",
            "Length: 13565818088 (13G) [application/zip]\n",
            "Saving to: ‘ravdess.zip’\n",
            "\n",
            "ravdess.zip         100%[===================>]  12.63G  16.2MB/s    in 11m 44s \n",
            "\n",
            "2020-12-15 15:04:33 (18.4 MB/s) - ‘ravdess.zip’ saved [13565818088/13565818088]\n",
            "\n"
          ],
          "name": "stdout"
        }
      ]
    },
    {
      "cell_type": "code",
      "metadata": {
        "id": "OGyt6elQXWCk"
      },
      "source": [
        "!unzip -q ravdess.zip "
      ],
      "execution_count": 3,
      "outputs": []
    },
    {
      "cell_type": "markdown",
      "metadata": {
        "id": "Xu8-HvPalsey"
      },
      "source": [
        "## Download and Setup **jumcutter**\n",
        "[Original Documentation](https://github.com/carykh/jumpcutter) "
      ]
    },
    {
      "cell_type": "code",
      "metadata": {
        "colab": {
          "base_uri": "https://localhost:8080/"
        },
        "id": "2JRz5vOTZPJ4",
        "outputId": "be1124a1-c5d1-4d88-9cfd-730f8f3b38cf"
      },
      "source": [
        "!wget -O jumcutter.py https://raw.githubusercontent.com/carykh/jumpcutter/master/jumpcutter.py\n",
        "!wget -O requirements.txt https://raw.githubusercontent.com/carykh/jumpcutter/master/requirements.txt\n",
        "!pip install -r requirements.txt"
      ],
      "execution_count": 4,
      "outputs": [
        {
          "output_type": "stream",
          "text": [
            "--2020-12-15 17:08:04--  https://raw.githubusercontent.com/carykh/jumpcutter/master/jumpcutter.py\n",
            "Resolving raw.githubusercontent.com (raw.githubusercontent.com)... 151.101.0.133, 151.101.64.133, 151.101.128.133, ...\n",
            "Connecting to raw.githubusercontent.com (raw.githubusercontent.com)|151.101.0.133|:443... connected.\n",
            "HTTP request sent, awaiting response... 200 OK\n",
            "Length: 8147 (8.0K) [text/plain]\n",
            "Saving to: ‘jumcutter.py’\n",
            "\n",
            "jumcutter.py        100%[===================>]   7.96K  --.-KB/s    in 0s      \n",
            "\n",
            "2020-12-15 17:08:05 (63.2 MB/s) - ‘jumcutter.py’ saved [8147/8147]\n",
            "\n",
            "--2020-12-15 17:08:05--  https://raw.githubusercontent.com/carykh/jumpcutter/master/requirements.txt\n",
            "Resolving raw.githubusercontent.com (raw.githubusercontent.com)... 151.101.0.133, 151.101.64.133, 151.101.128.133, ...\n",
            "Connecting to raw.githubusercontent.com (raw.githubusercontent.com)|151.101.0.133|:443... connected.\n",
            "HTTP request sent, awaiting response... 200 OK\n",
            "Length: 35 [text/plain]\n",
            "Saving to: ‘requirements.txt’\n",
            "\n",
            "requirements.txt    100%[===================>]      35  --.-KB/s    in 0s      \n",
            "\n",
            "2020-12-15 17:08:05 (1.11 MB/s) - ‘requirements.txt’ saved [35/35]\n",
            "\n",
            "Requirement already satisfied: Pillow in /usr/local/lib/python3.6/dist-packages (from -r requirements.txt (line 1)) (7.0.0)\n",
            "Collecting audiotsm\n",
            "  Downloading https://files.pythonhosted.org/packages/9c/7d/a214ff529fed9501452252d24231f54ab5afe8691b4f81e5d07d204070b4/audiotsm-0.1.2-py2.py3-none-any.whl\n",
            "Requirement already satisfied: scipy in /usr/local/lib/python3.6/dist-packages (from -r requirements.txt (line 3)) (1.4.1)\n",
            "Requirement already satisfied: numpy in /usr/local/lib/python3.6/dist-packages (from -r requirements.txt (line 4)) (1.18.5)\n",
            "Collecting pytube\n",
            "\u001b[?25l  Downloading https://files.pythonhosted.org/packages/63/2d/5b64e61f34d193b718aa39d322eddd7a17a3cc07f56a4b27b107ea234c02/pytube-10.0.0-py3-none-any.whl (40kB)\n",
            "\u001b[K     |████████████████████████████████| 40kB 3.8MB/s \n",
            "\u001b[?25hRequirement already satisfied: typing-extensions in /usr/local/lib/python3.6/dist-packages (from pytube->-r requirements.txt (line 5)) (3.7.4.3)\n",
            "Installing collected packages: audiotsm, pytube\n",
            "Successfully installed audiotsm-0.1.2 pytube-10.0.0\n"
          ],
          "name": "stdout"
        }
      ]
    },
    {
      "cell_type": "code",
      "metadata": {
        "id": "fFBDpI7YaA25"
      },
      "source": [
        "import os\n",
        "from tqdm import tqdm \n",
        "from typing import List\n",
        "from pathlib import Path\n",
        "\n",
        "def _unzip(path: List[str], type=None):\n",
        "  if type == 'video':\n",
        "    target = Path(ROOT_DIR, 'videos')\n",
        "    target.mkdir(exist_ok=True)\n",
        "\n",
        "  else:\n",
        "    target = Path(ROOT_DIR, 'audio')\n",
        "    target.mkdir(exist_ok=True)\n",
        "\n",
        "  for video_index, video_zip in enumerate(path):  \n",
        "    source = f'{ROOT_DIR}/{video_zip}'\n",
        "    print(f'Unzip {source} TO {target}')\n",
        "\n",
        "    unzip_cmd = f'unzip -q {source} -d {target} &' # umpersant relies for continue of the execution, otherwise STOPS. \n",
        "    os.system(unzip_cmd)\n",
        "\n",
        "  return True\n",
        "\n",
        "def delete_zips(paths: List[str]):\n",
        "  \"\"\"Permanently delete zips.\n",
        "  \"\"\"\n",
        "  assert [False for path in paths if not path.endswith('*.zip')], 'paths have NOT .zip extensioned files.' \n",
        "  \n",
        "  for path in paths:\n",
        "    rm_cmd = f'rm -r {path} &' # umpersant relies for continue of the execution, otherwise STOPS. \n",
        "    os.system(rm_cmd)\n",
        "    print(f'Permanently deleted {path}')\n",
        "  return True\n",
        "\n",
        "\n",
        "def filter_silenced_videos():\n",
        "  \"\"\"Remove the silence parts from the beginning\n",
        "   and the end of video clips.\n",
        "\n",
        "  Notes:\n",
        "    Resulting Folder Structure for Particular Video \n",
        "    - Actor_01\n",
        "      01-01-01-01-01-01.mp4\n",
        "      ...\n",
        "  Returns:\n",
        "    Boolean True, whether all videos were preproccessed.  \n",
        "  \"\"\"\n",
        "\n",
        "  video_folders_paths = os.listdir(ROOT_VIDEOS) # [Actor_01, ..., Actor_24]\n",
        "  \n",
        "  for _, video_folder in enumerate(tqdm(video_folders_paths)):\n",
        "    _current = Path(ROOT_VIDEOS, video_folder) # [./ravdess/videos/Actor_<>/]\n",
        "    _current_videos = os.listdir(_current) # [./ravdess/videos/Actor_<>/01-01...-.mp4, ...]\n",
        "    \n",
        "    for video_index, video in enumerate(tqdm(_current_videos)):\n",
        "      print(f'Processing {video}, {video_index+1}/{len(_current_videos)}')\n",
        "      # get rid of silience in the beggining and end of the video\n",
        "      video_silence_cmd = f'python jumcutter.py --input_file {video} --output_file {video} --sounded_speed 1 --silent_speed 999999 --frame_margin 2 --frame_rate 30'\n",
        "      os.system(video_silence_cmd)\n",
        "  return True"
      ],
      "execution_count": 23,
      "outputs": []
    },
    {
      "cell_type": "code",
      "metadata": {
        "colab": {
          "base_uri": "https://localhost:8080/"
        },
        "id": "jywvJdrKgyHU",
        "outputId": "de96165c-75aa-4144-d9a5-1a697a6707bd"
      },
      "source": [
        "# -- main\n",
        "\n",
        "ROOT_DIR = './ravdess'\n",
        "ROOT_VIDEOS = './ravdess/videos'\n",
        "\n",
        "video_zips = sorted([zip_name for zip_name in os.listdir(ROOT_DIR) if zip_name.startswith('Video')])  \n",
        " \n",
        "TOY_TARGET = video_zips[0]\n",
        "\n",
        "_unzip([TOY_TARGET], type='video')\n",
        "filter_silenced_videos()\n",
        "\n"
      ],
      "execution_count": 24,
      "outputs": [
        {
          "output_type": "stream",
          "text": [
            "  0%|          | 0/3 [00:00<?, ?it/s]\n",
            "  0%|          | 0/120 [00:00<?, ?it/s]\u001b[A"
          ],
          "name": "stderr"
        },
        {
          "output_type": "stream",
          "text": [
            "Unzip ./ravdess/Video_Speech_Actor_01.zip TO ravdess/videos\n",
            "Processing 01-01-07-01-02-01-03.mp4, 1/120\n"
          ],
          "name": "stdout"
        },
        {
          "output_type": "stream",
          "text": [
            "\n",
            "  1%|          | 1/120 [00:02<05:01,  2.54s/it]\u001b[A"
          ],
          "name": "stderr"
        },
        {
          "output_type": "stream",
          "text": [
            "Processing 02-01-02-02-02-01-03.mp4, 2/120\n"
          ],
          "name": "stdout"
        },
        {
          "output_type": "stream",
          "text": [
            "\n",
            "  2%|▏         | 2/120 [00:02<03:43,  1.90s/it]\u001b[A"
          ],
          "name": "stderr"
        },
        {
          "output_type": "stream",
          "text": [
            "Processing 01-01-05-01-02-02-03.mp4, 3/120\n"
          ],
          "name": "stdout"
        },
        {
          "output_type": "stream",
          "text": [
            "\n",
            "  2%|▎         | 3/120 [00:03<02:49,  1.45s/it]\u001b[A"
          ],
          "name": "stderr"
        },
        {
          "output_type": "stream",
          "text": [
            "Processing 02-01-04-01-01-01-03.mp4, 4/120\n"
          ],
          "name": "stdout"
        },
        {
          "output_type": "stream",
          "text": [
            "\n",
            "  3%|▎         | 4/120 [00:03<02:12,  1.14s/it]\u001b[A"
          ],
          "name": "stderr"
        },
        {
          "output_type": "stream",
          "text": [
            "Processing 02-01-05-02-01-01-03.mp4, 5/120\n"
          ],
          "name": "stdout"
        },
        {
          "output_type": "stream",
          "text": [
            "\n",
            "  4%|▍         | 5/120 [00:04<01:46,  1.08it/s]\u001b[A"
          ],
          "name": "stderr"
        },
        {
          "output_type": "stream",
          "text": [
            "Processing 01-01-04-01-02-01-03.mp4, 6/120\n"
          ],
          "name": "stdout"
        },
        {
          "output_type": "stream",
          "text": [
            "\n",
            "  5%|▌         | 6/120 [00:04<01:28,  1.29it/s]\u001b[A"
          ],
          "name": "stderr"
        },
        {
          "output_type": "stream",
          "text": [
            "Processing 02-01-08-01-02-01-03.mp4, 7/120\n"
          ],
          "name": "stdout"
        },
        {
          "output_type": "stream",
          "text": [
            "\n",
            "  6%|▌         | 7/120 [00:05<01:15,  1.51it/s]\u001b[A"
          ],
          "name": "stderr"
        },
        {
          "output_type": "stream",
          "text": [
            "Processing 02-01-05-02-02-02-03.mp4, 8/120\n"
          ],
          "name": "stdout"
        },
        {
          "output_type": "stream",
          "text": [
            "\n",
            "  7%|▋         | 8/120 [00:05<01:06,  1.68it/s]\u001b[A"
          ],
          "name": "stderr"
        },
        {
          "output_type": "stream",
          "text": [
            "Processing 02-01-05-02-02-01-03.mp4, 9/120\n"
          ],
          "name": "stdout"
        },
        {
          "output_type": "stream",
          "text": [
            "\n",
            "  8%|▊         | 9/120 [00:05<01:00,  1.85it/s]\u001b[A"
          ],
          "name": "stderr"
        },
        {
          "output_type": "stream",
          "text": [
            "Processing 01-01-05-02-02-01-03.mp4, 10/120\n"
          ],
          "name": "stdout"
        },
        {
          "output_type": "stream",
          "text": [
            "\n",
            "  8%|▊         | 10/120 [00:06<00:55,  1.99it/s]\u001b[A"
          ],
          "name": "stderr"
        },
        {
          "output_type": "stream",
          "text": [
            "Processing 01-01-06-02-01-02-03.mp4, 11/120\n"
          ],
          "name": "stdout"
        },
        {
          "output_type": "stream",
          "text": [
            "\n",
            "  9%|▉         | 11/120 [00:06<00:51,  2.10it/s]\u001b[A"
          ],
          "name": "stderr"
        },
        {
          "output_type": "stream",
          "text": [
            "Processing 02-01-03-02-02-02-03.mp4, 12/120\n"
          ],
          "name": "stdout"
        },
        {
          "output_type": "stream",
          "text": [
            "\n",
            " 10%|█         | 12/120 [00:07<00:49,  2.18it/s]\u001b[A"
          ],
          "name": "stderr"
        },
        {
          "output_type": "stream",
          "text": [
            "Processing 01-01-07-02-01-02-03.mp4, 13/120\n"
          ],
          "name": "stdout"
        },
        {
          "output_type": "stream",
          "text": [
            "\n",
            " 11%|█         | 13/120 [00:07<00:48,  2.22it/s]\u001b[A"
          ],
          "name": "stderr"
        },
        {
          "output_type": "stream",
          "text": [
            "Processing 02-01-01-01-01-01-03.mp4, 14/120\n"
          ],
          "name": "stdout"
        },
        {
          "output_type": "stream",
          "text": [
            "\n",
            " 12%|█▏        | 14/120 [00:07<00:46,  2.26it/s]\u001b[A"
          ],
          "name": "stderr"
        },
        {
          "output_type": "stream",
          "text": [
            "Processing 01-01-02-01-01-01-03.mp4, 15/120\n"
          ],
          "name": "stdout"
        },
        {
          "output_type": "stream",
          "text": [
            "\n",
            " 12%|█▎        | 15/120 [00:08<00:45,  2.31it/s]\u001b[A"
          ],
          "name": "stderr"
        },
        {
          "output_type": "stream",
          "text": [
            "Processing 02-01-07-01-01-02-03.mp4, 16/120\n"
          ],
          "name": "stdout"
        },
        {
          "output_type": "stream",
          "text": [
            "\n",
            " 13%|█▎        | 16/120 [00:08<00:44,  2.32it/s]\u001b[A"
          ],
          "name": "stderr"
        },
        {
          "output_type": "stream",
          "text": [
            "Processing 01-01-02-01-01-02-03.mp4, 17/120\n"
          ],
          "name": "stdout"
        },
        {
          "output_type": "stream",
          "text": [
            "\n",
            " 14%|█▍        | 17/120 [00:09<00:44,  2.32it/s]\u001b[A"
          ],
          "name": "stderr"
        },
        {
          "output_type": "stream",
          "text": [
            "Processing 01-01-05-01-02-01-03.mp4, 18/120\n"
          ],
          "name": "stdout"
        },
        {
          "output_type": "stream",
          "text": [
            "\n",
            " 15%|█▌        | 18/120 [00:09<00:43,  2.33it/s]\u001b[A"
          ],
          "name": "stderr"
        },
        {
          "output_type": "stream",
          "text": [
            "Processing 02-01-07-02-02-01-03.mp4, 19/120\n"
          ],
          "name": "stdout"
        },
        {
          "output_type": "stream",
          "text": [
            "\n",
            " 16%|█▌        | 19/120 [00:10<00:43,  2.32it/s]\u001b[A"
          ],
          "name": "stderr"
        },
        {
          "output_type": "stream",
          "text": [
            "Processing 01-01-06-01-02-02-03.mp4, 20/120\n"
          ],
          "name": "stdout"
        },
        {
          "output_type": "stream",
          "text": [
            "\n",
            " 17%|█▋        | 20/120 [00:10<00:43,  2.30it/s]\u001b[A"
          ],
          "name": "stderr"
        },
        {
          "output_type": "stream",
          "text": [
            "Processing 02-01-05-01-02-02-03.mp4, 21/120\n"
          ],
          "name": "stdout"
        },
        {
          "output_type": "stream",
          "text": [
            "\n",
            " 18%|█▊        | 21/120 [00:10<00:42,  2.32it/s]\u001b[A"
          ],
          "name": "stderr"
        },
        {
          "output_type": "stream",
          "text": [
            "Processing 02-01-02-02-01-02-03.mp4, 22/120\n"
          ],
          "name": "stdout"
        },
        {
          "output_type": "stream",
          "text": [
            "\n",
            " 18%|█▊        | 22/120 [00:11<00:41,  2.35it/s]\u001b[A"
          ],
          "name": "stderr"
        },
        {
          "output_type": "stream",
          "text": [
            "Processing 01-01-02-02-02-01-03.mp4, 23/120\n"
          ],
          "name": "stdout"
        },
        {
          "output_type": "stream",
          "text": [
            "\n",
            " 19%|█▉        | 23/120 [00:11<00:41,  2.34it/s]\u001b[A"
          ],
          "name": "stderr"
        },
        {
          "output_type": "stream",
          "text": [
            "Processing 01-01-05-02-01-02-03.mp4, 24/120\n"
          ],
          "name": "stdout"
        },
        {
          "output_type": "stream",
          "text": [
            "\n",
            " 20%|██        | 24/120 [00:12<00:41,  2.33it/s]\u001b[A"
          ],
          "name": "stderr"
        },
        {
          "output_type": "stream",
          "text": [
            "Processing 02-01-06-02-02-01-03.mp4, 25/120\n"
          ],
          "name": "stdout"
        },
        {
          "output_type": "stream",
          "text": [
            "\n",
            " 21%|██        | 25/120 [00:12<00:41,  2.31it/s]\u001b[A"
          ],
          "name": "stderr"
        },
        {
          "output_type": "stream",
          "text": [
            "Processing 02-01-05-01-01-01-03.mp4, 26/120\n"
          ],
          "name": "stdout"
        },
        {
          "output_type": "stream",
          "text": [
            "\n",
            " 22%|██▏       | 26/120 [00:13<00:41,  2.27it/s]\u001b[A"
          ],
          "name": "stderr"
        },
        {
          "output_type": "stream",
          "text": [
            "Processing 02-01-02-02-02-02-03.mp4, 27/120\n"
          ],
          "name": "stdout"
        },
        {
          "output_type": "stream",
          "text": [
            "\n",
            " 22%|██▎       | 27/120 [00:13<00:40,  2.31it/s]\u001b[A"
          ],
          "name": "stderr"
        },
        {
          "output_type": "stream",
          "text": [
            "Processing 02-01-04-02-01-02-03.mp4, 28/120\n"
          ],
          "name": "stdout"
        },
        {
          "output_type": "stream",
          "text": [
            "\n",
            " 23%|██▎       | 28/120 [00:13<00:39,  2.31it/s]\u001b[A"
          ],
          "name": "stderr"
        },
        {
          "output_type": "stream",
          "text": [
            "Processing 02-01-01-01-01-02-03.mp4, 29/120\n"
          ],
          "name": "stdout"
        },
        {
          "output_type": "stream",
          "text": [
            "\n",
            " 24%|██▍       | 29/120 [00:14<00:39,  2.30it/s]\u001b[A"
          ],
          "name": "stderr"
        },
        {
          "output_type": "stream",
          "text": [
            "Processing 01-01-06-02-01-01-03.mp4, 30/120\n"
          ],
          "name": "stdout"
        },
        {
          "output_type": "stream",
          "text": [
            "\n",
            " 25%|██▌       | 30/120 [00:14<00:38,  2.31it/s]\u001b[A"
          ],
          "name": "stderr"
        },
        {
          "output_type": "stream",
          "text": [
            "Processing 01-01-02-01-02-01-03.mp4, 31/120\n"
          ],
          "name": "stdout"
        },
        {
          "output_type": "stream",
          "text": [
            "\n",
            " 26%|██▌       | 31/120 [00:15<00:38,  2.33it/s]\u001b[A"
          ],
          "name": "stderr"
        },
        {
          "output_type": "stream",
          "text": [
            "Processing 01-01-03-02-01-01-03.mp4, 32/120\n"
          ],
          "name": "stdout"
        },
        {
          "output_type": "stream",
          "text": [
            "\n",
            " 27%|██▋       | 32/120 [00:15<00:37,  2.35it/s]\u001b[A"
          ],
          "name": "stderr"
        },
        {
          "output_type": "stream",
          "text": [
            "Processing 01-01-03-02-02-02-03.mp4, 33/120\n"
          ],
          "name": "stdout"
        },
        {
          "output_type": "stream",
          "text": [
            "\n",
            " 28%|██▊       | 33/120 [00:16<00:36,  2.36it/s]\u001b[A"
          ],
          "name": "stderr"
        },
        {
          "output_type": "stream",
          "text": [
            "Processing 01-01-07-01-01-02-03.mp4, 34/120\n"
          ],
          "name": "stdout"
        },
        {
          "output_type": "stream",
          "text": [
            "\n",
            " 28%|██▊       | 34/120 [00:16<00:36,  2.38it/s]\u001b[A"
          ],
          "name": "stderr"
        },
        {
          "output_type": "stream",
          "text": [
            "Processing 02-01-08-01-02-02-03.mp4, 35/120\n"
          ],
          "name": "stdout"
        },
        {
          "output_type": "stream",
          "text": [
            "\n",
            " 29%|██▉       | 35/120 [00:16<00:35,  2.36it/s]\u001b[A"
          ],
          "name": "stderr"
        },
        {
          "output_type": "stream",
          "text": [
            "Processing 02-01-08-02-02-02-03.mp4, 36/120\n"
          ],
          "name": "stdout"
        },
        {
          "output_type": "stream",
          "text": [
            "\n",
            " 30%|███       | 36/120 [00:17<00:35,  2.38it/s]\u001b[A"
          ],
          "name": "stderr"
        },
        {
          "output_type": "stream",
          "text": [
            "Processing 01-01-02-02-02-02-03.mp4, 37/120\n"
          ],
          "name": "stdout"
        },
        {
          "output_type": "stream",
          "text": [
            "\n",
            " 31%|███       | 37/120 [00:17<00:34,  2.38it/s]\u001b[A"
          ],
          "name": "stderr"
        },
        {
          "output_type": "stream",
          "text": [
            "Processing 02-01-01-01-02-01-03.mp4, 38/120\n"
          ],
          "name": "stdout"
        },
        {
          "output_type": "stream",
          "text": [
            "\n",
            " 32%|███▏      | 38/120 [00:18<00:34,  2.38it/s]\u001b[A"
          ],
          "name": "stderr"
        },
        {
          "output_type": "stream",
          "text": [
            "Processing 01-01-03-01-01-02-03.mp4, 39/120\n"
          ],
          "name": "stdout"
        },
        {
          "output_type": "stream",
          "text": [
            "\n",
            " 32%|███▎      | 39/120 [00:18<00:34,  2.37it/s]\u001b[A"
          ],
          "name": "stderr"
        },
        {
          "output_type": "stream",
          "text": [
            "Processing 02-01-03-02-02-01-03.mp4, 40/120\n"
          ],
          "name": "stdout"
        },
        {
          "output_type": "stream",
          "text": [
            "\n",
            " 33%|███▎      | 40/120 [00:19<00:33,  2.36it/s]\u001b[A"
          ],
          "name": "stderr"
        },
        {
          "output_type": "stream",
          "text": [
            "Processing 01-01-08-02-01-01-03.mp4, 41/120\n"
          ],
          "name": "stdout"
        },
        {
          "output_type": "stream",
          "text": [
            "\n",
            " 34%|███▍      | 41/120 [00:19<00:33,  2.37it/s]\u001b[A"
          ],
          "name": "stderr"
        },
        {
          "output_type": "stream",
          "text": [
            "Processing 02-01-06-02-01-01-03.mp4, 42/120\n"
          ],
          "name": "stdout"
        },
        {
          "output_type": "stream",
          "text": [
            "\n",
            " 35%|███▌      | 42/120 [00:19<00:32,  2.37it/s]\u001b[A"
          ],
          "name": "stderr"
        },
        {
          "output_type": "stream",
          "text": [
            "Processing 01-01-08-01-01-01-03.mp4, 43/120\n"
          ],
          "name": "stdout"
        },
        {
          "output_type": "stream",
          "text": [
            "\n",
            " 36%|███▌      | 43/120 [00:20<00:32,  2.37it/s]\u001b[A"
          ],
          "name": "stderr"
        },
        {
          "output_type": "stream",
          "text": [
            "Processing 02-01-08-02-01-01-03.mp4, 44/120\n"
          ],
          "name": "stdout"
        },
        {
          "output_type": "stream",
          "text": [
            "\n",
            " 37%|███▋      | 44/120 [00:20<00:32,  2.34it/s]\u001b[A"
          ],
          "name": "stderr"
        },
        {
          "output_type": "stream",
          "text": [
            "Processing 02-01-05-01-02-01-03.mp4, 45/120\n"
          ],
          "name": "stdout"
        },
        {
          "output_type": "stream",
          "text": [
            "\n",
            " 38%|███▊      | 45/120 [00:21<00:32,  2.33it/s]\u001b[A"
          ],
          "name": "stderr"
        },
        {
          "output_type": "stream",
          "text": [
            "Processing 01-01-03-01-02-01-03.mp4, 46/120\n"
          ],
          "name": "stdout"
        },
        {
          "output_type": "stream",
          "text": [
            "\n",
            " 38%|███▊      | 46/120 [00:21<00:31,  2.36it/s]\u001b[A"
          ],
          "name": "stderr"
        },
        {
          "output_type": "stream",
          "text": [
            "Processing 01-01-01-01-02-02-03.mp4, 47/120\n"
          ],
          "name": "stdout"
        },
        {
          "output_type": "stream",
          "text": [
            "\n",
            " 39%|███▉      | 47/120 [00:22<00:31,  2.34it/s]\u001b[A"
          ],
          "name": "stderr"
        },
        {
          "output_type": "stream",
          "text": [
            "Processing 01-01-07-01-01-01-03.mp4, 48/120\n"
          ],
          "name": "stdout"
        },
        {
          "output_type": "stream",
          "text": [
            "\n",
            " 40%|████      | 48/120 [00:22<00:30,  2.35it/s]\u001b[A"
          ],
          "name": "stderr"
        },
        {
          "output_type": "stream",
          "text": [
            "Processing 02-01-03-01-01-02-03.mp4, 49/120\n"
          ],
          "name": "stdout"
        },
        {
          "output_type": "stream",
          "text": [
            "\n",
            " 41%|████      | 49/120 [00:22<00:29,  2.38it/s]\u001b[A"
          ],
          "name": "stderr"
        },
        {
          "output_type": "stream",
          "text": [
            "Processing 01-01-02-02-01-02-03.mp4, 50/120\n"
          ],
          "name": "stdout"
        },
        {
          "output_type": "stream",
          "text": [
            "\n",
            " 42%|████▏     | 50/120 [00:23<00:29,  2.37it/s]\u001b[A"
          ],
          "name": "stderr"
        },
        {
          "output_type": "stream",
          "text": [
            "Processing 02-01-07-02-01-02-03.mp4, 51/120\n"
          ],
          "name": "stdout"
        },
        {
          "output_type": "stream",
          "text": [
            "\n",
            " 42%|████▎     | 51/120 [00:23<00:28,  2.40it/s]\u001b[A"
          ],
          "name": "stderr"
        },
        {
          "output_type": "stream",
          "text": [
            "Processing 01-01-03-02-01-02-03.mp4, 52/120\n"
          ],
          "name": "stdout"
        },
        {
          "output_type": "stream",
          "text": [
            "\n",
            " 43%|████▎     | 52/120 [00:24<00:28,  2.39it/s]\u001b[A"
          ],
          "name": "stderr"
        },
        {
          "output_type": "stream",
          "text": [
            "Processing 01-01-04-02-01-01-03.mp4, 53/120\n"
          ],
          "name": "stdout"
        },
        {
          "output_type": "stream",
          "text": [
            "\n",
            " 44%|████▍     | 53/120 [00:24<00:28,  2.38it/s]\u001b[A"
          ],
          "name": "stderr"
        },
        {
          "output_type": "stream",
          "text": [
            "Processing 01-01-03-01-01-01-03.mp4, 54/120\n"
          ],
          "name": "stdout"
        },
        {
          "output_type": "stream",
          "text": [
            "\n",
            " 45%|████▌     | 54/120 [00:24<00:27,  2.38it/s]\u001b[A"
          ],
          "name": "stderr"
        },
        {
          "output_type": "stream",
          "text": [
            "Processing 02-01-06-02-02-02-03.mp4, 55/120\n"
          ],
          "name": "stdout"
        },
        {
          "output_type": "stream",
          "text": [
            "\n",
            " 46%|████▌     | 55/120 [00:25<00:27,  2.38it/s]\u001b[A"
          ],
          "name": "stderr"
        },
        {
          "output_type": "stream",
          "text": [
            "Processing 01-01-07-02-01-01-03.mp4, 56/120\n"
          ],
          "name": "stdout"
        },
        {
          "output_type": "stream",
          "text": [
            "\n",
            " 47%|████▋     | 56/120 [00:25<00:26,  2.41it/s]\u001b[A"
          ],
          "name": "stderr"
        },
        {
          "output_type": "stream",
          "text": [
            "Processing 01-01-04-01-02-02-03.mp4, 57/120\n"
          ],
          "name": "stdout"
        },
        {
          "output_type": "stream",
          "text": [
            "\n",
            " 48%|████▊     | 57/120 [00:26<00:26,  2.40it/s]\u001b[A"
          ],
          "name": "stderr"
        },
        {
          "output_type": "stream",
          "text": [
            "Processing 01-01-06-01-01-02-03.mp4, 58/120\n"
          ],
          "name": "stdout"
        },
        {
          "output_type": "stream",
          "text": [
            "\n",
            " 48%|████▊     | 58/120 [00:26<00:25,  2.41it/s]\u001b[A"
          ],
          "name": "stderr"
        },
        {
          "output_type": "stream",
          "text": [
            "Processing 01-01-08-01-02-02-03.mp4, 59/120\n"
          ],
          "name": "stdout"
        },
        {
          "output_type": "stream",
          "text": [
            "\n",
            " 49%|████▉     | 59/120 [00:27<00:25,  2.38it/s]\u001b[A"
          ],
          "name": "stderr"
        },
        {
          "output_type": "stream",
          "text": [
            "Processing 01-01-08-01-02-01-03.mp4, 60/120\n"
          ],
          "name": "stdout"
        },
        {
          "output_type": "stream",
          "text": [
            "\n",
            " 50%|█████     | 60/120 [00:27<00:25,  2.40it/s]\u001b[A"
          ],
          "name": "stderr"
        },
        {
          "output_type": "stream",
          "text": [
            "Processing 02-01-06-01-02-01-03.mp4, 61/120\n"
          ],
          "name": "stdout"
        },
        {
          "output_type": "stream",
          "text": [
            "\n",
            " 51%|█████     | 61/120 [00:27<00:24,  2.41it/s]\u001b[A"
          ],
          "name": "stderr"
        },
        {
          "output_type": "stream",
          "text": [
            "Processing 02-01-02-01-01-02-03.mp4, 62/120\n"
          ],
          "name": "stdout"
        },
        {
          "output_type": "stream",
          "text": [
            "\n",
            " 52%|█████▏    | 62/120 [00:28<00:24,  2.39it/s]\u001b[A"
          ],
          "name": "stderr"
        },
        {
          "output_type": "stream",
          "text": [
            "Processing 02-01-08-01-01-01-03.mp4, 63/120\n"
          ],
          "name": "stdout"
        },
        {
          "output_type": "stream",
          "text": [
            "\n",
            " 52%|█████▎    | 63/120 [00:28<00:23,  2.39it/s]\u001b[A"
          ],
          "name": "stderr"
        },
        {
          "output_type": "stream",
          "text": [
            "Processing 02-01-07-02-01-01-03.mp4, 64/120\n"
          ],
          "name": "stdout"
        },
        {
          "output_type": "stream",
          "text": [
            "\n",
            " 53%|█████▎    | 64/120 [00:29<00:23,  2.35it/s]\u001b[A"
          ],
          "name": "stderr"
        },
        {
          "output_type": "stream",
          "text": [
            "Processing 02-01-03-01-01-01-03.mp4, 65/120\n"
          ],
          "name": "stdout"
        },
        {
          "output_type": "stream",
          "text": [
            "\n",
            " 54%|█████▍    | 65/120 [00:29<00:23,  2.36it/s]\u001b[A"
          ],
          "name": "stderr"
        },
        {
          "output_type": "stream",
          "text": [
            "Processing 02-01-07-01-02-01-03.mp4, 66/120\n"
          ],
          "name": "stdout"
        },
        {
          "output_type": "stream",
          "text": [
            "\n",
            " 55%|█████▌    | 66/120 [00:29<00:22,  2.37it/s]\u001b[A"
          ],
          "name": "stderr"
        },
        {
          "output_type": "stream",
          "text": [
            "Processing 01-01-06-02-02-02-03.mp4, 67/120\n"
          ],
          "name": "stdout"
        },
        {
          "output_type": "stream",
          "text": [
            "\n",
            " 56%|█████▌    | 67/120 [00:30<00:22,  2.36it/s]\u001b[A"
          ],
          "name": "stderr"
        },
        {
          "output_type": "stream",
          "text": [
            "Processing 01-01-07-02-02-01-03.mp4, 68/120\n"
          ],
          "name": "stdout"
        },
        {
          "output_type": "stream",
          "text": [
            "\n",
            " 57%|█████▋    | 68/120 [00:30<00:21,  2.37it/s]\u001b[A"
          ],
          "name": "stderr"
        },
        {
          "output_type": "stream",
          "text": [
            "Processing 02-01-07-01-02-02-03.mp4, 69/120\n"
          ],
          "name": "stdout"
        },
        {
          "output_type": "stream",
          "text": [
            "\n",
            " 57%|█████▊    | 69/120 [00:31<00:21,  2.36it/s]\u001b[A"
          ],
          "name": "stderr"
        },
        {
          "output_type": "stream",
          "text": [
            "Processing 02-01-08-02-01-02-03.mp4, 70/120\n"
          ],
          "name": "stdout"
        },
        {
          "output_type": "stream",
          "text": [
            "\n",
            " 58%|█████▊    | 70/120 [00:31<00:21,  2.36it/s]\u001b[A"
          ],
          "name": "stderr"
        },
        {
          "output_type": "stream",
          "text": [
            "Processing 01-01-01-01-02-01-03.mp4, 71/120\n"
          ],
          "name": "stdout"
        },
        {
          "output_type": "stream",
          "text": [
            "\n",
            " 59%|█████▉    | 71/120 [00:32<00:21,  2.33it/s]\u001b[A"
          ],
          "name": "stderr"
        },
        {
          "output_type": "stream",
          "text": [
            "Processing 02-01-01-01-02-02-03.mp4, 72/120\n"
          ],
          "name": "stdout"
        },
        {
          "output_type": "stream",
          "text": [
            "\n",
            " 60%|██████    | 72/120 [00:32<00:20,  2.35it/s]\u001b[A"
          ],
          "name": "stderr"
        },
        {
          "output_type": "stream",
          "text": [
            "Processing 01-01-06-01-02-01-03.mp4, 73/120\n"
          ],
          "name": "stdout"
        },
        {
          "output_type": "stream",
          "text": [
            "\n",
            " 61%|██████    | 73/120 [00:32<00:19,  2.36it/s]\u001b[A"
          ],
          "name": "stderr"
        },
        {
          "output_type": "stream",
          "text": [
            "Processing 01-01-04-02-02-01-03.mp4, 74/120\n"
          ],
          "name": "stdout"
        },
        {
          "output_type": "stream",
          "text": [
            "\n",
            " 62%|██████▏   | 74/120 [00:33<00:19,  2.35it/s]\u001b[A"
          ],
          "name": "stderr"
        },
        {
          "output_type": "stream",
          "text": [
            "Processing 02-01-03-01-02-02-03.mp4, 75/120\n"
          ],
          "name": "stdout"
        },
        {
          "output_type": "stream",
          "text": [
            "\n",
            " 62%|██████▎   | 75/120 [00:33<00:18,  2.37it/s]\u001b[A"
          ],
          "name": "stderr"
        },
        {
          "output_type": "stream",
          "text": [
            "Processing 01-01-02-02-01-01-03.mp4, 76/120\n"
          ],
          "name": "stdout"
        },
        {
          "output_type": "stream",
          "text": [
            "\n",
            " 63%|██████▎   | 76/120 [00:34<00:18,  2.37it/s]\u001b[A"
          ],
          "name": "stderr"
        },
        {
          "output_type": "stream",
          "text": [
            "Processing 01-01-08-02-02-02-03.mp4, 77/120\n"
          ],
          "name": "stdout"
        },
        {
          "output_type": "stream",
          "text": [
            "\n",
            " 64%|██████▍   | 77/120 [00:34<00:18,  2.34it/s]\u001b[A"
          ],
          "name": "stderr"
        },
        {
          "output_type": "stream",
          "text": [
            "Processing 02-01-06-01-02-02-03.mp4, 78/120\n"
          ],
          "name": "stdout"
        },
        {
          "output_type": "stream",
          "text": [
            "\n",
            " 65%|██████▌   | 78/120 [00:35<00:17,  2.35it/s]\u001b[A"
          ],
          "name": "stderr"
        },
        {
          "output_type": "stream",
          "text": [
            "Processing 01-01-01-01-01-02-03.mp4, 79/120\n"
          ],
          "name": "stdout"
        },
        {
          "output_type": "stream",
          "text": [
            "\n",
            " 66%|██████▌   | 79/120 [00:35<00:17,  2.34it/s]\u001b[A"
          ],
          "name": "stderr"
        },
        {
          "output_type": "stream",
          "text": [
            "Processing 02-01-02-02-01-01-03.mp4, 80/120\n"
          ],
          "name": "stdout"
        },
        {
          "output_type": "stream",
          "text": [
            "\n",
            " 67%|██████▋   | 80/120 [00:35<00:17,  2.33it/s]\u001b[A"
          ],
          "name": "stderr"
        },
        {
          "output_type": "stream",
          "text": [
            "Processing 01-01-04-02-02-02-03.mp4, 81/120\n"
          ],
          "name": "stdout"
        },
        {
          "output_type": "stream",
          "text": [
            "\n",
            " 68%|██████▊   | 81/120 [00:36<00:16,  2.34it/s]\u001b[A"
          ],
          "name": "stderr"
        },
        {
          "output_type": "stream",
          "text": [
            "Processing 01-01-04-02-01-02-03.mp4, 82/120\n"
          ],
          "name": "stdout"
        },
        {
          "output_type": "stream",
          "text": [
            "\n",
            " 68%|██████▊   | 82/120 [00:36<00:16,  2.36it/s]\u001b[A"
          ],
          "name": "stderr"
        },
        {
          "output_type": "stream",
          "text": [
            "Processing 01-01-06-02-02-01-03.mp4, 83/120\n"
          ],
          "name": "stdout"
        },
        {
          "output_type": "stream",
          "text": [
            "\n",
            " 69%|██████▉   | 83/120 [00:37<00:15,  2.37it/s]\u001b[A"
          ],
          "name": "stderr"
        },
        {
          "output_type": "stream",
          "text": [
            "Processing 01-01-08-02-01-02-03.mp4, 84/120\n"
          ],
          "name": "stdout"
        },
        {
          "output_type": "stream",
          "text": [
            "\n",
            " 70%|███████   | 84/120 [00:37<00:15,  2.39it/s]\u001b[A"
          ],
          "name": "stderr"
        },
        {
          "output_type": "stream",
          "text": [
            "Processing 02-01-04-01-02-01-03.mp4, 85/120\n"
          ],
          "name": "stdout"
        },
        {
          "output_type": "stream",
          "text": [
            "\n",
            " 71%|███████   | 85/120 [00:38<00:14,  2.37it/s]\u001b[A"
          ],
          "name": "stderr"
        },
        {
          "output_type": "stream",
          "text": [
            "Processing 01-01-02-01-02-02-03.mp4, 86/120\n"
          ],
          "name": "stdout"
        },
        {
          "output_type": "stream",
          "text": [
            "\n",
            " 72%|███████▏  | 86/120 [00:38<00:14,  2.35it/s]\u001b[A"
          ],
          "name": "stderr"
        },
        {
          "output_type": "stream",
          "text": [
            "Processing 02-01-05-01-01-02-03.mp4, 87/120\n"
          ],
          "name": "stdout"
        },
        {
          "output_type": "stream",
          "text": [
            "\n",
            " 72%|███████▎  | 87/120 [00:38<00:13,  2.37it/s]\u001b[A"
          ],
          "name": "stderr"
        },
        {
          "output_type": "stream",
          "text": [
            "Processing 02-01-02-01-02-01-03.mp4, 88/120\n"
          ],
          "name": "stdout"
        },
        {
          "output_type": "stream",
          "text": [
            "\n",
            " 73%|███████▎  | 88/120 [00:39<00:13,  2.35it/s]\u001b[A"
          ],
          "name": "stderr"
        },
        {
          "output_type": "stream",
          "text": [
            "Processing 02-01-02-01-02-02-03.mp4, 89/120\n"
          ],
          "name": "stdout"
        },
        {
          "output_type": "stream",
          "text": [
            "\n",
            " 74%|███████▍  | 89/120 [00:39<00:13,  2.38it/s]\u001b[A"
          ],
          "name": "stderr"
        },
        {
          "output_type": "stream",
          "text": [
            "Processing 01-01-03-01-02-02-03.mp4, 90/120\n"
          ],
          "name": "stdout"
        },
        {
          "output_type": "stream",
          "text": [
            "\n",
            " 75%|███████▌  | 90/120 [00:40<00:12,  2.36it/s]\u001b[A"
          ],
          "name": "stderr"
        },
        {
          "output_type": "stream",
          "text": [
            "Processing 02-01-08-02-02-01-03.mp4, 91/120\n"
          ],
          "name": "stdout"
        },
        {
          "output_type": "stream",
          "text": [
            "\n",
            " 76%|███████▌  | 91/120 [00:40<00:12,  2.36it/s]\u001b[A"
          ],
          "name": "stderr"
        },
        {
          "output_type": "stream",
          "text": [
            "Processing 01-01-05-01-01-01-03.mp4, 92/120\n"
          ],
          "name": "stdout"
        },
        {
          "output_type": "stream",
          "text": [
            "\n",
            " 77%|███████▋  | 92/120 [00:41<00:11,  2.35it/s]\u001b[A"
          ],
          "name": "stderr"
        },
        {
          "output_type": "stream",
          "text": [
            "Processing 02-01-03-01-02-01-03.mp4, 93/120\n"
          ],
          "name": "stdout"
        },
        {
          "output_type": "stream",
          "text": [
            "\n",
            " 78%|███████▊  | 93/120 [00:41<00:11,  2.34it/s]\u001b[A"
          ],
          "name": "stderr"
        },
        {
          "output_type": "stream",
          "text": [
            "Processing 02-01-05-02-01-02-03.mp4, 94/120\n"
          ],
          "name": "stdout"
        },
        {
          "output_type": "stream",
          "text": [
            "\n",
            " 78%|███████▊  | 94/120 [00:41<00:10,  2.37it/s]\u001b[A"
          ],
          "name": "stderr"
        },
        {
          "output_type": "stream",
          "text": [
            "Processing 01-01-07-02-02-02-03.mp4, 95/120\n"
          ],
          "name": "stdout"
        },
        {
          "output_type": "stream",
          "text": [
            "\n",
            " 79%|███████▉  | 95/120 [00:42<00:10,  2.39it/s]\u001b[A"
          ],
          "name": "stderr"
        },
        {
          "output_type": "stream",
          "text": [
            "Processing 02-01-06-02-01-02-03.mp4, 96/120\n"
          ],
          "name": "stdout"
        },
        {
          "output_type": "stream",
          "text": [
            "\n",
            " 80%|████████  | 96/120 [00:42<00:10,  2.39it/s]\u001b[A"
          ],
          "name": "stderr"
        },
        {
          "output_type": "stream",
          "text": [
            "Processing 02-01-06-01-01-01-03.mp4, 97/120\n"
          ],
          "name": "stdout"
        },
        {
          "output_type": "stream",
          "text": [
            "\n",
            " 81%|████████  | 97/120 [00:43<00:09,  2.39it/s]\u001b[A"
          ],
          "name": "stderr"
        },
        {
          "output_type": "stream",
          "text": [
            "Processing 02-01-04-02-01-01-03.mp4, 98/120\n"
          ],
          "name": "stdout"
        },
        {
          "output_type": "stream",
          "text": [
            "\n",
            " 82%|████████▏ | 98/120 [00:43<00:09,  2.39it/s]\u001b[A"
          ],
          "name": "stderr"
        },
        {
          "output_type": "stream",
          "text": [
            "Processing 02-01-04-02-02-02-03.mp4, 99/120\n"
          ],
          "name": "stdout"
        },
        {
          "output_type": "stream",
          "text": [
            "\n",
            " 82%|████████▎ | 99/120 [00:43<00:08,  2.37it/s]\u001b[A"
          ],
          "name": "stderr"
        },
        {
          "output_type": "stream",
          "text": [
            "Processing 01-01-07-01-02-02-03.mp4, 100/120\n"
          ],
          "name": "stdout"
        },
        {
          "output_type": "stream",
          "text": [
            "\n",
            " 83%|████████▎ | 100/120 [00:44<00:08,  2.37it/s]\u001b[A"
          ],
          "name": "stderr"
        },
        {
          "output_type": "stream",
          "text": [
            "Processing 01-01-05-02-01-01-03.mp4, 101/120\n"
          ],
          "name": "stdout"
        },
        {
          "output_type": "stream",
          "text": [
            "\n",
            " 84%|████████▍ | 101/120 [00:44<00:08,  2.37it/s]\u001b[A"
          ],
          "name": "stderr"
        },
        {
          "output_type": "stream",
          "text": [
            "Processing 01-01-03-02-02-01-03.mp4, 102/120\n"
          ],
          "name": "stdout"
        },
        {
          "output_type": "stream",
          "text": [
            "\n",
            " 85%|████████▌ | 102/120 [00:45<00:07,  2.39it/s]\u001b[A"
          ],
          "name": "stderr"
        },
        {
          "output_type": "stream",
          "text": [
            "Processing 01-01-05-01-01-02-03.mp4, 103/120\n"
          ],
          "name": "stdout"
        },
        {
          "output_type": "stream",
          "text": [
            "\n",
            " 86%|████████▌ | 103/120 [00:45<00:07,  2.38it/s]\u001b[A"
          ],
          "name": "stderr"
        },
        {
          "output_type": "stream",
          "text": [
            "Processing 02-01-07-01-01-01-03.mp4, 104/120\n"
          ],
          "name": "stdout"
        },
        {
          "output_type": "stream",
          "text": [
            "\n",
            " 87%|████████▋ | 104/120 [00:46<00:06,  2.38it/s]\u001b[A"
          ],
          "name": "stderr"
        },
        {
          "output_type": "stream",
          "text": [
            "Processing 01-01-04-01-01-02-03.mp4, 105/120\n"
          ],
          "name": "stdout"
        },
        {
          "output_type": "stream",
          "text": [
            "\n",
            " 88%|████████▊ | 105/120 [00:46<00:06,  2.34it/s]\u001b[A"
          ],
          "name": "stderr"
        },
        {
          "output_type": "stream",
          "text": [
            "Processing 02-01-03-02-01-01-03.mp4, 106/120\n"
          ],
          "name": "stdout"
        },
        {
          "output_type": "stream",
          "text": [
            "\n",
            " 88%|████████▊ | 106/120 [00:46<00:05,  2.37it/s]\u001b[A"
          ],
          "name": "stderr"
        },
        {
          "output_type": "stream",
          "text": [
            "Processing 01-01-08-02-02-01-03.mp4, 107/120\n"
          ],
          "name": "stdout"
        },
        {
          "output_type": "stream",
          "text": [
            "\n",
            " 89%|████████▉ | 107/120 [00:47<00:05,  2.36it/s]\u001b[A"
          ],
          "name": "stderr"
        },
        {
          "output_type": "stream",
          "text": [
            "Processing 02-01-08-01-01-02-03.mp4, 108/120\n"
          ],
          "name": "stdout"
        },
        {
          "output_type": "stream",
          "text": [
            "\n",
            " 90%|█████████ | 108/120 [00:47<00:05,  2.37it/s]\u001b[A"
          ],
          "name": "stderr"
        },
        {
          "output_type": "stream",
          "text": [
            "Processing 01-01-04-01-01-01-03.mp4, 109/120\n"
          ],
          "name": "stdout"
        },
        {
          "output_type": "stream",
          "text": [
            "\n",
            " 91%|█████████ | 109/120 [00:48<00:04,  2.35it/s]\u001b[A"
          ],
          "name": "stderr"
        },
        {
          "output_type": "stream",
          "text": [
            "Processing 01-01-01-01-01-01-03.mp4, 110/120\n"
          ],
          "name": "stdout"
        },
        {
          "output_type": "stream",
          "text": [
            "\n",
            " 92%|█████████▏| 110/120 [00:48<00:04,  2.37it/s]\u001b[A"
          ],
          "name": "stderr"
        },
        {
          "output_type": "stream",
          "text": [
            "Processing 02-01-03-02-01-02-03.mp4, 111/120\n"
          ],
          "name": "stdout"
        },
        {
          "output_type": "stream",
          "text": [
            "\n",
            " 92%|█████████▎| 111/120 [00:49<00:03,  2.37it/s]\u001b[A"
          ],
          "name": "stderr"
        },
        {
          "output_type": "stream",
          "text": [
            "Processing 02-01-04-02-02-01-03.mp4, 112/120\n"
          ],
          "name": "stdout"
        },
        {
          "output_type": "stream",
          "text": [
            "\n",
            " 93%|█████████▎| 112/120 [00:49<00:03,  2.37it/s]\u001b[A"
          ],
          "name": "stderr"
        },
        {
          "output_type": "stream",
          "text": [
            "Processing 02-01-04-01-01-02-03.mp4, 113/120\n"
          ],
          "name": "stdout"
        },
        {
          "output_type": "stream",
          "text": [
            "\n",
            " 94%|█████████▍| 113/120 [00:49<00:02,  2.38it/s]\u001b[A"
          ],
          "name": "stderr"
        },
        {
          "output_type": "stream",
          "text": [
            "Processing 02-01-02-01-01-01-03.mp4, 114/120\n"
          ],
          "name": "stdout"
        },
        {
          "output_type": "stream",
          "text": [
            "\n",
            " 95%|█████████▌| 114/120 [00:50<00:02,  2.38it/s]\u001b[A"
          ],
          "name": "stderr"
        },
        {
          "output_type": "stream",
          "text": [
            "Processing 02-01-04-01-02-02-03.mp4, 115/120\n"
          ],
          "name": "stdout"
        },
        {
          "output_type": "stream",
          "text": [
            "\n",
            " 96%|█████████▌| 115/120 [00:50<00:02,  2.37it/s]\u001b[A"
          ],
          "name": "stderr"
        },
        {
          "output_type": "stream",
          "text": [
            "Processing 01-01-06-01-01-01-03.mp4, 116/120\n"
          ],
          "name": "stdout"
        },
        {
          "output_type": "stream",
          "text": [
            "\n",
            " 97%|█████████▋| 116/120 [00:51<00:01,  2.38it/s]\u001b[A"
          ],
          "name": "stderr"
        },
        {
          "output_type": "stream",
          "text": [
            "Processing 02-01-06-01-01-02-03.mp4, 117/120\n"
          ],
          "name": "stdout"
        },
        {
          "output_type": "stream",
          "text": [
            "\n",
            " 98%|█████████▊| 117/120 [00:51<00:01,  2.37it/s]\u001b[A"
          ],
          "name": "stderr"
        },
        {
          "output_type": "stream",
          "text": [
            "Processing 02-01-07-02-02-02-03.mp4, 118/120\n"
          ],
          "name": "stdout"
        },
        {
          "output_type": "stream",
          "text": [
            "\n",
            " 98%|█████████▊| 118/120 [00:51<00:00,  2.40it/s]\u001b[A"
          ],
          "name": "stderr"
        },
        {
          "output_type": "stream",
          "text": [
            "Processing 01-01-05-02-02-02-03.mp4, 119/120\n"
          ],
          "name": "stdout"
        },
        {
          "output_type": "stream",
          "text": [
            "\n",
            " 99%|█████████▉| 119/120 [00:52<00:00,  2.42it/s]\u001b[A"
          ],
          "name": "stderr"
        },
        {
          "output_type": "stream",
          "text": [
            "Processing 01-01-08-01-01-02-03.mp4, 120/120\n"
          ],
          "name": "stdout"
        },
        {
          "output_type": "stream",
          "text": [
            "\n",
            "100%|██████████| 120/120 [00:52<00:00,  2.27it/s]\n",
            " 33%|███▎      | 1/3 [00:52<01:45, 52.80s/it]\n",
            "  0%|          | 0/120 [00:00<?, ?it/s]\u001b[A"
          ],
          "name": "stderr"
        },
        {
          "output_type": "stream",
          "text": [
            "Processing 01-01-03-02-02-02-01.mp4, 1/120\n"
          ],
          "name": "stdout"
        },
        {
          "output_type": "stream",
          "text": [
            "\n",
            "  1%|          | 1/120 [00:00<00:50,  2.36it/s]\u001b[A"
          ],
          "name": "stderr"
        },
        {
          "output_type": "stream",
          "text": [
            "Processing 01-01-02-02-02-01-01.mp4, 2/120\n"
          ],
          "name": "stdout"
        },
        {
          "output_type": "stream",
          "text": [
            "\n",
            "  2%|▏         | 2/120 [00:00<00:50,  2.35it/s]\u001b[A"
          ],
          "name": "stderr"
        },
        {
          "output_type": "stream",
          "text": [
            "Processing 02-01-08-01-01-01-01.mp4, 3/120\n"
          ],
          "name": "stdout"
        },
        {
          "output_type": "stream",
          "text": [
            "\n",
            "  2%|▎         | 3/120 [00:01<00:49,  2.37it/s]\u001b[A"
          ],
          "name": "stderr"
        },
        {
          "output_type": "stream",
          "text": [
            "Processing 02-01-03-02-02-02-01.mp4, 4/120\n"
          ],
          "name": "stdout"
        },
        {
          "output_type": "stream",
          "text": [
            "\n",
            "  3%|▎         | 4/120 [00:01<00:49,  2.35it/s]\u001b[A"
          ],
          "name": "stderr"
        },
        {
          "output_type": "stream",
          "text": [
            "Processing 02-01-06-01-01-02-01.mp4, 5/120\n"
          ],
          "name": "stdout"
        },
        {
          "output_type": "stream",
          "text": [
            "\n",
            "  4%|▍         | 5/120 [00:02<00:48,  2.36it/s]\u001b[A"
          ],
          "name": "stderr"
        },
        {
          "output_type": "stream",
          "text": [
            "Processing 01-01-02-01-01-02-01.mp4, 6/120\n"
          ],
          "name": "stdout"
        },
        {
          "output_type": "stream",
          "text": [
            "\n",
            "  5%|▌         | 6/120 [00:02<00:47,  2.38it/s]\u001b[A"
          ],
          "name": "stderr"
        },
        {
          "output_type": "stream",
          "text": [
            "Processing 01-01-06-02-01-02-01.mp4, 7/120\n"
          ],
          "name": "stdout"
        },
        {
          "output_type": "stream",
          "text": [
            "\n",
            "  6%|▌         | 7/120 [00:02<00:47,  2.38it/s]\u001b[A"
          ],
          "name": "stderr"
        },
        {
          "output_type": "stream",
          "text": [
            "Processing 01-01-02-02-01-02-01.mp4, 8/120\n"
          ],
          "name": "stdout"
        },
        {
          "output_type": "stream",
          "text": [
            "\n",
            "  7%|▋         | 8/120 [00:03<00:47,  2.37it/s]\u001b[A"
          ],
          "name": "stderr"
        },
        {
          "output_type": "stream",
          "text": [
            "Processing 01-01-05-01-01-02-01.mp4, 9/120\n"
          ],
          "name": "stdout"
        },
        {
          "output_type": "stream",
          "text": [
            "\n",
            "  8%|▊         | 9/120 [00:03<00:47,  2.36it/s]\u001b[A"
          ],
          "name": "stderr"
        },
        {
          "output_type": "stream",
          "text": [
            "Processing 01-01-07-01-01-01-01.mp4, 10/120\n"
          ],
          "name": "stdout"
        },
        {
          "output_type": "stream",
          "text": [
            "\n",
            "  8%|▊         | 10/120 [00:04<00:46,  2.35it/s]\u001b[A"
          ],
          "name": "stderr"
        },
        {
          "output_type": "stream",
          "text": [
            "Processing 01-01-03-02-01-01-01.mp4, 11/120\n"
          ],
          "name": "stdout"
        },
        {
          "output_type": "stream",
          "text": [
            "\n",
            "  9%|▉         | 11/120 [00:04<00:46,  2.35it/s]\u001b[A"
          ],
          "name": "stderr"
        },
        {
          "output_type": "stream",
          "text": [
            "Processing 01-01-03-02-01-02-01.mp4, 12/120\n"
          ],
          "name": "stdout"
        },
        {
          "output_type": "stream",
          "text": [
            "\n",
            " 10%|█         | 12/120 [00:05<00:45,  2.35it/s]\u001b[A"
          ],
          "name": "stderr"
        },
        {
          "output_type": "stream",
          "text": [
            "Processing 02-01-08-02-02-01-01.mp4, 13/120\n"
          ],
          "name": "stdout"
        },
        {
          "output_type": "stream",
          "text": [
            "\n",
            " 11%|█         | 13/120 [00:05<00:45,  2.36it/s]\u001b[A"
          ],
          "name": "stderr"
        },
        {
          "output_type": "stream",
          "text": [
            "Processing 01-01-04-01-01-01-01.mp4, 14/120\n"
          ],
          "name": "stdout"
        },
        {
          "output_type": "stream",
          "text": [
            "\n",
            " 12%|█▏        | 14/120 [00:05<00:45,  2.34it/s]\u001b[A"
          ],
          "name": "stderr"
        },
        {
          "output_type": "stream",
          "text": [
            "Processing 02-01-08-01-01-02-01.mp4, 15/120\n"
          ],
          "name": "stdout"
        },
        {
          "output_type": "stream",
          "text": [
            "\n",
            " 12%|█▎        | 15/120 [00:06<00:45,  2.32it/s]\u001b[A"
          ],
          "name": "stderr"
        },
        {
          "output_type": "stream",
          "text": [
            "Processing 02-01-04-02-02-02-01.mp4, 16/120\n"
          ],
          "name": "stdout"
        },
        {
          "output_type": "stream",
          "text": [
            "\n",
            " 13%|█▎        | 16/120 [00:06<00:44,  2.34it/s]\u001b[A"
          ],
          "name": "stderr"
        },
        {
          "output_type": "stream",
          "text": [
            "Processing 02-01-03-01-01-02-01.mp4, 17/120\n"
          ],
          "name": "stdout"
        },
        {
          "output_type": "stream",
          "text": [
            "\n",
            " 14%|█▍        | 17/120 [00:07<00:43,  2.36it/s]\u001b[A"
          ],
          "name": "stderr"
        },
        {
          "output_type": "stream",
          "text": [
            "Processing 01-01-03-01-02-02-01.mp4, 18/120\n"
          ],
          "name": "stdout"
        },
        {
          "output_type": "stream",
          "text": [
            "\n",
            " 15%|█▌        | 18/120 [00:07<00:43,  2.36it/s]\u001b[A"
          ],
          "name": "stderr"
        },
        {
          "output_type": "stream",
          "text": [
            "Processing 02-01-07-02-01-01-01.mp4, 19/120\n"
          ],
          "name": "stdout"
        },
        {
          "output_type": "stream",
          "text": [
            "\n",
            " 16%|█▌        | 19/120 [00:08<00:43,  2.34it/s]\u001b[A"
          ],
          "name": "stderr"
        },
        {
          "output_type": "stream",
          "text": [
            "Processing 02-01-05-02-01-02-01.mp4, 20/120\n"
          ],
          "name": "stdout"
        },
        {
          "output_type": "stream",
          "text": [
            "\n",
            " 17%|█▋        | 20/120 [00:08<00:42,  2.35it/s]\u001b[A"
          ],
          "name": "stderr"
        },
        {
          "output_type": "stream",
          "text": [
            "Processing 01-01-08-01-01-01-01.mp4, 21/120\n"
          ],
          "name": "stdout"
        },
        {
          "output_type": "stream",
          "text": [
            "\n",
            " 18%|█▊        | 21/120 [00:08<00:42,  2.35it/s]\u001b[A"
          ],
          "name": "stderr"
        },
        {
          "output_type": "stream",
          "text": [
            "Processing 02-01-06-01-02-01-01.mp4, 22/120\n"
          ],
          "name": "stdout"
        },
        {
          "output_type": "stream",
          "text": [
            "\n",
            " 18%|█▊        | 22/120 [00:09<00:41,  2.36it/s]\u001b[A"
          ],
          "name": "stderr"
        },
        {
          "output_type": "stream",
          "text": [
            "Processing 01-01-04-01-01-02-01.mp4, 23/120\n"
          ],
          "name": "stdout"
        },
        {
          "output_type": "stream",
          "text": [
            "\n",
            " 19%|█▉        | 23/120 [00:09<00:40,  2.40it/s]\u001b[A"
          ],
          "name": "stderr"
        },
        {
          "output_type": "stream",
          "text": [
            "Processing 01-01-01-01-01-01-01.mp4, 24/120\n"
          ],
          "name": "stdout"
        },
        {
          "output_type": "stream",
          "text": [
            "\n",
            " 20%|██        | 24/120 [00:10<00:40,  2.37it/s]\u001b[A"
          ],
          "name": "stderr"
        },
        {
          "output_type": "stream",
          "text": [
            "Processing 02-01-05-01-01-01-01.mp4, 25/120\n"
          ],
          "name": "stdout"
        },
        {
          "output_type": "stream",
          "text": [
            "\n",
            " 21%|██        | 25/120 [00:10<00:39,  2.39it/s]\u001b[A"
          ],
          "name": "stderr"
        },
        {
          "output_type": "stream",
          "text": [
            "Processing 02-01-06-02-02-02-01.mp4, 26/120\n"
          ],
          "name": "stdout"
        },
        {
          "output_type": "stream",
          "text": [
            "\n",
            " 22%|██▏       | 26/120 [00:11<00:39,  2.37it/s]\u001b[A"
          ],
          "name": "stderr"
        },
        {
          "output_type": "stream",
          "text": [
            "Processing 02-01-08-02-01-02-01.mp4, 27/120\n"
          ],
          "name": "stdout"
        },
        {
          "output_type": "stream",
          "text": [
            "\n",
            " 22%|██▎       | 27/120 [00:11<00:39,  2.37it/s]\u001b[A"
          ],
          "name": "stderr"
        },
        {
          "output_type": "stream",
          "text": [
            "Processing 01-01-02-01-02-01-01.mp4, 28/120\n"
          ],
          "name": "stdout"
        },
        {
          "output_type": "stream",
          "text": [
            "\n",
            " 23%|██▎       | 28/120 [00:11<00:38,  2.36it/s]\u001b[A"
          ],
          "name": "stderr"
        },
        {
          "output_type": "stream",
          "text": [
            "Processing 01-01-05-02-02-01-01.mp4, 29/120\n"
          ],
          "name": "stdout"
        },
        {
          "output_type": "stream",
          "text": [
            "\n",
            " 24%|██▍       | 29/120 [00:12<00:38,  2.37it/s]\u001b[A"
          ],
          "name": "stderr"
        },
        {
          "output_type": "stream",
          "text": [
            "Processing 01-01-04-01-02-02-01.mp4, 30/120\n"
          ],
          "name": "stdout"
        },
        {
          "output_type": "stream",
          "text": [
            "\n",
            " 25%|██▌       | 30/120 [00:12<00:37,  2.39it/s]\u001b[A"
          ],
          "name": "stderr"
        },
        {
          "output_type": "stream",
          "text": [
            "Processing 01-01-06-01-02-02-01.mp4, 31/120\n"
          ],
          "name": "stdout"
        },
        {
          "output_type": "stream",
          "text": [
            "\n",
            " 26%|██▌       | 31/120 [00:13<00:37,  2.39it/s]\u001b[A"
          ],
          "name": "stderr"
        },
        {
          "output_type": "stream",
          "text": [
            "Processing 02-01-01-01-02-01-01.mp4, 32/120\n"
          ],
          "name": "stdout"
        },
        {
          "output_type": "stream",
          "text": [
            "\n",
            " 27%|██▋       | 32/120 [00:13<00:36,  2.40it/s]\u001b[A"
          ],
          "name": "stderr"
        },
        {
          "output_type": "stream",
          "text": [
            "Processing 02-01-07-02-02-01-01.mp4, 33/120\n"
          ],
          "name": "stdout"
        },
        {
          "output_type": "stream",
          "text": [
            "\n",
            " 28%|██▊       | 33/120 [00:13<00:36,  2.38it/s]\u001b[A"
          ],
          "name": "stderr"
        },
        {
          "output_type": "stream",
          "text": [
            "Processing 01-01-05-01-02-02-01.mp4, 34/120\n"
          ],
          "name": "stdout"
        },
        {
          "output_type": "stream",
          "text": [
            "\n",
            " 28%|██▊       | 34/120 [00:14<00:35,  2.39it/s]\u001b[A"
          ],
          "name": "stderr"
        },
        {
          "output_type": "stream",
          "text": [
            "Processing 02-01-07-01-02-01-01.mp4, 35/120\n"
          ],
          "name": "stdout"
        },
        {
          "output_type": "stream",
          "text": [
            "\n",
            " 29%|██▉       | 35/120 [00:14<00:35,  2.40it/s]\u001b[A"
          ],
          "name": "stderr"
        },
        {
          "output_type": "stream",
          "text": [
            "Processing 01-01-02-01-01-01-01.mp4, 36/120\n"
          ],
          "name": "stdout"
        },
        {
          "output_type": "stream",
          "text": [
            "\n",
            " 30%|███       | 36/120 [00:15<00:34,  2.40it/s]\u001b[A"
          ],
          "name": "stderr"
        },
        {
          "output_type": "stream",
          "text": [
            "Processing 01-01-05-02-02-02-01.mp4, 37/120\n"
          ],
          "name": "stdout"
        },
        {
          "output_type": "stream",
          "text": [
            "\n",
            " 31%|███       | 37/120 [00:15<00:34,  2.41it/s]\u001b[A"
          ],
          "name": "stderr"
        },
        {
          "output_type": "stream",
          "text": [
            "Processing 01-01-08-01-02-02-01.mp4, 38/120\n"
          ],
          "name": "stdout"
        },
        {
          "output_type": "stream",
          "text": [
            "\n",
            " 32%|███▏      | 38/120 [00:16<00:34,  2.39it/s]\u001b[A"
          ],
          "name": "stderr"
        },
        {
          "output_type": "stream",
          "text": [
            "Processing 01-01-03-01-01-02-01.mp4, 39/120\n"
          ],
          "name": "stdout"
        },
        {
          "output_type": "stream",
          "text": [
            "\n",
            " 32%|███▎      | 39/120 [00:16<00:33,  2.39it/s]\u001b[A"
          ],
          "name": "stderr"
        },
        {
          "output_type": "stream",
          "text": [
            "Processing 01-01-05-02-01-01-01.mp4, 40/120\n"
          ],
          "name": "stdout"
        },
        {
          "output_type": "stream",
          "text": [
            "\n",
            " 33%|███▎      | 40/120 [00:16<00:33,  2.38it/s]\u001b[A"
          ],
          "name": "stderr"
        },
        {
          "output_type": "stream",
          "text": [
            "Processing 02-01-04-01-01-02-01.mp4, 41/120\n"
          ],
          "name": "stdout"
        },
        {
          "output_type": "stream",
          "text": [
            "\n",
            " 34%|███▍      | 41/120 [00:17<00:33,  2.35it/s]\u001b[A"
          ],
          "name": "stderr"
        },
        {
          "output_type": "stream",
          "text": [
            "Processing 02-01-02-01-01-02-01.mp4, 42/120\n"
          ],
          "name": "stdout"
        },
        {
          "output_type": "stream",
          "text": [
            "\n",
            " 35%|███▌      | 42/120 [00:17<00:32,  2.37it/s]\u001b[A"
          ],
          "name": "stderr"
        },
        {
          "output_type": "stream",
          "text": [
            "Processing 02-01-02-02-01-01-01.mp4, 43/120\n"
          ],
          "name": "stdout"
        },
        {
          "output_type": "stream",
          "text": [
            "\n",
            " 36%|███▌      | 43/120 [00:18<00:32,  2.40it/s]\u001b[A"
          ],
          "name": "stderr"
        },
        {
          "output_type": "stream",
          "text": [
            "Processing 01-01-08-02-01-01-01.mp4, 44/120\n"
          ],
          "name": "stdout"
        },
        {
          "output_type": "stream",
          "text": [
            "\n",
            " 37%|███▋      | 44/120 [00:18<00:31,  2.42it/s]\u001b[A"
          ],
          "name": "stderr"
        },
        {
          "output_type": "stream",
          "text": [
            "Processing 02-01-03-02-01-02-01.mp4, 45/120\n"
          ],
          "name": "stdout"
        },
        {
          "output_type": "stream",
          "text": [
            "\n",
            " 38%|███▊      | 45/120 [00:18<00:30,  2.42it/s]\u001b[A"
          ],
          "name": "stderr"
        },
        {
          "output_type": "stream",
          "text": [
            "Processing 02-01-07-01-01-01-01.mp4, 46/120\n"
          ],
          "name": "stdout"
        },
        {
          "output_type": "stream",
          "text": [
            "\n",
            " 38%|███▊      | 46/120 [00:19<00:31,  2.38it/s]\u001b[A"
          ],
          "name": "stderr"
        },
        {
          "output_type": "stream",
          "text": [
            "Processing 01-01-06-01-01-02-01.mp4, 47/120\n"
          ],
          "name": "stdout"
        },
        {
          "output_type": "stream",
          "text": [
            "\n",
            " 39%|███▉      | 47/120 [00:19<00:30,  2.38it/s]\u001b[A"
          ],
          "name": "stderr"
        },
        {
          "output_type": "stream",
          "text": [
            "Processing 01-01-08-01-02-01-01.mp4, 48/120\n"
          ],
          "name": "stdout"
        },
        {
          "output_type": "stream",
          "text": [
            "\n",
            " 40%|████      | 48/120 [00:20<00:30,  2.36it/s]\u001b[A"
          ],
          "name": "stderr"
        },
        {
          "output_type": "stream",
          "text": [
            "Processing 01-01-08-01-01-02-01.mp4, 49/120\n"
          ],
          "name": "stdout"
        },
        {
          "output_type": "stream",
          "text": [
            "\n",
            " 41%|████      | 49/120 [00:20<00:29,  2.39it/s]\u001b[A"
          ],
          "name": "stderr"
        },
        {
          "output_type": "stream",
          "text": [
            "Processing 01-01-05-01-01-01-01.mp4, 50/120\n"
          ],
          "name": "stdout"
        },
        {
          "output_type": "stream",
          "text": [
            "\n",
            " 42%|████▏     | 50/120 [00:21<00:29,  2.40it/s]\u001b[A"
          ],
          "name": "stderr"
        },
        {
          "output_type": "stream",
          "text": [
            "Processing 01-01-04-02-01-01-01.mp4, 51/120\n"
          ],
          "name": "stdout"
        },
        {
          "output_type": "stream",
          "text": [
            "\n",
            " 42%|████▎     | 51/120 [00:21<00:28,  2.40it/s]\u001b[A"
          ],
          "name": "stderr"
        },
        {
          "output_type": "stream",
          "text": [
            "Processing 02-01-02-02-02-02-01.mp4, 52/120\n"
          ],
          "name": "stdout"
        },
        {
          "output_type": "stream",
          "text": [
            "\n",
            " 43%|████▎     | 52/120 [00:21<00:28,  2.40it/s]\u001b[A"
          ],
          "name": "stderr"
        },
        {
          "output_type": "stream",
          "text": [
            "Processing 02-01-03-01-02-01-01.mp4, 53/120\n"
          ],
          "name": "stdout"
        },
        {
          "output_type": "stream",
          "text": [
            "\n",
            " 44%|████▍     | 53/120 [00:22<00:28,  2.36it/s]\u001b[A"
          ],
          "name": "stderr"
        },
        {
          "output_type": "stream",
          "text": [
            "Processing 01-01-08-02-02-02-01.mp4, 54/120\n"
          ],
          "name": "stdout"
        },
        {
          "output_type": "stream",
          "text": [
            "\n",
            " 45%|████▌     | 54/120 [00:22<00:27,  2.36it/s]\u001b[A"
          ],
          "name": "stderr"
        },
        {
          "output_type": "stream",
          "text": [
            "Processing 01-01-04-02-02-01-01.mp4, 55/120\n"
          ],
          "name": "stdout"
        },
        {
          "output_type": "stream",
          "text": [
            "\n",
            " 46%|████▌     | 55/120 [00:23<00:27,  2.35it/s]\u001b[A"
          ],
          "name": "stderr"
        },
        {
          "output_type": "stream",
          "text": [
            "Processing 02-01-01-01-01-02-01.mp4, 56/120\n"
          ],
          "name": "stdout"
        },
        {
          "output_type": "stream",
          "text": [
            "\n",
            " 47%|████▋     | 56/120 [00:23<00:27,  2.36it/s]\u001b[A"
          ],
          "name": "stderr"
        },
        {
          "output_type": "stream",
          "text": [
            "Processing 01-01-02-02-02-02-01.mp4, 57/120\n"
          ],
          "name": "stdout"
        },
        {
          "output_type": "stream",
          "text": [
            "\n",
            " 48%|████▊     | 57/120 [00:24<00:26,  2.37it/s]\u001b[A"
          ],
          "name": "stderr"
        },
        {
          "output_type": "stream",
          "text": [
            "Processing 01-01-06-02-02-01-01.mp4, 58/120\n"
          ],
          "name": "stdout"
        },
        {
          "output_type": "stream",
          "text": [
            "\n",
            " 48%|████▊     | 58/120 [00:24<00:26,  2.37it/s]\u001b[A"
          ],
          "name": "stderr"
        },
        {
          "output_type": "stream",
          "text": [
            "Processing 02-01-02-01-02-01-01.mp4, 59/120\n"
          ],
          "name": "stdout"
        },
        {
          "output_type": "stream",
          "text": [
            "\n",
            " 49%|████▉     | 59/120 [00:24<00:25,  2.40it/s]\u001b[A"
          ],
          "name": "stderr"
        },
        {
          "output_type": "stream",
          "text": [
            "Processing 01-01-01-01-01-02-01.mp4, 60/120\n"
          ],
          "name": "stdout"
        },
        {
          "output_type": "stream",
          "text": [
            "\n",
            " 50%|█████     | 60/120 [00:25<00:24,  2.40it/s]\u001b[A"
          ],
          "name": "stderr"
        },
        {
          "output_type": "stream",
          "text": [
            "Processing 02-01-04-02-01-01-01.mp4, 61/120\n"
          ],
          "name": "stdout"
        },
        {
          "output_type": "stream",
          "text": [
            "\n",
            " 51%|█████     | 61/120 [00:25<00:24,  2.42it/s]\u001b[A"
          ],
          "name": "stderr"
        },
        {
          "output_type": "stream",
          "text": [
            "Processing 02-01-05-02-02-01-01.mp4, 62/120\n"
          ],
          "name": "stdout"
        },
        {
          "output_type": "stream",
          "text": [
            "\n",
            " 52%|█████▏    | 62/120 [00:26<00:23,  2.44it/s]\u001b[A"
          ],
          "name": "stderr"
        },
        {
          "output_type": "stream",
          "text": [
            "Processing 02-01-07-02-01-02-01.mp4, 63/120\n"
          ],
          "name": "stdout"
        },
        {
          "output_type": "stream",
          "text": [
            "\n",
            " 52%|█████▎    | 63/120 [00:26<00:23,  2.44it/s]\u001b[A"
          ],
          "name": "stderr"
        },
        {
          "output_type": "stream",
          "text": [
            "Processing 01-01-06-02-01-01-01.mp4, 64/120\n"
          ],
          "name": "stdout"
        },
        {
          "output_type": "stream",
          "text": [
            "\n",
            " 53%|█████▎    | 64/120 [00:26<00:22,  2.45it/s]\u001b[A"
          ],
          "name": "stderr"
        },
        {
          "output_type": "stream",
          "text": [
            "Processing 02-01-01-01-01-01-01.mp4, 65/120\n"
          ],
          "name": "stdout"
        },
        {
          "output_type": "stream",
          "text": [
            "\n",
            " 54%|█████▍    | 65/120 [00:27<00:22,  2.41it/s]\u001b[A"
          ],
          "name": "stderr"
        },
        {
          "output_type": "stream",
          "text": [
            "Processing 01-01-03-01-01-01-01.mp4, 66/120\n"
          ],
          "name": "stdout"
        },
        {
          "output_type": "stream",
          "text": [
            "\n",
            " 55%|█████▌    | 66/120 [00:27<00:22,  2.39it/s]\u001b[A"
          ],
          "name": "stderr"
        },
        {
          "output_type": "stream",
          "text": [
            "Processing 02-01-01-01-02-02-01.mp4, 67/120\n"
          ],
          "name": "stdout"
        },
        {
          "output_type": "stream",
          "text": [
            "\n",
            " 56%|█████▌    | 67/120 [00:28<00:21,  2.42it/s]\u001b[A"
          ],
          "name": "stderr"
        },
        {
          "output_type": "stream",
          "text": [
            "Processing 02-01-02-01-01-01-01.mp4, 68/120\n"
          ],
          "name": "stdout"
        },
        {
          "output_type": "stream",
          "text": [
            "\n",
            " 57%|█████▋    | 68/120 [00:28<00:21,  2.39it/s]\u001b[A"
          ],
          "name": "stderr"
        },
        {
          "output_type": "stream",
          "text": [
            "Processing 01-01-01-01-02-02-01.mp4, 69/120\n"
          ],
          "name": "stdout"
        },
        {
          "output_type": "stream",
          "text": [
            "\n",
            " 57%|█████▊    | 69/120 [00:28<00:21,  2.40it/s]\u001b[A"
          ],
          "name": "stderr"
        },
        {
          "output_type": "stream",
          "text": [
            "Processing 02-01-05-02-01-01-01.mp4, 70/120\n"
          ],
          "name": "stdout"
        },
        {
          "output_type": "stream",
          "text": [
            "\n",
            " 58%|█████▊    | 70/120 [00:29<00:21,  2.38it/s]\u001b[A"
          ],
          "name": "stderr"
        },
        {
          "output_type": "stream",
          "text": [
            "Processing 01-01-04-02-01-02-01.mp4, 71/120\n"
          ],
          "name": "stdout"
        },
        {
          "output_type": "stream",
          "text": [
            "\n",
            " 59%|█████▉    | 71/120 [00:29<00:20,  2.39it/s]\u001b[A"
          ],
          "name": "stderr"
        },
        {
          "output_type": "stream",
          "text": [
            "Processing 01-01-03-01-02-01-01.mp4, 72/120\n"
          ],
          "name": "stdout"
        },
        {
          "output_type": "stream",
          "text": [
            "\n",
            " 60%|██████    | 72/120 [00:30<00:19,  2.40it/s]\u001b[A"
          ],
          "name": "stderr"
        },
        {
          "output_type": "stream",
          "text": [
            "Processing 02-01-06-01-01-01-01.mp4, 73/120\n"
          ],
          "name": "stdout"
        },
        {
          "output_type": "stream",
          "text": [
            "\n",
            " 61%|██████    | 73/120 [00:30<00:19,  2.43it/s]\u001b[A"
          ],
          "name": "stderr"
        },
        {
          "output_type": "stream",
          "text": [
            "Processing 02-01-04-01-02-02-01.mp4, 74/120\n"
          ],
          "name": "stdout"
        },
        {
          "output_type": "stream",
          "text": [
            "\n",
            " 62%|██████▏   | 74/120 [00:31<00:19,  2.41it/s]\u001b[A"
          ],
          "name": "stderr"
        },
        {
          "output_type": "stream",
          "text": [
            "Processing 01-01-07-01-01-02-01.mp4, 75/120\n"
          ],
          "name": "stdout"
        },
        {
          "output_type": "stream",
          "text": [
            "\n",
            " 62%|██████▎   | 75/120 [00:31<00:18,  2.40it/s]\u001b[A"
          ],
          "name": "stderr"
        },
        {
          "output_type": "stream",
          "text": [
            "Processing 02-01-03-02-01-01-01.mp4, 76/120\n"
          ],
          "name": "stdout"
        },
        {
          "output_type": "stream",
          "text": [
            "\n",
            " 63%|██████▎   | 76/120 [00:31<00:18,  2.41it/s]\u001b[A"
          ],
          "name": "stderr"
        },
        {
          "output_type": "stream",
          "text": [
            "Processing 01-01-06-01-02-01-01.mp4, 77/120\n"
          ],
          "name": "stdout"
        },
        {
          "output_type": "stream",
          "text": [
            "\n",
            " 64%|██████▍   | 77/120 [00:32<00:17,  2.41it/s]\u001b[A"
          ],
          "name": "stderr"
        },
        {
          "output_type": "stream",
          "text": [
            "Processing 01-01-07-02-02-02-01.mp4, 78/120\n"
          ],
          "name": "stdout"
        },
        {
          "output_type": "stream",
          "text": [
            "\n",
            " 65%|██████▌   | 78/120 [00:32<00:17,  2.43it/s]\u001b[A"
          ],
          "name": "stderr"
        },
        {
          "output_type": "stream",
          "text": [
            "Processing 01-01-02-01-02-02-01.mp4, 79/120\n"
          ],
          "name": "stdout"
        },
        {
          "output_type": "stream",
          "text": [
            "\n",
            " 66%|██████▌   | 79/120 [00:33<00:16,  2.45it/s]\u001b[A"
          ],
          "name": "stderr"
        },
        {
          "output_type": "stream",
          "text": [
            "Processing 02-01-02-02-02-01-01.mp4, 80/120\n"
          ],
          "name": "stdout"
        },
        {
          "output_type": "stream",
          "text": [
            "\n",
            " 67%|██████▋   | 80/120 [00:33<00:16,  2.42it/s]\u001b[A"
          ],
          "name": "stderr"
        },
        {
          "output_type": "stream",
          "text": [
            "Processing 01-01-01-01-02-01-01.mp4, 81/120\n"
          ],
          "name": "stdout"
        },
        {
          "output_type": "stream",
          "text": [
            "\n",
            " 68%|██████▊   | 81/120 [00:33<00:16,  2.40it/s]\u001b[A"
          ],
          "name": "stderr"
        },
        {
          "output_type": "stream",
          "text": [
            "Processing 02-01-04-01-02-01-01.mp4, 82/120\n"
          ],
          "name": "stdout"
        },
        {
          "output_type": "stream",
          "text": [
            "\n",
            " 68%|██████▊   | 82/120 [00:34<00:15,  2.39it/s]\u001b[A"
          ],
          "name": "stderr"
        },
        {
          "output_type": "stream",
          "text": [
            "Processing 01-01-03-02-02-01-01.mp4, 83/120\n"
          ],
          "name": "stdout"
        },
        {
          "output_type": "stream",
          "text": [
            "\n",
            " 69%|██████▉   | 83/120 [00:34<00:15,  2.39it/s]\u001b[A"
          ],
          "name": "stderr"
        },
        {
          "output_type": "stream",
          "text": [
            "Processing 02-01-07-02-02-02-01.mp4, 84/120\n"
          ],
          "name": "stdout"
        },
        {
          "output_type": "stream",
          "text": [
            "\n",
            " 70%|███████   | 84/120 [00:35<00:15,  2.40it/s]\u001b[A"
          ],
          "name": "stderr"
        },
        {
          "output_type": "stream",
          "text": [
            "Processing 02-01-06-01-02-02-01.mp4, 85/120\n"
          ],
          "name": "stdout"
        },
        {
          "output_type": "stream",
          "text": [
            "\n",
            " 71%|███████   | 85/120 [00:35<00:14,  2.39it/s]\u001b[A"
          ],
          "name": "stderr"
        },
        {
          "output_type": "stream",
          "text": [
            "Processing 01-01-07-01-02-01-01.mp4, 86/120\n"
          ],
          "name": "stdout"
        },
        {
          "output_type": "stream",
          "text": [
            "\n",
            " 72%|███████▏  | 86/120 [00:36<00:14,  2.39it/s]\u001b[A"
          ],
          "name": "stderr"
        },
        {
          "output_type": "stream",
          "text": [
            "Processing 01-01-06-02-02-02-01.mp4, 87/120\n"
          ],
          "name": "stdout"
        },
        {
          "output_type": "stream",
          "text": [
            "\n",
            " 72%|███████▎  | 87/120 [00:36<00:13,  2.38it/s]\u001b[A"
          ],
          "name": "stderr"
        },
        {
          "output_type": "stream",
          "text": [
            "Processing 01-01-04-01-02-01-01.mp4, 88/120\n"
          ],
          "name": "stdout"
        },
        {
          "output_type": "stream",
          "text": [
            "\n",
            " 73%|███████▎  | 88/120 [00:36<00:13,  2.37it/s]\u001b[A"
          ],
          "name": "stderr"
        },
        {
          "output_type": "stream",
          "text": [
            "Processing 02-01-05-01-02-01-01.mp4, 89/120\n"
          ],
          "name": "stdout"
        },
        {
          "output_type": "stream",
          "text": [
            "\n",
            " 74%|███████▍  | 89/120 [00:37<00:13,  2.37it/s]\u001b[A"
          ],
          "name": "stderr"
        },
        {
          "output_type": "stream",
          "text": [
            "Processing 01-01-08-02-01-02-01.mp4, 90/120\n"
          ],
          "name": "stdout"
        },
        {
          "output_type": "stream",
          "text": [
            "\n",
            " 75%|███████▌  | 90/120 [00:37<00:12,  2.37it/s]\u001b[A"
          ],
          "name": "stderr"
        },
        {
          "output_type": "stream",
          "text": [
            "Processing 02-01-05-01-02-02-01.mp4, 91/120\n"
          ],
          "name": "stdout"
        },
        {
          "output_type": "stream",
          "text": [
            "\n",
            " 76%|███████▌  | 91/120 [00:38<00:12,  2.34it/s]\u001b[A"
          ],
          "name": "stderr"
        },
        {
          "output_type": "stream",
          "text": [
            "Processing 01-01-05-02-01-02-01.mp4, 92/120\n"
          ],
          "name": "stdout"
        },
        {
          "output_type": "stream",
          "text": [
            "\n",
            " 77%|███████▋  | 92/120 [00:38<00:11,  2.36it/s]\u001b[A"
          ],
          "name": "stderr"
        },
        {
          "output_type": "stream",
          "text": [
            "Processing 02-01-08-02-02-02-01.mp4, 93/120\n"
          ],
          "name": "stdout"
        },
        {
          "output_type": "stream",
          "text": [
            "\n",
            " 78%|███████▊  | 93/120 [00:39<00:11,  2.37it/s]\u001b[A"
          ],
          "name": "stderr"
        },
        {
          "output_type": "stream",
          "text": [
            "Processing 02-01-02-01-02-02-01.mp4, 94/120\n"
          ],
          "name": "stdout"
        },
        {
          "output_type": "stream",
          "text": [
            "\n",
            " 78%|███████▊  | 94/120 [00:39<00:11,  2.35it/s]\u001b[A"
          ],
          "name": "stderr"
        },
        {
          "output_type": "stream",
          "text": [
            "Processing 02-01-06-02-01-01-01.mp4, 95/120\n"
          ],
          "name": "stdout"
        },
        {
          "output_type": "stream",
          "text": [
            "\n",
            " 79%|███████▉  | 95/120 [00:39<00:10,  2.36it/s]\u001b[A"
          ],
          "name": "stderr"
        },
        {
          "output_type": "stream",
          "text": [
            "Processing 02-01-08-02-01-01-01.mp4, 96/120\n"
          ],
          "name": "stdout"
        },
        {
          "output_type": "stream",
          "text": [
            "\n",
            " 80%|████████  | 96/120 [00:40<00:10,  2.38it/s]\u001b[A"
          ],
          "name": "stderr"
        },
        {
          "output_type": "stream",
          "text": [
            "Processing 01-01-08-02-02-01-01.mp4, 97/120\n"
          ],
          "name": "stdout"
        },
        {
          "output_type": "stream",
          "text": [
            "\n",
            " 81%|████████  | 97/120 [00:40<00:09,  2.38it/s]\u001b[A"
          ],
          "name": "stderr"
        },
        {
          "output_type": "stream",
          "text": [
            "Processing 01-01-07-02-01-02-01.mp4, 98/120\n"
          ],
          "name": "stdout"
        },
        {
          "output_type": "stream",
          "text": [
            "\n",
            " 82%|████████▏ | 98/120 [00:41<00:09,  2.42it/s]\u001b[A"
          ],
          "name": "stderr"
        },
        {
          "output_type": "stream",
          "text": [
            "Processing 01-01-07-02-02-01-01.mp4, 99/120\n"
          ],
          "name": "stdout"
        },
        {
          "output_type": "stream",
          "text": [
            "\n",
            " 82%|████████▎ | 99/120 [00:41<00:08,  2.42it/s]\u001b[A"
          ],
          "name": "stderr"
        },
        {
          "output_type": "stream",
          "text": [
            "Processing 01-01-04-02-02-02-01.mp4, 100/120\n"
          ],
          "name": "stdout"
        },
        {
          "output_type": "stream",
          "text": [
            "\n",
            " 83%|████████▎ | 100/120 [00:41<00:08,  2.40it/s]\u001b[A"
          ],
          "name": "stderr"
        },
        {
          "output_type": "stream",
          "text": [
            "Processing 01-01-07-01-02-02-01.mp4, 101/120\n"
          ],
          "name": "stdout"
        },
        {
          "output_type": "stream",
          "text": [
            "\n",
            " 84%|████████▍ | 101/120 [00:42<00:07,  2.41it/s]\u001b[A"
          ],
          "name": "stderr"
        },
        {
          "output_type": "stream",
          "text": [
            "Processing 02-01-06-02-01-02-01.mp4, 102/120\n"
          ],
          "name": "stdout"
        },
        {
          "output_type": "stream",
          "text": [
            "\n",
            " 85%|████████▌ | 102/120 [00:42<00:07,  2.40it/s]\u001b[A"
          ],
          "name": "stderr"
        },
        {
          "output_type": "stream",
          "text": [
            "Processing 01-01-02-02-01-01-01.mp4, 103/120\n"
          ],
          "name": "stdout"
        },
        {
          "output_type": "stream",
          "text": [
            "\n",
            " 86%|████████▌ | 103/120 [00:43<00:07,  2.41it/s]\u001b[A"
          ],
          "name": "stderr"
        },
        {
          "output_type": "stream",
          "text": [
            "Processing 02-01-03-01-01-01-01.mp4, 104/120\n"
          ],
          "name": "stdout"
        },
        {
          "output_type": "stream",
          "text": [
            "\n",
            " 87%|████████▋ | 104/120 [00:43<00:06,  2.39it/s]\u001b[A"
          ],
          "name": "stderr"
        },
        {
          "output_type": "stream",
          "text": [
            "Processing 01-01-07-02-01-01-01.mp4, 105/120\n"
          ],
          "name": "stdout"
        },
        {
          "output_type": "stream",
          "text": [
            "\n",
            " 88%|████████▊ | 105/120 [00:44<00:06,  2.40it/s]\u001b[A"
          ],
          "name": "stderr"
        },
        {
          "output_type": "stream",
          "text": [
            "Processing 02-01-06-02-02-01-01.mp4, 106/120\n"
          ],
          "name": "stdout"
        },
        {
          "output_type": "stream",
          "text": [
            "\n",
            " 88%|████████▊ | 106/120 [00:44<00:05,  2.40it/s]\u001b[A"
          ],
          "name": "stderr"
        },
        {
          "output_type": "stream",
          "text": [
            "Processing 02-01-02-02-01-02-01.mp4, 107/120\n"
          ],
          "name": "stdout"
        },
        {
          "output_type": "stream",
          "text": [
            "\n",
            " 89%|████████▉ | 107/120 [00:44<00:05,  2.39it/s]\u001b[A"
          ],
          "name": "stderr"
        },
        {
          "output_type": "stream",
          "text": [
            "Processing 02-01-05-02-02-02-01.mp4, 108/120\n"
          ],
          "name": "stdout"
        },
        {
          "output_type": "stream",
          "text": [
            "\n",
            " 90%|█████████ | 108/120 [00:45<00:05,  2.38it/s]\u001b[A"
          ],
          "name": "stderr"
        },
        {
          "output_type": "stream",
          "text": [
            "Processing 02-01-08-01-02-01-01.mp4, 109/120\n"
          ],
          "name": "stdout"
        },
        {
          "output_type": "stream",
          "text": [
            "\n",
            " 91%|█████████ | 109/120 [00:45<00:04,  2.35it/s]\u001b[A"
          ],
          "name": "stderr"
        },
        {
          "output_type": "stream",
          "text": [
            "Processing 02-01-08-01-02-02-01.mp4, 110/120\n"
          ],
          "name": "stdout"
        },
        {
          "output_type": "stream",
          "text": [
            "\n",
            " 92%|█████████▏| 110/120 [00:46<00:04,  2.39it/s]\u001b[A"
          ],
          "name": "stderr"
        },
        {
          "output_type": "stream",
          "text": [
            "Processing 01-01-06-01-01-01-01.mp4, 111/120\n"
          ],
          "name": "stdout"
        },
        {
          "output_type": "stream",
          "text": [
            "\n",
            " 92%|█████████▎| 111/120 [00:46<00:03,  2.39it/s]\u001b[A"
          ],
          "name": "stderr"
        },
        {
          "output_type": "stream",
          "text": [
            "Processing 01-01-05-01-02-01-01.mp4, 112/120\n"
          ],
          "name": "stdout"
        },
        {
          "output_type": "stream",
          "text": [
            "\n",
            " 93%|█████████▎| 112/120 [00:46<00:03,  2.41it/s]\u001b[A"
          ],
          "name": "stderr"
        },
        {
          "output_type": "stream",
          "text": [
            "Processing 02-01-04-02-02-01-01.mp4, 113/120\n"
          ],
          "name": "stdout"
        },
        {
          "output_type": "stream",
          "text": [
            "\n",
            " 94%|█████████▍| 113/120 [00:47<00:02,  2.38it/s]\u001b[A"
          ],
          "name": "stderr"
        },
        {
          "output_type": "stream",
          "text": [
            "Processing 02-01-07-01-02-02-01.mp4, 114/120\n"
          ],
          "name": "stdout"
        },
        {
          "output_type": "stream",
          "text": [
            "\n",
            " 95%|█████████▌| 114/120 [00:47<00:02,  2.40it/s]\u001b[A"
          ],
          "name": "stderr"
        },
        {
          "output_type": "stream",
          "text": [
            "Processing 02-01-07-01-01-02-01.mp4, 115/120\n"
          ],
          "name": "stdout"
        },
        {
          "output_type": "stream",
          "text": [
            "\n",
            " 96%|█████████▌| 115/120 [00:48<00:02,  2.40it/s]\u001b[A"
          ],
          "name": "stderr"
        },
        {
          "output_type": "stream",
          "text": [
            "Processing 02-01-05-01-01-02-01.mp4, 116/120\n"
          ],
          "name": "stdout"
        },
        {
          "output_type": "stream",
          "text": [
            "\n",
            " 97%|█████████▋| 116/120 [00:48<00:01,  2.35it/s]\u001b[A"
          ],
          "name": "stderr"
        },
        {
          "output_type": "stream",
          "text": [
            "Processing 02-01-04-01-01-01-01.mp4, 117/120\n"
          ],
          "name": "stdout"
        },
        {
          "output_type": "stream",
          "text": [
            "\n",
            " 98%|█████████▊| 117/120 [00:49<00:01,  2.40it/s]\u001b[A"
          ],
          "name": "stderr"
        },
        {
          "output_type": "stream",
          "text": [
            "Processing 02-01-03-01-02-02-01.mp4, 118/120\n"
          ],
          "name": "stdout"
        },
        {
          "output_type": "stream",
          "text": [
            "\n",
            " 98%|█████████▊| 118/120 [00:49<00:00,  2.42it/s]\u001b[A"
          ],
          "name": "stderr"
        },
        {
          "output_type": "stream",
          "text": [
            "Processing 02-01-04-02-01-02-01.mp4, 119/120\n"
          ],
          "name": "stdout"
        },
        {
          "output_type": "stream",
          "text": [
            "\n",
            " 99%|█████████▉| 119/120 [00:49<00:00,  2.38it/s]\u001b[A"
          ],
          "name": "stderr"
        },
        {
          "output_type": "stream",
          "text": [
            "Processing 02-01-03-02-02-01-01.mp4, 120/120\n"
          ],
          "name": "stdout"
        },
        {
          "output_type": "stream",
          "text": [
            "\n",
            "100%|██████████| 120/120 [00:50<00:00,  2.38it/s]\n",
            " 67%|██████▋   | 2/3 [01:43<00:52, 52.06s/it]\n",
            "  0%|          | 0/120 [00:00<?, ?it/s]\u001b[A"
          ],
          "name": "stderr"
        },
        {
          "output_type": "stream",
          "text": [
            "Processing 02-01-08-01-01-01-02.mp4, 1/120\n"
          ],
          "name": "stdout"
        },
        {
          "output_type": "stream",
          "text": [
            "\n",
            "  1%|          | 1/120 [00:00<00:50,  2.33it/s]\u001b[A"
          ],
          "name": "stderr"
        },
        {
          "output_type": "stream",
          "text": [
            "Processing 01-01-01-01-01-01-02.mp4, 2/120\n"
          ],
          "name": "stdout"
        },
        {
          "output_type": "stream",
          "text": [
            "\n",
            "  2%|▏         | 2/120 [00:00<00:50,  2.35it/s]\u001b[A"
          ],
          "name": "stderr"
        },
        {
          "output_type": "stream",
          "text": [
            "Processing 02-01-06-01-01-02-02.mp4, 3/120\n"
          ],
          "name": "stdout"
        },
        {
          "output_type": "stream",
          "text": [
            "\n",
            "  2%|▎         | 3/120 [00:01<00:50,  2.33it/s]\u001b[A"
          ],
          "name": "stderr"
        },
        {
          "output_type": "stream",
          "text": [
            "Processing 02-01-05-02-01-01-02.mp4, 4/120\n"
          ],
          "name": "stdout"
        },
        {
          "output_type": "stream",
          "text": [
            "\n",
            "  3%|▎         | 4/120 [00:01<00:49,  2.33it/s]\u001b[A"
          ],
          "name": "stderr"
        },
        {
          "output_type": "stream",
          "text": [
            "Processing 02-01-02-01-01-01-02.mp4, 5/120\n"
          ],
          "name": "stdout"
        },
        {
          "output_type": "stream",
          "text": [
            "\n",
            "  4%|▍         | 5/120 [00:02<00:49,  2.34it/s]\u001b[A"
          ],
          "name": "stderr"
        },
        {
          "output_type": "stream",
          "text": [
            "Processing 01-01-02-01-01-01-02.mp4, 6/120\n"
          ],
          "name": "stdout"
        },
        {
          "output_type": "stream",
          "text": [
            "\n",
            "  5%|▌         | 6/120 [00:02<00:49,  2.32it/s]\u001b[A"
          ],
          "name": "stderr"
        },
        {
          "output_type": "stream",
          "text": [
            "Processing 01-01-03-02-01-01-02.mp4, 7/120\n"
          ],
          "name": "stdout"
        },
        {
          "output_type": "stream",
          "text": [
            "\n",
            "  6%|▌         | 7/120 [00:03<00:48,  2.32it/s]\u001b[A"
          ],
          "name": "stderr"
        },
        {
          "output_type": "stream",
          "text": [
            "Processing 02-01-07-01-01-01-02.mp4, 8/120\n"
          ],
          "name": "stdout"
        },
        {
          "output_type": "stream",
          "text": [
            "\n",
            "  7%|▋         | 8/120 [00:03<00:48,  2.30it/s]\u001b[A"
          ],
          "name": "stderr"
        },
        {
          "output_type": "stream",
          "text": [
            "Processing 01-01-03-02-02-02-02.mp4, 9/120\n"
          ],
          "name": "stdout"
        },
        {
          "output_type": "stream",
          "text": [
            "\n",
            "  8%|▊         | 9/120 [00:03<00:47,  2.32it/s]\u001b[A"
          ],
          "name": "stderr"
        },
        {
          "output_type": "stream",
          "text": [
            "Processing 02-01-01-01-01-02-02.mp4, 10/120\n"
          ],
          "name": "stdout"
        },
        {
          "output_type": "stream",
          "text": [
            "\n",
            "  8%|▊         | 10/120 [00:04<00:47,  2.31it/s]\u001b[A"
          ],
          "name": "stderr"
        },
        {
          "output_type": "stream",
          "text": [
            "Processing 01-01-07-02-02-02-02.mp4, 11/120\n"
          ],
          "name": "stdout"
        },
        {
          "output_type": "stream",
          "text": [
            "\n",
            "  9%|▉         | 11/120 [00:04<00:46,  2.34it/s]\u001b[A"
          ],
          "name": "stderr"
        },
        {
          "output_type": "stream",
          "text": [
            "Processing 02-01-01-01-02-01-02.mp4, 12/120\n"
          ],
          "name": "stdout"
        },
        {
          "output_type": "stream",
          "text": [
            "\n",
            " 10%|█         | 12/120 [00:05<00:46,  2.33it/s]\u001b[A"
          ],
          "name": "stderr"
        },
        {
          "output_type": "stream",
          "text": [
            "Processing 02-01-06-01-01-01-02.mp4, 13/120\n"
          ],
          "name": "stdout"
        },
        {
          "output_type": "stream",
          "text": [
            "\n",
            " 11%|█         | 13/120 [00:05<00:46,  2.32it/s]\u001b[A"
          ],
          "name": "stderr"
        },
        {
          "output_type": "stream",
          "text": [
            "Processing 02-01-08-02-01-01-02.mp4, 14/120\n"
          ],
          "name": "stdout"
        },
        {
          "output_type": "stream",
          "text": [
            "\n",
            " 12%|█▏        | 14/120 [00:06<00:45,  2.33it/s]\u001b[A"
          ],
          "name": "stderr"
        },
        {
          "output_type": "stream",
          "text": [
            "Processing 01-01-02-01-02-02-02.mp4, 15/120\n"
          ],
          "name": "stdout"
        },
        {
          "output_type": "stream",
          "text": [
            "\n",
            " 12%|█▎        | 15/120 [00:06<00:45,  2.30it/s]\u001b[A"
          ],
          "name": "stderr"
        },
        {
          "output_type": "stream",
          "text": [
            "Processing 01-01-06-01-02-01-02.mp4, 16/120\n"
          ],
          "name": "stdout"
        },
        {
          "output_type": "stream",
          "text": [
            "\n",
            " 13%|█▎        | 16/120 [00:06<00:44,  2.32it/s]\u001b[A"
          ],
          "name": "stderr"
        },
        {
          "output_type": "stream",
          "text": [
            "Processing 01-01-05-01-01-01-02.mp4, 17/120\n"
          ],
          "name": "stdout"
        },
        {
          "output_type": "stream",
          "text": [
            "\n",
            " 14%|█▍        | 17/120 [00:07<00:43,  2.35it/s]\u001b[A"
          ],
          "name": "stderr"
        },
        {
          "output_type": "stream",
          "text": [
            "Processing 01-01-03-02-01-02-02.mp4, 18/120\n"
          ],
          "name": "stdout"
        },
        {
          "output_type": "stream",
          "text": [
            "\n",
            " 15%|█▌        | 18/120 [00:07<00:43,  2.36it/s]\u001b[A"
          ],
          "name": "stderr"
        },
        {
          "output_type": "stream",
          "text": [
            "Processing 01-01-03-01-01-02-02.mp4, 19/120\n"
          ],
          "name": "stdout"
        },
        {
          "output_type": "stream",
          "text": [
            "\n",
            " 16%|█▌        | 19/120 [00:08<00:43,  2.34it/s]\u001b[A"
          ],
          "name": "stderr"
        },
        {
          "output_type": "stream",
          "text": [
            "Processing 01-01-02-02-02-02-02.mp4, 20/120\n"
          ],
          "name": "stdout"
        },
        {
          "output_type": "stream",
          "text": [
            "\n",
            " 17%|█▋        | 20/120 [00:08<00:43,  2.31it/s]\u001b[A"
          ],
          "name": "stderr"
        },
        {
          "output_type": "stream",
          "text": [
            "Processing 02-01-04-02-01-02-02.mp4, 21/120\n"
          ],
          "name": "stdout"
        },
        {
          "output_type": "stream",
          "text": [
            "\n",
            " 18%|█▊        | 21/120 [00:09<00:42,  2.33it/s]\u001b[A"
          ],
          "name": "stderr"
        },
        {
          "output_type": "stream",
          "text": [
            "Processing 02-01-07-02-02-02-02.mp4, 22/120\n"
          ],
          "name": "stdout"
        },
        {
          "output_type": "stream",
          "text": [
            "\n",
            " 18%|█▊        | 22/120 [00:09<00:42,  2.33it/s]\u001b[A"
          ],
          "name": "stderr"
        },
        {
          "output_type": "stream",
          "text": [
            "Processing 02-01-04-01-01-01-02.mp4, 23/120\n"
          ],
          "name": "stdout"
        },
        {
          "output_type": "stream",
          "text": [
            "\n",
            " 19%|█▉        | 23/120 [00:09<00:42,  2.31it/s]\u001b[A"
          ],
          "name": "stderr"
        },
        {
          "output_type": "stream",
          "text": [
            "Processing 01-01-08-02-02-01-02.mp4, 24/120\n"
          ],
          "name": "stdout"
        },
        {
          "output_type": "stream",
          "text": [
            "\n",
            " 20%|██        | 24/120 [00:10<00:41,  2.30it/s]\u001b[A"
          ],
          "name": "stderr"
        },
        {
          "output_type": "stream",
          "text": [
            "Processing 01-01-08-01-01-01-02.mp4, 25/120\n"
          ],
          "name": "stdout"
        },
        {
          "output_type": "stream",
          "text": [
            "\n",
            " 21%|██        | 25/120 [00:10<00:41,  2.27it/s]\u001b[A"
          ],
          "name": "stderr"
        },
        {
          "output_type": "stream",
          "text": [
            "Processing 01-01-01-01-02-02-02.mp4, 26/120\n"
          ],
          "name": "stdout"
        },
        {
          "output_type": "stream",
          "text": [
            "\n",
            " 22%|██▏       | 26/120 [00:11<00:41,  2.28it/s]\u001b[A"
          ],
          "name": "stderr"
        },
        {
          "output_type": "stream",
          "text": [
            "Processing 02-01-08-01-01-02-02.mp4, 27/120\n"
          ],
          "name": "stdout"
        },
        {
          "output_type": "stream",
          "text": [
            "\n",
            " 22%|██▎       | 27/120 [00:11<00:40,  2.30it/s]\u001b[A"
          ],
          "name": "stderr"
        },
        {
          "output_type": "stream",
          "text": [
            "Processing 02-01-06-02-02-01-02.mp4, 28/120\n"
          ],
          "name": "stdout"
        },
        {
          "output_type": "stream",
          "text": [
            "\n",
            " 23%|██▎       | 28/120 [00:12<00:39,  2.31it/s]\u001b[A"
          ],
          "name": "stderr"
        },
        {
          "output_type": "stream",
          "text": [
            "Processing 01-01-04-02-01-01-02.mp4, 29/120\n"
          ],
          "name": "stdout"
        },
        {
          "output_type": "stream",
          "text": [
            "\n",
            " 24%|██▍       | 29/120 [00:12<00:39,  2.33it/s]\u001b[A"
          ],
          "name": "stderr"
        },
        {
          "output_type": "stream",
          "text": [
            "Processing 01-01-02-01-02-01-02.mp4, 30/120\n"
          ],
          "name": "stdout"
        },
        {
          "output_type": "stream",
          "text": [
            "\n",
            " 25%|██▌       | 30/120 [00:12<00:39,  2.30it/s]\u001b[A"
          ],
          "name": "stderr"
        },
        {
          "output_type": "stream",
          "text": [
            "Processing 02-01-02-02-01-01-02.mp4, 31/120\n"
          ],
          "name": "stdout"
        },
        {
          "output_type": "stream",
          "text": [
            "\n",
            " 26%|██▌       | 31/120 [00:13<00:38,  2.29it/s]\u001b[A"
          ],
          "name": "stderr"
        },
        {
          "output_type": "stream",
          "text": [
            "Processing 02-01-05-02-01-02-02.mp4, 32/120\n"
          ],
          "name": "stdout"
        },
        {
          "output_type": "stream",
          "text": [
            "\n",
            " 27%|██▋       | 32/120 [00:13<00:38,  2.31it/s]\u001b[A"
          ],
          "name": "stderr"
        },
        {
          "output_type": "stream",
          "text": [
            "Processing 02-01-08-02-02-01-02.mp4, 33/120\n"
          ],
          "name": "stdout"
        },
        {
          "output_type": "stream",
          "text": [
            "\n",
            " 28%|██▊       | 33/120 [00:14<00:37,  2.31it/s]\u001b[A"
          ],
          "name": "stderr"
        },
        {
          "output_type": "stream",
          "text": [
            "Processing 01-01-05-02-01-02-02.mp4, 34/120\n"
          ],
          "name": "stdout"
        },
        {
          "output_type": "stream",
          "text": [
            "\n",
            " 28%|██▊       | 34/120 [00:14<00:37,  2.32it/s]\u001b[A"
          ],
          "name": "stderr"
        },
        {
          "output_type": "stream",
          "text": [
            "Processing 02-01-04-01-01-02-02.mp4, 35/120\n"
          ],
          "name": "stdout"
        },
        {
          "output_type": "stream",
          "text": [
            "\n",
            " 29%|██▉       | 35/120 [00:15<00:36,  2.33it/s]\u001b[A"
          ],
          "name": "stderr"
        },
        {
          "output_type": "stream",
          "text": [
            "Processing 02-01-02-02-01-02-02.mp4, 36/120\n"
          ],
          "name": "stdout"
        },
        {
          "output_type": "stream",
          "text": [
            "\n",
            " 30%|███       | 36/120 [00:15<00:36,  2.33it/s]\u001b[A"
          ],
          "name": "stderr"
        },
        {
          "output_type": "stream",
          "text": [
            "Processing 01-01-03-01-02-01-02.mp4, 37/120\n"
          ],
          "name": "stdout"
        },
        {
          "output_type": "stream",
          "text": [
            "\n",
            " 31%|███       | 37/120 [00:15<00:36,  2.30it/s]\u001b[A"
          ],
          "name": "stderr"
        },
        {
          "output_type": "stream",
          "text": [
            "Processing 02-01-04-02-02-01-02.mp4, 38/120\n"
          ],
          "name": "stdout"
        },
        {
          "output_type": "stream",
          "text": [
            "\n",
            " 32%|███▏      | 38/120 [00:16<00:35,  2.30it/s]\u001b[A"
          ],
          "name": "stderr"
        },
        {
          "output_type": "stream",
          "text": [
            "Processing 01-01-05-01-01-02-02.mp4, 39/120\n"
          ],
          "name": "stdout"
        },
        {
          "output_type": "stream",
          "text": [
            "\n",
            " 32%|███▎      | 39/120 [00:16<00:35,  2.26it/s]\u001b[A"
          ],
          "name": "stderr"
        },
        {
          "output_type": "stream",
          "text": [
            "Processing 01-01-06-02-02-01-02.mp4, 40/120\n"
          ],
          "name": "stdout"
        },
        {
          "output_type": "stream",
          "text": [
            "\n",
            " 33%|███▎      | 40/120 [00:17<00:35,  2.26it/s]\u001b[A"
          ],
          "name": "stderr"
        },
        {
          "output_type": "stream",
          "text": [
            "Processing 02-01-07-02-01-01-02.mp4, 41/120\n"
          ],
          "name": "stdout"
        },
        {
          "output_type": "stream",
          "text": [
            "\n",
            " 34%|███▍      | 41/120 [00:17<00:34,  2.29it/s]\u001b[A"
          ],
          "name": "stderr"
        },
        {
          "output_type": "stream",
          "text": [
            "Processing 01-01-04-01-02-02-02.mp4, 42/120\n"
          ],
          "name": "stdout"
        },
        {
          "output_type": "stream",
          "text": [
            "\n",
            " 35%|███▌      | 42/120 [00:18<00:34,  2.25it/s]\u001b[A"
          ],
          "name": "stderr"
        },
        {
          "output_type": "stream",
          "text": [
            "Processing 01-01-04-02-02-01-02.mp4, 43/120\n"
          ],
          "name": "stdout"
        },
        {
          "output_type": "stream",
          "text": [
            "\n",
            " 36%|███▌      | 43/120 [00:18<00:33,  2.28it/s]\u001b[A"
          ],
          "name": "stderr"
        },
        {
          "output_type": "stream",
          "text": [
            "Processing 01-01-01-01-01-02-02.mp4, 44/120\n"
          ],
          "name": "stdout"
        },
        {
          "output_type": "stream",
          "text": [
            "\n",
            " 37%|███▋      | 44/120 [00:19<00:33,  2.27it/s]\u001b[A"
          ],
          "name": "stderr"
        },
        {
          "output_type": "stream",
          "text": [
            "Processing 01-01-08-01-01-02-02.mp4, 45/120\n"
          ],
          "name": "stdout"
        },
        {
          "output_type": "stream",
          "text": [
            "\n",
            " 38%|███▊      | 45/120 [00:19<00:33,  2.27it/s]\u001b[A"
          ],
          "name": "stderr"
        },
        {
          "output_type": "stream",
          "text": [
            "Processing 01-01-05-02-02-01-02.mp4, 46/120\n"
          ],
          "name": "stdout"
        },
        {
          "output_type": "stream",
          "text": [
            "\n",
            " 38%|███▊      | 46/120 [00:19<00:32,  2.26it/s]\u001b[A"
          ],
          "name": "stderr"
        },
        {
          "output_type": "stream",
          "text": [
            "Processing 02-01-05-01-01-02-02.mp4, 47/120\n"
          ],
          "name": "stdout"
        },
        {
          "output_type": "stream",
          "text": [
            "\n",
            " 39%|███▉      | 47/120 [00:20<00:32,  2.22it/s]\u001b[A"
          ],
          "name": "stderr"
        },
        {
          "output_type": "stream",
          "text": [
            "Processing 01-01-05-01-02-01-02.mp4, 48/120\n"
          ],
          "name": "stdout"
        },
        {
          "output_type": "stream",
          "text": [
            "\n",
            " 40%|████      | 48/120 [00:20<00:32,  2.24it/s]\u001b[A"
          ],
          "name": "stderr"
        },
        {
          "output_type": "stream",
          "text": [
            "Processing 02-01-04-02-01-01-02.mp4, 49/120\n"
          ],
          "name": "stdout"
        },
        {
          "output_type": "stream",
          "text": [
            "\n",
            " 41%|████      | 49/120 [00:21<00:31,  2.24it/s]\u001b[A"
          ],
          "name": "stderr"
        },
        {
          "output_type": "stream",
          "text": [
            "Processing 02-01-06-02-01-01-02.mp4, 50/120\n"
          ],
          "name": "stdout"
        },
        {
          "output_type": "stream",
          "text": [
            "\n",
            " 42%|████▏     | 50/120 [00:21<00:30,  2.28it/s]\u001b[A"
          ],
          "name": "stderr"
        },
        {
          "output_type": "stream",
          "text": [
            "Processing 01-01-07-01-01-01-02.mp4, 51/120\n"
          ],
          "name": "stdout"
        },
        {
          "output_type": "stream",
          "text": [
            "\n",
            " 42%|████▎     | 51/120 [00:22<00:30,  2.29it/s]\u001b[A"
          ],
          "name": "stderr"
        },
        {
          "output_type": "stream",
          "text": [
            "Processing 01-01-06-01-01-02-02.mp4, 52/120\n"
          ],
          "name": "stdout"
        },
        {
          "output_type": "stream",
          "text": [
            "\n",
            " 43%|████▎     | 52/120 [00:22<00:29,  2.29it/s]\u001b[A"
          ],
          "name": "stderr"
        },
        {
          "output_type": "stream",
          "text": [
            "Processing 01-01-04-01-02-01-02.mp4, 53/120\n"
          ],
          "name": "stdout"
        },
        {
          "output_type": "stream",
          "text": [
            "\n",
            " 44%|████▍     | 53/120 [00:23<00:28,  2.32it/s]\u001b[A"
          ],
          "name": "stderr"
        },
        {
          "output_type": "stream",
          "text": [
            "Processing 02-01-06-02-01-02-02.mp4, 54/120\n"
          ],
          "name": "stdout"
        },
        {
          "output_type": "stream",
          "text": [
            "\n",
            " 45%|████▌     | 54/120 [00:23<00:28,  2.33it/s]\u001b[A"
          ],
          "name": "stderr"
        },
        {
          "output_type": "stream",
          "text": [
            "Processing 02-01-07-01-01-02-02.mp4, 55/120\n"
          ],
          "name": "stdout"
        },
        {
          "output_type": "stream",
          "text": [
            "\n",
            " 46%|████▌     | 55/120 [00:23<00:27,  2.33it/s]\u001b[A"
          ],
          "name": "stderr"
        },
        {
          "output_type": "stream",
          "text": [
            "Processing 01-01-06-02-01-02-02.mp4, 56/120\n"
          ],
          "name": "stdout"
        },
        {
          "output_type": "stream",
          "text": [
            "\n",
            " 47%|████▋     | 56/120 [00:24<00:27,  2.34it/s]\u001b[A"
          ],
          "name": "stderr"
        },
        {
          "output_type": "stream",
          "text": [
            "Processing 01-01-04-02-02-02-02.mp4, 57/120\n"
          ],
          "name": "stdout"
        },
        {
          "output_type": "stream",
          "text": [
            "\n",
            " 48%|████▊     | 57/120 [00:24<00:27,  2.33it/s]\u001b[A"
          ],
          "name": "stderr"
        },
        {
          "output_type": "stream",
          "text": [
            "Processing 01-01-04-02-01-02-02.mp4, 58/120\n"
          ],
          "name": "stdout"
        },
        {
          "output_type": "stream",
          "text": [
            "\n",
            " 48%|████▊     | 58/120 [00:25<00:26,  2.32it/s]\u001b[A"
          ],
          "name": "stderr"
        },
        {
          "output_type": "stream",
          "text": [
            "Processing 02-01-03-02-02-01-02.mp4, 59/120\n"
          ],
          "name": "stdout"
        },
        {
          "output_type": "stream",
          "text": [
            "\n",
            " 49%|████▉     | 59/120 [00:25<00:26,  2.33it/s]\u001b[A"
          ],
          "name": "stderr"
        },
        {
          "output_type": "stream",
          "text": [
            "Processing 02-01-05-02-02-01-02.mp4, 60/120\n"
          ],
          "name": "stdout"
        },
        {
          "output_type": "stream",
          "text": [
            "\n",
            " 50%|█████     | 60/120 [00:26<00:25,  2.34it/s]\u001b[A"
          ],
          "name": "stderr"
        },
        {
          "output_type": "stream",
          "text": [
            "Processing 02-01-04-01-02-02-02.mp4, 61/120\n"
          ],
          "name": "stdout"
        },
        {
          "output_type": "stream",
          "text": [
            "\n",
            " 51%|█████     | 61/120 [00:26<00:25,  2.33it/s]\u001b[A"
          ],
          "name": "stderr"
        },
        {
          "output_type": "stream",
          "text": [
            "Processing 02-01-02-02-02-01-02.mp4, 62/120\n"
          ],
          "name": "stdout"
        },
        {
          "output_type": "stream",
          "text": [
            "\n",
            " 52%|█████▏    | 62/120 [00:26<00:25,  2.32it/s]\u001b[A"
          ],
          "name": "stderr"
        },
        {
          "output_type": "stream",
          "text": [
            "Processing 02-01-05-01-02-02-02.mp4, 63/120\n"
          ],
          "name": "stdout"
        },
        {
          "output_type": "stream",
          "text": [
            "\n",
            " 52%|█████▎    | 63/120 [00:27<00:24,  2.32it/s]\u001b[A"
          ],
          "name": "stderr"
        },
        {
          "output_type": "stream",
          "text": [
            "Processing 01-01-02-02-02-01-02.mp4, 64/120\n"
          ],
          "name": "stdout"
        },
        {
          "output_type": "stream",
          "text": [
            "\n",
            " 53%|█████▎    | 64/120 [00:27<00:24,  2.32it/s]\u001b[A"
          ],
          "name": "stderr"
        },
        {
          "output_type": "stream",
          "text": [
            "Processing 01-01-03-01-01-01-02.mp4, 65/120\n"
          ],
          "name": "stdout"
        },
        {
          "output_type": "stream",
          "text": [
            "\n",
            " 54%|█████▍    | 65/120 [00:28<00:23,  2.32it/s]\u001b[A"
          ],
          "name": "stderr"
        },
        {
          "output_type": "stream",
          "text": [
            "Processing 01-01-08-02-01-02-02.mp4, 66/120\n"
          ],
          "name": "stdout"
        },
        {
          "output_type": "stream",
          "text": [
            "\n",
            " 55%|█████▌    | 66/120 [00:28<00:23,  2.33it/s]\u001b[A"
          ],
          "name": "stderr"
        },
        {
          "output_type": "stream",
          "text": [
            "Processing 02-01-08-01-02-01-02.mp4, 67/120\n"
          ],
          "name": "stdout"
        },
        {
          "output_type": "stream",
          "text": [
            "\n",
            " 56%|█████▌    | 67/120 [00:29<00:22,  2.32it/s]\u001b[A"
          ],
          "name": "stderr"
        },
        {
          "output_type": "stream",
          "text": [
            "Processing 02-01-08-02-01-02-02.mp4, 68/120\n"
          ],
          "name": "stdout"
        },
        {
          "output_type": "stream",
          "text": [
            "\n",
            " 57%|█████▋    | 68/120 [00:29<00:22,  2.28it/s]\u001b[A"
          ],
          "name": "stderr"
        },
        {
          "output_type": "stream",
          "text": [
            "Processing 01-01-06-01-01-01-02.mp4, 69/120\n"
          ],
          "name": "stdout"
        },
        {
          "output_type": "stream",
          "text": [
            "\n",
            " 57%|█████▊    | 69/120 [00:29<00:22,  2.28it/s]\u001b[A"
          ],
          "name": "stderr"
        },
        {
          "output_type": "stream",
          "text": [
            "Processing 02-01-03-02-02-02-02.mp4, 70/120\n"
          ],
          "name": "stdout"
        },
        {
          "output_type": "stream",
          "text": [
            "\n",
            " 58%|█████▊    | 70/120 [00:30<00:21,  2.28it/s]\u001b[A"
          ],
          "name": "stderr"
        },
        {
          "output_type": "stream",
          "text": [
            "Processing 02-01-03-01-02-01-02.mp4, 71/120\n"
          ],
          "name": "stdout"
        },
        {
          "output_type": "stream",
          "text": [
            "\n",
            " 59%|█████▉    | 71/120 [00:30<00:21,  2.32it/s]\u001b[A"
          ],
          "name": "stderr"
        },
        {
          "output_type": "stream",
          "text": [
            "Processing 02-01-06-02-02-02-02.mp4, 72/120\n"
          ],
          "name": "stdout"
        },
        {
          "output_type": "stream",
          "text": [
            "\n",
            " 60%|██████    | 72/120 [00:31<00:20,  2.32it/s]\u001b[A"
          ],
          "name": "stderr"
        },
        {
          "output_type": "stream",
          "text": [
            "Processing 01-01-07-01-02-02-02.mp4, 73/120\n"
          ],
          "name": "stdout"
        },
        {
          "output_type": "stream",
          "text": [
            "\n",
            " 61%|██████    | 73/120 [00:31<00:20,  2.27it/s]\u001b[A"
          ],
          "name": "stderr"
        },
        {
          "output_type": "stream",
          "text": [
            "Processing 01-01-08-01-02-02-02.mp4, 74/120\n"
          ],
          "name": "stdout"
        },
        {
          "output_type": "stream",
          "text": [
            "\n",
            " 62%|██████▏   | 74/120 [00:32<00:20,  2.21it/s]\u001b[A"
          ],
          "name": "stderr"
        },
        {
          "output_type": "stream",
          "text": [
            "Processing 02-01-07-01-02-02-02.mp4, 75/120\n"
          ],
          "name": "stdout"
        },
        {
          "output_type": "stream",
          "text": [
            "\n",
            " 62%|██████▎   | 75/120 [00:32<00:20,  2.18it/s]\u001b[A"
          ],
          "name": "stderr"
        },
        {
          "output_type": "stream",
          "text": [
            "Processing 02-01-03-01-02-02-02.mp4, 76/120\n"
          ],
          "name": "stdout"
        },
        {
          "output_type": "stream",
          "text": [
            "\n",
            " 63%|██████▎   | 76/120 [00:33<00:20,  2.20it/s]\u001b[A"
          ],
          "name": "stderr"
        },
        {
          "output_type": "stream",
          "text": [
            "Processing 01-01-07-02-02-01-02.mp4, 77/120\n"
          ],
          "name": "stdout"
        },
        {
          "output_type": "stream",
          "text": [
            "\n",
            " 64%|██████▍   | 77/120 [00:33<00:19,  2.18it/s]\u001b[A"
          ],
          "name": "stderr"
        },
        {
          "output_type": "stream",
          "text": [
            "Processing 01-01-06-01-02-02-02.mp4, 78/120\n"
          ],
          "name": "stdout"
        },
        {
          "output_type": "stream",
          "text": [
            "\n",
            " 65%|██████▌   | 78/120 [00:33<00:19,  2.20it/s]\u001b[A"
          ],
          "name": "stderr"
        },
        {
          "output_type": "stream",
          "text": [
            "Processing 02-01-03-02-01-01-02.mp4, 79/120\n"
          ],
          "name": "stdout"
        },
        {
          "output_type": "stream",
          "text": [
            "\n",
            " 66%|██████▌   | 79/120 [00:34<00:18,  2.22it/s]\u001b[A"
          ],
          "name": "stderr"
        },
        {
          "output_type": "stream",
          "text": [
            "Processing 02-01-02-01-02-01-02.mp4, 80/120\n"
          ],
          "name": "stdout"
        },
        {
          "output_type": "stream",
          "text": [
            "\n",
            " 67%|██████▋   | 80/120 [00:34<00:17,  2.25it/s]\u001b[A"
          ],
          "name": "stderr"
        },
        {
          "output_type": "stream",
          "text": [
            "Processing 02-01-03-02-01-02-02.mp4, 81/120\n"
          ],
          "name": "stdout"
        },
        {
          "output_type": "stream",
          "text": [
            "\n",
            " 68%|██████▊   | 81/120 [00:35<00:17,  2.25it/s]\u001b[A"
          ],
          "name": "stderr"
        },
        {
          "output_type": "stream",
          "text": [
            "Processing 01-01-05-02-01-01-02.mp4, 82/120\n"
          ],
          "name": "stdout"
        },
        {
          "output_type": "stream",
          "text": [
            "\n",
            " 68%|██████▊   | 82/120 [00:35<00:16,  2.27it/s]\u001b[A"
          ],
          "name": "stderr"
        },
        {
          "output_type": "stream",
          "text": [
            "Processing 01-01-07-01-01-02-02.mp4, 83/120\n"
          ],
          "name": "stdout"
        },
        {
          "output_type": "stream",
          "text": [
            "\n",
            " 69%|██████▉   | 83/120 [00:36<00:16,  2.29it/s]\u001b[A"
          ],
          "name": "stderr"
        },
        {
          "output_type": "stream",
          "text": [
            "Processing 01-01-06-02-02-02-02.mp4, 84/120\n"
          ],
          "name": "stdout"
        },
        {
          "output_type": "stream",
          "text": [
            "\n",
            " 70%|███████   | 84/120 [00:36<00:15,  2.31it/s]\u001b[A"
          ],
          "name": "stderr"
        },
        {
          "output_type": "stream",
          "text": [
            "Processing 02-01-08-01-02-02-02.mp4, 85/120\n"
          ],
          "name": "stdout"
        },
        {
          "output_type": "stream",
          "text": [
            "\n",
            " 71%|███████   | 85/120 [00:37<00:15,  2.33it/s]\u001b[A"
          ],
          "name": "stderr"
        },
        {
          "output_type": "stream",
          "text": [
            "Processing 01-01-02-02-01-01-02.mp4, 86/120\n"
          ],
          "name": "stdout"
        },
        {
          "output_type": "stream",
          "text": [
            "\n",
            " 72%|███████▏  | 86/120 [00:37<00:14,  2.29it/s]\u001b[A"
          ],
          "name": "stderr"
        },
        {
          "output_type": "stream",
          "text": [
            "Processing 02-01-05-02-02-02-02.mp4, 87/120\n"
          ],
          "name": "stdout"
        },
        {
          "output_type": "stream",
          "text": [
            "\n",
            " 72%|███████▎  | 87/120 [00:37<00:14,  2.29it/s]\u001b[A"
          ],
          "name": "stderr"
        },
        {
          "output_type": "stream",
          "text": [
            "Processing 02-01-01-01-02-02-02.mp4, 88/120\n"
          ],
          "name": "stdout"
        },
        {
          "output_type": "stream",
          "text": [
            "\n",
            " 73%|███████▎  | 88/120 [00:38<00:14,  2.24it/s]\u001b[A"
          ],
          "name": "stderr"
        },
        {
          "output_type": "stream",
          "text": [
            "Processing 01-01-01-01-02-01-02.mp4, 89/120\n"
          ],
          "name": "stdout"
        },
        {
          "output_type": "stream",
          "text": [
            "\n",
            " 74%|███████▍  | 89/120 [00:38<00:13,  2.28it/s]\u001b[A"
          ],
          "name": "stderr"
        },
        {
          "output_type": "stream",
          "text": [
            "Processing 02-01-02-02-02-02-02.mp4, 90/120\n"
          ],
          "name": "stdout"
        },
        {
          "output_type": "stream",
          "text": [
            "\n",
            " 75%|███████▌  | 90/120 [00:39<00:13,  2.28it/s]\u001b[A"
          ],
          "name": "stderr"
        },
        {
          "output_type": "stream",
          "text": [
            "Processing 01-01-05-02-02-02-02.mp4, 91/120\n"
          ],
          "name": "stdout"
        },
        {
          "output_type": "stream",
          "text": [
            "\n",
            " 76%|███████▌  | 91/120 [00:39<00:12,  2.31it/s]\u001b[A"
          ],
          "name": "stderr"
        },
        {
          "output_type": "stream",
          "text": [
            "Processing 02-01-07-02-01-02-02.mp4, 92/120\n"
          ],
          "name": "stdout"
        },
        {
          "output_type": "stream",
          "text": [
            "\n",
            " 77%|███████▋  | 92/120 [00:40<00:12,  2.33it/s]\u001b[A"
          ],
          "name": "stderr"
        },
        {
          "output_type": "stream",
          "text": [
            "Processing 01-01-02-02-01-02-02.mp4, 93/120\n"
          ],
          "name": "stdout"
        },
        {
          "output_type": "stream",
          "text": [
            "\n",
            " 78%|███████▊  | 93/120 [00:40<00:11,  2.34it/s]\u001b[A"
          ],
          "name": "stderr"
        },
        {
          "output_type": "stream",
          "text": [
            "Processing 01-01-07-02-01-02-02.mp4, 94/120\n"
          ],
          "name": "stdout"
        },
        {
          "output_type": "stream",
          "text": [
            "\n",
            " 78%|███████▊  | 94/120 [00:40<00:11,  2.33it/s]\u001b[A"
          ],
          "name": "stderr"
        },
        {
          "output_type": "stream",
          "text": [
            "Processing 01-01-03-01-02-02-02.mp4, 95/120\n"
          ],
          "name": "stdout"
        },
        {
          "output_type": "stream",
          "text": [
            "\n",
            " 79%|███████▉  | 95/120 [00:41<00:10,  2.33it/s]\u001b[A"
          ],
          "name": "stderr"
        },
        {
          "output_type": "stream",
          "text": [
            "Processing 01-01-08-02-02-02-02.mp4, 96/120\n"
          ],
          "name": "stdout"
        },
        {
          "output_type": "stream",
          "text": [
            "\n",
            " 80%|████████  | 96/120 [00:41<00:10,  2.34it/s]\u001b[A"
          ],
          "name": "stderr"
        },
        {
          "output_type": "stream",
          "text": [
            "Processing 02-01-01-01-01-01-02.mp4, 97/120\n"
          ],
          "name": "stdout"
        },
        {
          "output_type": "stream",
          "text": [
            "\n",
            " 81%|████████  | 97/120 [00:42<00:09,  2.33it/s]\u001b[A"
          ],
          "name": "stderr"
        },
        {
          "output_type": "stream",
          "text": [
            "Processing 02-01-03-01-01-02-02.mp4, 98/120\n"
          ],
          "name": "stdout"
        },
        {
          "output_type": "stream",
          "text": [
            "\n",
            " 82%|████████▏ | 98/120 [00:42<00:09,  2.36it/s]\u001b[A"
          ],
          "name": "stderr"
        },
        {
          "output_type": "stream",
          "text": [
            "Processing 02-01-04-02-02-02-02.mp4, 99/120\n"
          ],
          "name": "stdout"
        },
        {
          "output_type": "stream",
          "text": [
            "\n",
            " 82%|████████▎ | 99/120 [00:43<00:08,  2.35it/s]\u001b[A"
          ],
          "name": "stderr"
        },
        {
          "output_type": "stream",
          "text": [
            "Processing 02-01-05-01-02-01-02.mp4, 100/120\n"
          ],
          "name": "stdout"
        },
        {
          "output_type": "stream",
          "text": [
            "\n",
            " 83%|████████▎ | 100/120 [00:43<00:08,  2.34it/s]\u001b[A"
          ],
          "name": "stderr"
        },
        {
          "output_type": "stream",
          "text": [
            "Processing 02-01-08-02-02-02-02.mp4, 101/120\n"
          ],
          "name": "stdout"
        },
        {
          "output_type": "stream",
          "text": [
            "\n",
            " 84%|████████▍ | 101/120 [00:43<00:08,  2.35it/s]\u001b[A"
          ],
          "name": "stderr"
        },
        {
          "output_type": "stream",
          "text": [
            "Processing 02-01-07-02-02-01-02.mp4, 102/120\n"
          ],
          "name": "stdout"
        },
        {
          "output_type": "stream",
          "text": [
            "\n",
            " 85%|████████▌ | 102/120 [00:44<00:07,  2.34it/s]\u001b[A"
          ],
          "name": "stderr"
        },
        {
          "output_type": "stream",
          "text": [
            "Processing 01-01-08-01-02-01-02.mp4, 103/120\n"
          ],
          "name": "stdout"
        },
        {
          "output_type": "stream",
          "text": [
            "\n",
            " 86%|████████▌ | 103/120 [00:44<00:07,  2.35it/s]\u001b[A"
          ],
          "name": "stderr"
        },
        {
          "output_type": "stream",
          "text": [
            "Processing 02-01-04-01-02-01-02.mp4, 104/120\n"
          ],
          "name": "stdout"
        },
        {
          "output_type": "stream",
          "text": [
            "\n",
            " 87%|████████▋ | 104/120 [00:45<00:06,  2.32it/s]\u001b[A"
          ],
          "name": "stderr"
        },
        {
          "output_type": "stream",
          "text": [
            "Processing 01-01-07-01-02-01-02.mp4, 105/120\n"
          ],
          "name": "stdout"
        },
        {
          "output_type": "stream",
          "text": [
            "\n",
            " 88%|████████▊ | 105/120 [00:45<00:06,  2.31it/s]\u001b[A"
          ],
          "name": "stderr"
        },
        {
          "output_type": "stream",
          "text": [
            "Processing 01-01-04-01-01-02-02.mp4, 106/120\n"
          ],
          "name": "stdout"
        },
        {
          "output_type": "stream",
          "text": [
            "\n",
            " 88%|████████▊ | 106/120 [00:46<00:06,  2.31it/s]\u001b[A"
          ],
          "name": "stderr"
        },
        {
          "output_type": "stream",
          "text": [
            "Processing 01-01-03-02-02-01-02.mp4, 107/120\n"
          ],
          "name": "stdout"
        },
        {
          "output_type": "stream",
          "text": [
            "\n",
            " 89%|████████▉ | 107/120 [00:46<00:05,  2.28it/s]\u001b[A"
          ],
          "name": "stderr"
        },
        {
          "output_type": "stream",
          "text": [
            "Processing 01-01-05-01-02-02-02.mp4, 108/120\n"
          ],
          "name": "stdout"
        },
        {
          "output_type": "stream",
          "text": [
            "\n",
            " 90%|█████████ | 108/120 [00:46<00:05,  2.32it/s]\u001b[A"
          ],
          "name": "stderr"
        },
        {
          "output_type": "stream",
          "text": [
            "Processing 01-01-08-02-01-01-02.mp4, 109/120\n"
          ],
          "name": "stdout"
        },
        {
          "output_type": "stream",
          "text": [
            "\n",
            " 91%|█████████ | 109/120 [00:47<00:04,  2.32it/s]\u001b[A"
          ],
          "name": "stderr"
        },
        {
          "output_type": "stream",
          "text": [
            "Processing 01-01-07-02-01-01-02.mp4, 110/120\n"
          ],
          "name": "stdout"
        },
        {
          "output_type": "stream",
          "text": [
            "\n",
            " 92%|█████████▏| 110/120 [00:47<00:04,  2.32it/s]\u001b[A"
          ],
          "name": "stderr"
        },
        {
          "output_type": "stream",
          "text": [
            "Processing 02-01-05-01-01-01-02.mp4, 111/120\n"
          ],
          "name": "stdout"
        },
        {
          "output_type": "stream",
          "text": [
            "\n",
            " 92%|█████████▎| 111/120 [00:48<00:03,  2.31it/s]\u001b[A"
          ],
          "name": "stderr"
        },
        {
          "output_type": "stream",
          "text": [
            "Processing 02-01-07-01-02-01-02.mp4, 112/120\n"
          ],
          "name": "stdout"
        },
        {
          "output_type": "stream",
          "text": [
            "\n",
            " 93%|█████████▎| 112/120 [00:48<00:03,  2.31it/s]\u001b[A"
          ],
          "name": "stderr"
        },
        {
          "output_type": "stream",
          "text": [
            "Processing 01-01-04-01-01-01-02.mp4, 113/120\n"
          ],
          "name": "stdout"
        },
        {
          "output_type": "stream",
          "text": [
            "\n",
            " 94%|█████████▍| 113/120 [00:49<00:02,  2.35it/s]\u001b[A"
          ],
          "name": "stderr"
        },
        {
          "output_type": "stream",
          "text": [
            "Processing 02-01-06-01-02-01-02.mp4, 114/120\n"
          ],
          "name": "stdout"
        },
        {
          "output_type": "stream",
          "text": [
            "\n",
            " 95%|█████████▌| 114/120 [00:49<00:02,  2.36it/s]\u001b[A"
          ],
          "name": "stderr"
        },
        {
          "output_type": "stream",
          "text": [
            "Processing 01-01-06-02-01-01-02.mp4, 115/120\n"
          ],
          "name": "stdout"
        },
        {
          "output_type": "stream",
          "text": [
            "\n",
            " 96%|█████████▌| 115/120 [00:49<00:02,  2.37it/s]\u001b[A"
          ],
          "name": "stderr"
        },
        {
          "output_type": "stream",
          "text": [
            "Processing 02-01-06-01-02-02-02.mp4, 116/120\n"
          ],
          "name": "stdout"
        },
        {
          "output_type": "stream",
          "text": [
            "\n",
            " 97%|█████████▋| 116/120 [00:50<00:01,  2.36it/s]\u001b[A"
          ],
          "name": "stderr"
        },
        {
          "output_type": "stream",
          "text": [
            "Processing 02-01-03-01-01-01-02.mp4, 117/120\n"
          ],
          "name": "stdout"
        },
        {
          "output_type": "stream",
          "text": [
            "\n",
            " 98%|█████████▊| 117/120 [00:50<00:01,  2.36it/s]\u001b[A"
          ],
          "name": "stderr"
        },
        {
          "output_type": "stream",
          "text": [
            "Processing 02-01-02-01-02-02-02.mp4, 118/120\n"
          ],
          "name": "stdout"
        },
        {
          "output_type": "stream",
          "text": [
            "\n",
            " 98%|█████████▊| 118/120 [00:51<00:00,  2.34it/s]\u001b[A"
          ],
          "name": "stderr"
        },
        {
          "output_type": "stream",
          "text": [
            "Processing 02-01-02-01-01-02-02.mp4, 119/120\n"
          ],
          "name": "stdout"
        },
        {
          "output_type": "stream",
          "text": [
            "\n",
            " 99%|█████████▉| 119/120 [00:51<00:00,  2.31it/s]\u001b[A"
          ],
          "name": "stderr"
        },
        {
          "output_type": "stream",
          "text": [
            "Processing 01-01-02-01-01-02-02.mp4, 120/120\n"
          ],
          "name": "stdout"
        },
        {
          "output_type": "stream",
          "text": [
            "\n",
            "100%|██████████| 120/120 [00:52<00:00,  2.30it/s]\n",
            "100%|██████████| 3/3 [02:35<00:00, 51.74s/it]\n"
          ],
          "name": "stderr"
        },
        {
          "output_type": "execute_result",
          "data": {
            "text/plain": [
              "True"
            ]
          },
          "metadata": {
            "tags": []
          },
          "execution_count": 24
        }
      ]
    },
    {
      "cell_type": "code",
      "metadata": {
        "id": "o086DgiOoqiZ",
        "colab": {
          "base_uri": "https://localhost:8080/"
        },
        "outputId": "1348d350-6e0c-46e0-da66-8030ef91fdae"
      },
      "source": [
        "class Audio:\n",
        "  def __init__(self):\n",
        "    self.root = './ravdess'\n",
        "    self.audio_root = './ravdess/audio'\n",
        "    self.audio_unzipepd = './ravdess/audio/Audio_Speech_Actors_01-24'\n",
        "\n",
        "  def unzip(self):\n",
        "    \"\"\"unzip audio zip and move to audio_root path.\n",
        "    \"\"\"\n",
        "    Path(self.audio_root).mkdir(exist_ok=True)\n",
        "    audio_zips = sorted([zip_name for zip_name in os.listdir(self.root) if zip_name.startswith('Audio_Speech')])  \n",
        "    \n",
        "    for audio_index, audio_zip in enumerate(audio_zips):  \n",
        "      source = f'{self.root}/{audio_zip}'\n",
        "      target = f'{self.audio_root}/{audio_zip}'\n",
        "\n",
        "      print(f'Unzip {source} TO {target}')\n",
        "\n",
        "      unzip_cmd = f'unzip -q {source} -d {target} &' # umpersant relies for continue of the execution, otherwise STOPS. \n",
        "      os.system(unzip_cmd)      \n",
        "    return True\n",
        "\n",
        "  def extract_audio(self):\n",
        "    audio_actors = os.listdir(self.audio_unzipepd)\n",
        "\n",
        "    for audio_actor in tqdm(audio_actors, desc=\"Extracting audio...\"):\n",
        "      print(f'Processing Speech {audio_actor}')\n",
        "      tracks = os.listdir(audio_actor)\n",
        "      print(f'Actor has {len(tracks)} records.')\n",
        "      pass\n",
        "\n",
        "# audio = Audio()\n",
        "# audio.unzip()\n",
        "\n",
        "class Video:\n",
        "  def __init__(self):\n",
        "    self.root = './ravdess'\n",
        "    self.video_root = './ravdess/videos'\n",
        "    self.extracted_audio_root = './ravdess/extracted_audio'\n",
        "    self.cmd = 'ffmpeg-git-20191209-amd64-static/ffmpeg'\n",
        "\n",
        "  def extract_audio(self):\n",
        "    actors = os.listdir(self.video_root)     \n",
        "    for actor in actors:\n",
        "      print(f'Processing Videos for {actor}')\n",
        "      actor_videos = os.listdir(Path(self.video_root, actor))\n",
        "      print(f'{actor} has {len(actor_videos)} videos.')\n",
        "\n",
        "      for video in actor_videos:\n",
        "        print(f'Processing video {video} for {actor}')\n",
        "        input = f'{self.video_root}/{actor}/{video}'\n",
        "        output = f'{self.extracted_audio_root}/{video.replace(\".mp4\", \".wav\")}'\n",
        "        cmd = f'ffmpeg -i {input} -vn -acodec libvorbis {output} &'\n",
        "        os.system(cmd)\n",
        "\n",
        "video_hadnler = Video()        \n",
        "video_hadnler.extract_audio()\n"
      ],
      "execution_count": 56,
      "outputs": [
        {
          "output_type": "stream",
          "text": [
            "Processing Videos for .ipynb_checkpoints\n",
            ".ipynb_checkpoints has 0 videos.\n",
            "Processing Videos for Actor_03\n",
            "Actor_03 has 120 videos.\n",
            "IN ./ravdess/videos/Actor_03/01-01-07-01-02-01-03.mp4\n",
            "OU ./ravdess/extracted_audio/01-01-07-01-02-01-03.ogg\n",
            "IN ./ravdess/videos/Actor_03/02-01-02-02-02-01-03.mp4\n",
            "OU ./ravdess/extracted_audio/02-01-02-02-02-01-03.ogg\n",
            "IN ./ravdess/videos/Actor_03/01-01-05-01-02-02-03.mp4\n",
            "OU ./ravdess/extracted_audio/01-01-05-01-02-02-03.ogg\n",
            "IN ./ravdess/videos/Actor_03/02-01-04-01-01-01-03.mp4\n",
            "OU ./ravdess/extracted_audio/02-01-04-01-01-01-03.ogg\n",
            "IN ./ravdess/videos/Actor_03/02-01-05-02-01-01-03.mp4\n",
            "OU ./ravdess/extracted_audio/02-01-05-02-01-01-03.ogg\n",
            "IN ./ravdess/videos/Actor_03/01-01-04-01-02-01-03.mp4\n",
            "OU ./ravdess/extracted_audio/01-01-04-01-02-01-03.ogg\n",
            "IN ./ravdess/videos/Actor_03/02-01-08-01-02-01-03.mp4\n",
            "OU ./ravdess/extracted_audio/02-01-08-01-02-01-03.ogg\n",
            "IN ./ravdess/videos/Actor_03/02-01-05-02-02-02-03.mp4\n",
            "OU ./ravdess/extracted_audio/02-01-05-02-02-02-03.ogg\n",
            "IN ./ravdess/videos/Actor_03/02-01-05-02-02-01-03.mp4\n",
            "OU ./ravdess/extracted_audio/02-01-05-02-02-01-03.ogg\n",
            "IN ./ravdess/videos/Actor_03/01-01-05-02-02-01-03.mp4\n",
            "OU ./ravdess/extracted_audio/01-01-05-02-02-01-03.ogg\n",
            "IN ./ravdess/videos/Actor_03/01-01-06-02-01-02-03.mp4\n",
            "OU ./ravdess/extracted_audio/01-01-06-02-01-02-03.ogg\n",
            "IN ./ravdess/videos/Actor_03/02-01-03-02-02-02-03.mp4\n",
            "OU ./ravdess/extracted_audio/02-01-03-02-02-02-03.ogg\n",
            "IN ./ravdess/videos/Actor_03/01-01-07-02-01-02-03.mp4\n",
            "OU ./ravdess/extracted_audio/01-01-07-02-01-02-03.ogg\n",
            "IN ./ravdess/videos/Actor_03/02-01-01-01-01-01-03.mp4\n",
            "OU ./ravdess/extracted_audio/02-01-01-01-01-01-03.ogg\n",
            "IN ./ravdess/videos/Actor_03/01-01-02-01-01-01-03.mp4\n",
            "OU ./ravdess/extracted_audio/01-01-02-01-01-01-03.ogg\n",
            "IN ./ravdess/videos/Actor_03/02-01-07-01-01-02-03.mp4\n",
            "OU ./ravdess/extracted_audio/02-01-07-01-01-02-03.ogg\n",
            "IN ./ravdess/videos/Actor_03/01-01-02-01-01-02-03.mp4\n",
            "OU ./ravdess/extracted_audio/01-01-02-01-01-02-03.ogg\n",
            "IN ./ravdess/videos/Actor_03/01-01-05-01-02-01-03.mp4\n",
            "OU ./ravdess/extracted_audio/01-01-05-01-02-01-03.ogg\n",
            "IN ./ravdess/videos/Actor_03/02-01-07-02-02-01-03.mp4\n",
            "OU ./ravdess/extracted_audio/02-01-07-02-02-01-03.ogg\n",
            "IN ./ravdess/videos/Actor_03/01-01-06-01-02-02-03.mp4\n",
            "OU ./ravdess/extracted_audio/01-01-06-01-02-02-03.ogg\n",
            "IN ./ravdess/videos/Actor_03/02-01-05-01-02-02-03.mp4\n",
            "OU ./ravdess/extracted_audio/02-01-05-01-02-02-03.ogg\n",
            "IN ./ravdess/videos/Actor_03/02-01-02-02-01-02-03.mp4\n",
            "OU ./ravdess/extracted_audio/02-01-02-02-01-02-03.ogg\n",
            "IN ./ravdess/videos/Actor_03/01-01-02-02-02-01-03.mp4\n",
            "OU ./ravdess/extracted_audio/01-01-02-02-02-01-03.ogg\n",
            "IN ./ravdess/videos/Actor_03/01-01-05-02-01-02-03.mp4\n",
            "OU ./ravdess/extracted_audio/01-01-05-02-01-02-03.ogg\n",
            "IN ./ravdess/videos/Actor_03/02-01-06-02-02-01-03.mp4\n",
            "OU ./ravdess/extracted_audio/02-01-06-02-02-01-03.ogg\n",
            "IN ./ravdess/videos/Actor_03/02-01-05-01-01-01-03.mp4\n",
            "OU ./ravdess/extracted_audio/02-01-05-01-01-01-03.ogg\n",
            "IN ./ravdess/videos/Actor_03/02-01-02-02-02-02-03.mp4\n",
            "OU ./ravdess/extracted_audio/02-01-02-02-02-02-03.ogg\n",
            "IN ./ravdess/videos/Actor_03/02-01-04-02-01-02-03.mp4\n",
            "OU ./ravdess/extracted_audio/02-01-04-02-01-02-03.ogg\n",
            "IN ./ravdess/videos/Actor_03/02-01-01-01-01-02-03.mp4\n",
            "OU ./ravdess/extracted_audio/02-01-01-01-01-02-03.ogg\n",
            "IN ./ravdess/videos/Actor_03/01-01-06-02-01-01-03.mp4\n",
            "OU ./ravdess/extracted_audio/01-01-06-02-01-01-03.ogg\n",
            "IN ./ravdess/videos/Actor_03/01-01-02-01-02-01-03.mp4\n",
            "OU ./ravdess/extracted_audio/01-01-02-01-02-01-03.ogg\n",
            "IN ./ravdess/videos/Actor_03/01-01-03-02-01-01-03.mp4\n",
            "OU ./ravdess/extracted_audio/01-01-03-02-01-01-03.ogg\n",
            "IN ./ravdess/videos/Actor_03/01-01-03-02-02-02-03.mp4\n",
            "OU ./ravdess/extracted_audio/01-01-03-02-02-02-03.ogg\n",
            "IN ./ravdess/videos/Actor_03/01-01-07-01-01-02-03.mp4\n",
            "OU ./ravdess/extracted_audio/01-01-07-01-01-02-03.ogg\n",
            "IN ./ravdess/videos/Actor_03/02-01-08-01-02-02-03.mp4\n",
            "OU ./ravdess/extracted_audio/02-01-08-01-02-02-03.ogg\n",
            "IN ./ravdess/videos/Actor_03/02-01-08-02-02-02-03.mp4\n",
            "OU ./ravdess/extracted_audio/02-01-08-02-02-02-03.ogg\n",
            "IN ./ravdess/videos/Actor_03/01-01-02-02-02-02-03.mp4\n",
            "OU ./ravdess/extracted_audio/01-01-02-02-02-02-03.ogg\n",
            "IN ./ravdess/videos/Actor_03/02-01-01-01-02-01-03.mp4\n",
            "OU ./ravdess/extracted_audio/02-01-01-01-02-01-03.ogg\n",
            "IN ./ravdess/videos/Actor_03/01-01-03-01-01-02-03.mp4\n",
            "OU ./ravdess/extracted_audio/01-01-03-01-01-02-03.ogg\n",
            "IN ./ravdess/videos/Actor_03/02-01-03-02-02-01-03.mp4\n",
            "OU ./ravdess/extracted_audio/02-01-03-02-02-01-03.ogg\n",
            "IN ./ravdess/videos/Actor_03/01-01-08-02-01-01-03.mp4\n",
            "OU ./ravdess/extracted_audio/01-01-08-02-01-01-03.ogg\n",
            "IN ./ravdess/videos/Actor_03/02-01-06-02-01-01-03.mp4\n",
            "OU ./ravdess/extracted_audio/02-01-06-02-01-01-03.ogg\n",
            "IN ./ravdess/videos/Actor_03/01-01-08-01-01-01-03.mp4\n",
            "OU ./ravdess/extracted_audio/01-01-08-01-01-01-03.ogg\n",
            "IN ./ravdess/videos/Actor_03/02-01-08-02-01-01-03.mp4\n",
            "OU ./ravdess/extracted_audio/02-01-08-02-01-01-03.ogg\n",
            "IN ./ravdess/videos/Actor_03/02-01-05-01-02-01-03.mp4\n",
            "OU ./ravdess/extracted_audio/02-01-05-01-02-01-03.ogg\n",
            "IN ./ravdess/videos/Actor_03/01-01-03-01-02-01-03.mp4\n",
            "OU ./ravdess/extracted_audio/01-01-03-01-02-01-03.ogg\n",
            "IN ./ravdess/videos/Actor_03/01-01-01-01-02-02-03.mp4\n",
            "OU ./ravdess/extracted_audio/01-01-01-01-02-02-03.ogg\n",
            "IN ./ravdess/videos/Actor_03/01-01-07-01-01-01-03.mp4\n",
            "OU ./ravdess/extracted_audio/01-01-07-01-01-01-03.ogg\n",
            "IN ./ravdess/videos/Actor_03/02-01-03-01-01-02-03.mp4\n",
            "OU ./ravdess/extracted_audio/02-01-03-01-01-02-03.ogg\n",
            "IN ./ravdess/videos/Actor_03/01-01-02-02-01-02-03.mp4\n",
            "OU ./ravdess/extracted_audio/01-01-02-02-01-02-03.ogg\n",
            "IN ./ravdess/videos/Actor_03/02-01-07-02-01-02-03.mp4\n",
            "OU ./ravdess/extracted_audio/02-01-07-02-01-02-03.ogg\n",
            "IN ./ravdess/videos/Actor_03/01-01-03-02-01-02-03.mp4\n",
            "OU ./ravdess/extracted_audio/01-01-03-02-01-02-03.ogg\n",
            "IN ./ravdess/videos/Actor_03/01-01-04-02-01-01-03.mp4\n",
            "OU ./ravdess/extracted_audio/01-01-04-02-01-01-03.ogg\n",
            "IN ./ravdess/videos/Actor_03/01-01-03-01-01-01-03.mp4\n",
            "OU ./ravdess/extracted_audio/01-01-03-01-01-01-03.ogg\n",
            "IN ./ravdess/videos/Actor_03/02-01-06-02-02-02-03.mp4\n",
            "OU ./ravdess/extracted_audio/02-01-06-02-02-02-03.ogg\n",
            "IN ./ravdess/videos/Actor_03/01-01-07-02-01-01-03.mp4\n",
            "OU ./ravdess/extracted_audio/01-01-07-02-01-01-03.ogg\n",
            "IN ./ravdess/videos/Actor_03/01-01-04-01-02-02-03.mp4\n",
            "OU ./ravdess/extracted_audio/01-01-04-01-02-02-03.ogg\n",
            "IN ./ravdess/videos/Actor_03/01-01-06-01-01-02-03.mp4\n",
            "OU ./ravdess/extracted_audio/01-01-06-01-01-02-03.ogg\n",
            "IN ./ravdess/videos/Actor_03/01-01-08-01-02-02-03.mp4\n",
            "OU ./ravdess/extracted_audio/01-01-08-01-02-02-03.ogg\n",
            "IN ./ravdess/videos/Actor_03/01-01-08-01-02-01-03.mp4\n",
            "OU ./ravdess/extracted_audio/01-01-08-01-02-01-03.ogg\n",
            "IN ./ravdess/videos/Actor_03/02-01-06-01-02-01-03.mp4\n",
            "OU ./ravdess/extracted_audio/02-01-06-01-02-01-03.ogg\n",
            "IN ./ravdess/videos/Actor_03/02-01-02-01-01-02-03.mp4\n",
            "OU ./ravdess/extracted_audio/02-01-02-01-01-02-03.ogg\n",
            "IN ./ravdess/videos/Actor_03/02-01-08-01-01-01-03.mp4\n",
            "OU ./ravdess/extracted_audio/02-01-08-01-01-01-03.ogg\n",
            "IN ./ravdess/videos/Actor_03/02-01-07-02-01-01-03.mp4\n",
            "OU ./ravdess/extracted_audio/02-01-07-02-01-01-03.ogg\n",
            "IN ./ravdess/videos/Actor_03/02-01-03-01-01-01-03.mp4\n",
            "OU ./ravdess/extracted_audio/02-01-03-01-01-01-03.ogg\n",
            "IN ./ravdess/videos/Actor_03/02-01-07-01-02-01-03.mp4\n",
            "OU ./ravdess/extracted_audio/02-01-07-01-02-01-03.ogg\n",
            "IN ./ravdess/videos/Actor_03/01-01-06-02-02-02-03.mp4\n",
            "OU ./ravdess/extracted_audio/01-01-06-02-02-02-03.ogg\n",
            "IN ./ravdess/videos/Actor_03/01-01-07-02-02-01-03.mp4\n",
            "OU ./ravdess/extracted_audio/01-01-07-02-02-01-03.ogg\n",
            "IN ./ravdess/videos/Actor_03/02-01-07-01-02-02-03.mp4\n",
            "OU ./ravdess/extracted_audio/02-01-07-01-02-02-03.ogg\n",
            "IN ./ravdess/videos/Actor_03/02-01-08-02-01-02-03.mp4\n",
            "OU ./ravdess/extracted_audio/02-01-08-02-01-02-03.ogg\n",
            "IN ./ravdess/videos/Actor_03/01-01-01-01-02-01-03.mp4\n",
            "OU ./ravdess/extracted_audio/01-01-01-01-02-01-03.ogg\n",
            "IN ./ravdess/videos/Actor_03/02-01-01-01-02-02-03.mp4\n",
            "OU ./ravdess/extracted_audio/02-01-01-01-02-02-03.ogg\n",
            "IN ./ravdess/videos/Actor_03/01-01-06-01-02-01-03.mp4\n",
            "OU ./ravdess/extracted_audio/01-01-06-01-02-01-03.ogg\n",
            "IN ./ravdess/videos/Actor_03/01-01-04-02-02-01-03.mp4\n",
            "OU ./ravdess/extracted_audio/01-01-04-02-02-01-03.ogg\n",
            "IN ./ravdess/videos/Actor_03/02-01-03-01-02-02-03.mp4\n",
            "OU ./ravdess/extracted_audio/02-01-03-01-02-02-03.ogg\n",
            "IN ./ravdess/videos/Actor_03/01-01-02-02-01-01-03.mp4\n",
            "OU ./ravdess/extracted_audio/01-01-02-02-01-01-03.ogg\n",
            "IN ./ravdess/videos/Actor_03/01-01-08-02-02-02-03.mp4\n",
            "OU ./ravdess/extracted_audio/01-01-08-02-02-02-03.ogg\n",
            "IN ./ravdess/videos/Actor_03/02-01-06-01-02-02-03.mp4\n",
            "OU ./ravdess/extracted_audio/02-01-06-01-02-02-03.ogg\n",
            "IN ./ravdess/videos/Actor_03/01-01-01-01-01-02-03.mp4\n",
            "OU ./ravdess/extracted_audio/01-01-01-01-01-02-03.ogg\n",
            "IN ./ravdess/videos/Actor_03/02-01-02-02-01-01-03.mp4\n",
            "OU ./ravdess/extracted_audio/02-01-02-02-01-01-03.ogg\n",
            "IN ./ravdess/videos/Actor_03/01-01-04-02-02-02-03.mp4\n",
            "OU ./ravdess/extracted_audio/01-01-04-02-02-02-03.ogg\n",
            "IN ./ravdess/videos/Actor_03/01-01-04-02-01-02-03.mp4\n",
            "OU ./ravdess/extracted_audio/01-01-04-02-01-02-03.ogg\n",
            "IN ./ravdess/videos/Actor_03/01-01-06-02-02-01-03.mp4\n",
            "OU ./ravdess/extracted_audio/01-01-06-02-02-01-03.ogg\n",
            "IN ./ravdess/videos/Actor_03/01-01-08-02-01-02-03.mp4\n",
            "OU ./ravdess/extracted_audio/01-01-08-02-01-02-03.ogg\n",
            "IN ./ravdess/videos/Actor_03/02-01-04-01-02-01-03.mp4\n",
            "OU ./ravdess/extracted_audio/02-01-04-01-02-01-03.ogg\n",
            "IN ./ravdess/videos/Actor_03/01-01-02-01-02-02-03.mp4\n",
            "OU ./ravdess/extracted_audio/01-01-02-01-02-02-03.ogg\n",
            "IN ./ravdess/videos/Actor_03/02-01-05-01-01-02-03.mp4\n",
            "OU ./ravdess/extracted_audio/02-01-05-01-01-02-03.ogg\n",
            "IN ./ravdess/videos/Actor_03/02-01-02-01-02-01-03.mp4\n",
            "OU ./ravdess/extracted_audio/02-01-02-01-02-01-03.ogg\n",
            "IN ./ravdess/videos/Actor_03/02-01-02-01-02-02-03.mp4\n",
            "OU ./ravdess/extracted_audio/02-01-02-01-02-02-03.ogg\n",
            "IN ./ravdess/videos/Actor_03/01-01-03-01-02-02-03.mp4\n",
            "OU ./ravdess/extracted_audio/01-01-03-01-02-02-03.ogg\n",
            "IN ./ravdess/videos/Actor_03/02-01-08-02-02-01-03.mp4\n",
            "OU ./ravdess/extracted_audio/02-01-08-02-02-01-03.ogg\n",
            "IN ./ravdess/videos/Actor_03/01-01-05-01-01-01-03.mp4\n",
            "OU ./ravdess/extracted_audio/01-01-05-01-01-01-03.ogg\n",
            "IN ./ravdess/videos/Actor_03/02-01-03-01-02-01-03.mp4\n",
            "OU ./ravdess/extracted_audio/02-01-03-01-02-01-03.ogg\n",
            "IN ./ravdess/videos/Actor_03/02-01-05-02-01-02-03.mp4\n",
            "OU ./ravdess/extracted_audio/02-01-05-02-01-02-03.ogg\n",
            "IN ./ravdess/videos/Actor_03/01-01-07-02-02-02-03.mp4\n",
            "OU ./ravdess/extracted_audio/01-01-07-02-02-02-03.ogg\n",
            "IN ./ravdess/videos/Actor_03/02-01-06-02-01-02-03.mp4\n",
            "OU ./ravdess/extracted_audio/02-01-06-02-01-02-03.ogg\n",
            "IN ./ravdess/videos/Actor_03/02-01-06-01-01-01-03.mp4\n",
            "OU ./ravdess/extracted_audio/02-01-06-01-01-01-03.ogg\n",
            "IN ./ravdess/videos/Actor_03/02-01-04-02-01-01-03.mp4\n",
            "OU ./ravdess/extracted_audio/02-01-04-02-01-01-03.ogg\n",
            "IN ./ravdess/videos/Actor_03/02-01-04-02-02-02-03.mp4\n",
            "OU ./ravdess/extracted_audio/02-01-04-02-02-02-03.ogg\n",
            "IN ./ravdess/videos/Actor_03/01-01-07-01-02-02-03.mp4\n",
            "OU ./ravdess/extracted_audio/01-01-07-01-02-02-03.ogg\n",
            "IN ./ravdess/videos/Actor_03/01-01-05-02-01-01-03.mp4\n",
            "OU ./ravdess/extracted_audio/01-01-05-02-01-01-03.ogg\n",
            "IN ./ravdess/videos/Actor_03/01-01-03-02-02-01-03.mp4\n",
            "OU ./ravdess/extracted_audio/01-01-03-02-02-01-03.ogg\n",
            "IN ./ravdess/videos/Actor_03/01-01-05-01-01-02-03.mp4\n",
            "OU ./ravdess/extracted_audio/01-01-05-01-01-02-03.ogg\n",
            "IN ./ravdess/videos/Actor_03/02-01-07-01-01-01-03.mp4\n",
            "OU ./ravdess/extracted_audio/02-01-07-01-01-01-03.ogg\n",
            "IN ./ravdess/videos/Actor_03/01-01-04-01-01-02-03.mp4\n",
            "OU ./ravdess/extracted_audio/01-01-04-01-01-02-03.ogg\n",
            "IN ./ravdess/videos/Actor_03/02-01-03-02-01-01-03.mp4\n",
            "OU ./ravdess/extracted_audio/02-01-03-02-01-01-03.ogg\n",
            "IN ./ravdess/videos/Actor_03/01-01-08-02-02-01-03.mp4\n",
            "OU ./ravdess/extracted_audio/01-01-08-02-02-01-03.ogg\n",
            "IN ./ravdess/videos/Actor_03/02-01-08-01-01-02-03.mp4\n",
            "OU ./ravdess/extracted_audio/02-01-08-01-01-02-03.ogg\n",
            "IN ./ravdess/videos/Actor_03/01-01-04-01-01-01-03.mp4\n",
            "OU ./ravdess/extracted_audio/01-01-04-01-01-01-03.ogg\n",
            "IN ./ravdess/videos/Actor_03/01-01-01-01-01-01-03.mp4\n",
            "OU ./ravdess/extracted_audio/01-01-01-01-01-01-03.ogg\n",
            "IN ./ravdess/videos/Actor_03/02-01-03-02-01-02-03.mp4\n",
            "OU ./ravdess/extracted_audio/02-01-03-02-01-02-03.ogg\n",
            "IN ./ravdess/videos/Actor_03/02-01-04-02-02-01-03.mp4\n",
            "OU ./ravdess/extracted_audio/02-01-04-02-02-01-03.ogg\n",
            "IN ./ravdess/videos/Actor_03/02-01-04-01-01-02-03.mp4\n",
            "OU ./ravdess/extracted_audio/02-01-04-01-01-02-03.ogg\n",
            "IN ./ravdess/videos/Actor_03/02-01-02-01-01-01-03.mp4\n",
            "OU ./ravdess/extracted_audio/02-01-02-01-01-01-03.ogg\n",
            "IN ./ravdess/videos/Actor_03/02-01-04-01-02-02-03.mp4\n",
            "OU ./ravdess/extracted_audio/02-01-04-01-02-02-03.ogg\n",
            "IN ./ravdess/videos/Actor_03/01-01-06-01-01-01-03.mp4\n",
            "OU ./ravdess/extracted_audio/01-01-06-01-01-01-03.ogg\n",
            "IN ./ravdess/videos/Actor_03/02-01-06-01-01-02-03.mp4\n",
            "OU ./ravdess/extracted_audio/02-01-06-01-01-02-03.ogg\n",
            "IN ./ravdess/videos/Actor_03/02-01-07-02-02-02-03.mp4\n",
            "OU ./ravdess/extracted_audio/02-01-07-02-02-02-03.ogg\n",
            "IN ./ravdess/videos/Actor_03/01-01-05-02-02-02-03.mp4\n",
            "OU ./ravdess/extracted_audio/01-01-05-02-02-02-03.ogg\n",
            "IN ./ravdess/videos/Actor_03/01-01-08-01-01-02-03.mp4\n",
            "OU ./ravdess/extracted_audio/01-01-08-01-01-02-03.ogg\n",
            "Processing Videos for Actor_01\n",
            "Actor_01 has 120 videos.\n",
            "IN ./ravdess/videos/Actor_01/01-01-03-02-02-02-01.mp4\n",
            "OU ./ravdess/extracted_audio/01-01-03-02-02-02-01.ogg\n",
            "IN ./ravdess/videos/Actor_01/01-01-02-02-02-01-01.mp4\n",
            "OU ./ravdess/extracted_audio/01-01-02-02-02-01-01.ogg\n",
            "IN ./ravdess/videos/Actor_01/02-01-08-01-01-01-01.mp4\n",
            "OU ./ravdess/extracted_audio/02-01-08-01-01-01-01.ogg\n",
            "IN ./ravdess/videos/Actor_01/02-01-03-02-02-02-01.mp4\n",
            "OU ./ravdess/extracted_audio/02-01-03-02-02-02-01.ogg\n",
            "IN ./ravdess/videos/Actor_01/02-01-06-01-01-02-01.mp4\n",
            "OU ./ravdess/extracted_audio/02-01-06-01-01-02-01.ogg\n",
            "IN ./ravdess/videos/Actor_01/01-01-02-01-01-02-01.mp4\n",
            "OU ./ravdess/extracted_audio/01-01-02-01-01-02-01.ogg\n",
            "IN ./ravdess/videos/Actor_01/01-01-06-02-01-02-01.mp4\n",
            "OU ./ravdess/extracted_audio/01-01-06-02-01-02-01.ogg\n",
            "IN ./ravdess/videos/Actor_01/01-01-02-02-01-02-01.mp4\n",
            "OU ./ravdess/extracted_audio/01-01-02-02-01-02-01.ogg\n",
            "IN ./ravdess/videos/Actor_01/01-01-05-01-01-02-01.mp4\n",
            "OU ./ravdess/extracted_audio/01-01-05-01-01-02-01.ogg\n",
            "IN ./ravdess/videos/Actor_01/01-01-07-01-01-01-01.mp4\n",
            "OU ./ravdess/extracted_audio/01-01-07-01-01-01-01.ogg\n",
            "IN ./ravdess/videos/Actor_01/01-01-03-02-01-01-01.mp4\n",
            "OU ./ravdess/extracted_audio/01-01-03-02-01-01-01.ogg\n",
            "IN ./ravdess/videos/Actor_01/01-01-03-02-01-02-01.mp4\n",
            "OU ./ravdess/extracted_audio/01-01-03-02-01-02-01.ogg\n",
            "IN ./ravdess/videos/Actor_01/02-01-08-02-02-01-01.mp4\n",
            "OU ./ravdess/extracted_audio/02-01-08-02-02-01-01.ogg\n",
            "IN ./ravdess/videos/Actor_01/01-01-04-01-01-01-01.mp4\n",
            "OU ./ravdess/extracted_audio/01-01-04-01-01-01-01.ogg\n",
            "IN ./ravdess/videos/Actor_01/02-01-08-01-01-02-01.mp4\n",
            "OU ./ravdess/extracted_audio/02-01-08-01-01-02-01.ogg\n",
            "IN ./ravdess/videos/Actor_01/02-01-04-02-02-02-01.mp4\n",
            "OU ./ravdess/extracted_audio/02-01-04-02-02-02-01.ogg\n",
            "IN ./ravdess/videos/Actor_01/02-01-03-01-01-02-01.mp4\n",
            "OU ./ravdess/extracted_audio/02-01-03-01-01-02-01.ogg\n",
            "IN ./ravdess/videos/Actor_01/01-01-03-01-02-02-01.mp4\n",
            "OU ./ravdess/extracted_audio/01-01-03-01-02-02-01.ogg\n",
            "IN ./ravdess/videos/Actor_01/02-01-07-02-01-01-01.mp4\n",
            "OU ./ravdess/extracted_audio/02-01-07-02-01-01-01.ogg\n",
            "IN ./ravdess/videos/Actor_01/02-01-05-02-01-02-01.mp4\n",
            "OU ./ravdess/extracted_audio/02-01-05-02-01-02-01.ogg\n",
            "IN ./ravdess/videos/Actor_01/01-01-08-01-01-01-01.mp4\n",
            "OU ./ravdess/extracted_audio/01-01-08-01-01-01-01.ogg\n",
            "IN ./ravdess/videos/Actor_01/02-01-06-01-02-01-01.mp4\n",
            "OU ./ravdess/extracted_audio/02-01-06-01-02-01-01.ogg\n",
            "IN ./ravdess/videos/Actor_01/01-01-04-01-01-02-01.mp4\n",
            "OU ./ravdess/extracted_audio/01-01-04-01-01-02-01.ogg\n",
            "IN ./ravdess/videos/Actor_01/01-01-01-01-01-01-01.mp4\n",
            "OU ./ravdess/extracted_audio/01-01-01-01-01-01-01.ogg\n",
            "IN ./ravdess/videos/Actor_01/02-01-05-01-01-01-01.mp4\n",
            "OU ./ravdess/extracted_audio/02-01-05-01-01-01-01.ogg\n",
            "IN ./ravdess/videos/Actor_01/02-01-06-02-02-02-01.mp4\n",
            "OU ./ravdess/extracted_audio/02-01-06-02-02-02-01.ogg\n",
            "IN ./ravdess/videos/Actor_01/02-01-08-02-01-02-01.mp4\n",
            "OU ./ravdess/extracted_audio/02-01-08-02-01-02-01.ogg\n",
            "IN ./ravdess/videos/Actor_01/01-01-02-01-02-01-01.mp4\n",
            "OU ./ravdess/extracted_audio/01-01-02-01-02-01-01.ogg\n",
            "IN ./ravdess/videos/Actor_01/01-01-05-02-02-01-01.mp4\n",
            "OU ./ravdess/extracted_audio/01-01-05-02-02-01-01.ogg\n",
            "IN ./ravdess/videos/Actor_01/01-01-04-01-02-02-01.mp4\n",
            "OU ./ravdess/extracted_audio/01-01-04-01-02-02-01.ogg\n",
            "IN ./ravdess/videos/Actor_01/01-01-06-01-02-02-01.mp4\n",
            "OU ./ravdess/extracted_audio/01-01-06-01-02-02-01.ogg\n",
            "IN ./ravdess/videos/Actor_01/02-01-01-01-02-01-01.mp4\n",
            "OU ./ravdess/extracted_audio/02-01-01-01-02-01-01.ogg\n",
            "IN ./ravdess/videos/Actor_01/02-01-07-02-02-01-01.mp4\n",
            "OU ./ravdess/extracted_audio/02-01-07-02-02-01-01.ogg\n",
            "IN ./ravdess/videos/Actor_01/01-01-05-01-02-02-01.mp4\n",
            "OU ./ravdess/extracted_audio/01-01-05-01-02-02-01.ogg\n",
            "IN ./ravdess/videos/Actor_01/02-01-07-01-02-01-01.mp4\n",
            "OU ./ravdess/extracted_audio/02-01-07-01-02-01-01.ogg\n",
            "IN ./ravdess/videos/Actor_01/01-01-02-01-01-01-01.mp4\n",
            "OU ./ravdess/extracted_audio/01-01-02-01-01-01-01.ogg\n",
            "IN ./ravdess/videos/Actor_01/01-01-05-02-02-02-01.mp4\n",
            "OU ./ravdess/extracted_audio/01-01-05-02-02-02-01.ogg\n",
            "IN ./ravdess/videos/Actor_01/01-01-08-01-02-02-01.mp4\n",
            "OU ./ravdess/extracted_audio/01-01-08-01-02-02-01.ogg\n",
            "IN ./ravdess/videos/Actor_01/01-01-03-01-01-02-01.mp4\n",
            "OU ./ravdess/extracted_audio/01-01-03-01-01-02-01.ogg\n",
            "IN ./ravdess/videos/Actor_01/01-01-05-02-01-01-01.mp4\n",
            "OU ./ravdess/extracted_audio/01-01-05-02-01-01-01.ogg\n",
            "IN ./ravdess/videos/Actor_01/02-01-04-01-01-02-01.mp4\n",
            "OU ./ravdess/extracted_audio/02-01-04-01-01-02-01.ogg\n",
            "IN ./ravdess/videos/Actor_01/02-01-02-01-01-02-01.mp4\n",
            "OU ./ravdess/extracted_audio/02-01-02-01-01-02-01.ogg\n",
            "IN ./ravdess/videos/Actor_01/02-01-02-02-01-01-01.mp4\n",
            "OU ./ravdess/extracted_audio/02-01-02-02-01-01-01.ogg\n",
            "IN ./ravdess/videos/Actor_01/01-01-08-02-01-01-01.mp4\n",
            "OU ./ravdess/extracted_audio/01-01-08-02-01-01-01.ogg\n",
            "IN ./ravdess/videos/Actor_01/02-01-03-02-01-02-01.mp4\n",
            "OU ./ravdess/extracted_audio/02-01-03-02-01-02-01.ogg\n",
            "IN ./ravdess/videos/Actor_01/02-01-07-01-01-01-01.mp4\n",
            "OU ./ravdess/extracted_audio/02-01-07-01-01-01-01.ogg\n",
            "IN ./ravdess/videos/Actor_01/01-01-06-01-01-02-01.mp4\n",
            "OU ./ravdess/extracted_audio/01-01-06-01-01-02-01.ogg\n",
            "IN ./ravdess/videos/Actor_01/01-01-08-01-02-01-01.mp4\n",
            "OU ./ravdess/extracted_audio/01-01-08-01-02-01-01.ogg\n",
            "IN ./ravdess/videos/Actor_01/01-01-08-01-01-02-01.mp4\n",
            "OU ./ravdess/extracted_audio/01-01-08-01-01-02-01.ogg\n",
            "IN ./ravdess/videos/Actor_01/01-01-05-01-01-01-01.mp4\n",
            "OU ./ravdess/extracted_audio/01-01-05-01-01-01-01.ogg\n",
            "IN ./ravdess/videos/Actor_01/01-01-04-02-01-01-01.mp4\n",
            "OU ./ravdess/extracted_audio/01-01-04-02-01-01-01.ogg\n",
            "IN ./ravdess/videos/Actor_01/02-01-02-02-02-02-01.mp4\n",
            "OU ./ravdess/extracted_audio/02-01-02-02-02-02-01.ogg\n",
            "IN ./ravdess/videos/Actor_01/02-01-03-01-02-01-01.mp4\n",
            "OU ./ravdess/extracted_audio/02-01-03-01-02-01-01.ogg\n",
            "IN ./ravdess/videos/Actor_01/01-01-08-02-02-02-01.mp4\n",
            "OU ./ravdess/extracted_audio/01-01-08-02-02-02-01.ogg\n",
            "IN ./ravdess/videos/Actor_01/01-01-04-02-02-01-01.mp4\n",
            "OU ./ravdess/extracted_audio/01-01-04-02-02-01-01.ogg\n",
            "IN ./ravdess/videos/Actor_01/02-01-01-01-01-02-01.mp4\n",
            "OU ./ravdess/extracted_audio/02-01-01-01-01-02-01.ogg\n",
            "IN ./ravdess/videos/Actor_01/01-01-02-02-02-02-01.mp4\n",
            "OU ./ravdess/extracted_audio/01-01-02-02-02-02-01.ogg\n",
            "IN ./ravdess/videos/Actor_01/01-01-06-02-02-01-01.mp4\n",
            "OU ./ravdess/extracted_audio/01-01-06-02-02-01-01.ogg\n",
            "IN ./ravdess/videos/Actor_01/02-01-02-01-02-01-01.mp4\n",
            "OU ./ravdess/extracted_audio/02-01-02-01-02-01-01.ogg\n",
            "IN ./ravdess/videos/Actor_01/01-01-01-01-01-02-01.mp4\n",
            "OU ./ravdess/extracted_audio/01-01-01-01-01-02-01.ogg\n",
            "IN ./ravdess/videos/Actor_01/02-01-04-02-01-01-01.mp4\n",
            "OU ./ravdess/extracted_audio/02-01-04-02-01-01-01.ogg\n",
            "IN ./ravdess/videos/Actor_01/02-01-05-02-02-01-01.mp4\n",
            "OU ./ravdess/extracted_audio/02-01-05-02-02-01-01.ogg\n",
            "IN ./ravdess/videos/Actor_01/02-01-07-02-01-02-01.mp4\n",
            "OU ./ravdess/extracted_audio/02-01-07-02-01-02-01.ogg\n",
            "IN ./ravdess/videos/Actor_01/01-01-06-02-01-01-01.mp4\n",
            "OU ./ravdess/extracted_audio/01-01-06-02-01-01-01.ogg\n",
            "IN ./ravdess/videos/Actor_01/02-01-01-01-01-01-01.mp4\n",
            "OU ./ravdess/extracted_audio/02-01-01-01-01-01-01.ogg\n",
            "IN ./ravdess/videos/Actor_01/01-01-03-01-01-01-01.mp4\n",
            "OU ./ravdess/extracted_audio/01-01-03-01-01-01-01.ogg\n",
            "IN ./ravdess/videos/Actor_01/02-01-01-01-02-02-01.mp4\n",
            "OU ./ravdess/extracted_audio/02-01-01-01-02-02-01.ogg\n",
            "IN ./ravdess/videos/Actor_01/02-01-02-01-01-01-01.mp4\n",
            "OU ./ravdess/extracted_audio/02-01-02-01-01-01-01.ogg\n",
            "IN ./ravdess/videos/Actor_01/01-01-01-01-02-02-01.mp4\n",
            "OU ./ravdess/extracted_audio/01-01-01-01-02-02-01.ogg\n",
            "IN ./ravdess/videos/Actor_01/02-01-05-02-01-01-01.mp4\n",
            "OU ./ravdess/extracted_audio/02-01-05-02-01-01-01.ogg\n",
            "IN ./ravdess/videos/Actor_01/01-01-04-02-01-02-01.mp4\n",
            "OU ./ravdess/extracted_audio/01-01-04-02-01-02-01.ogg\n",
            "IN ./ravdess/videos/Actor_01/01-01-03-01-02-01-01.mp4\n",
            "OU ./ravdess/extracted_audio/01-01-03-01-02-01-01.ogg\n",
            "IN ./ravdess/videos/Actor_01/02-01-06-01-01-01-01.mp4\n",
            "OU ./ravdess/extracted_audio/02-01-06-01-01-01-01.ogg\n",
            "IN ./ravdess/videos/Actor_01/02-01-04-01-02-02-01.mp4\n",
            "OU ./ravdess/extracted_audio/02-01-04-01-02-02-01.ogg\n",
            "IN ./ravdess/videos/Actor_01/01-01-07-01-01-02-01.mp4\n",
            "OU ./ravdess/extracted_audio/01-01-07-01-01-02-01.ogg\n",
            "IN ./ravdess/videos/Actor_01/02-01-03-02-01-01-01.mp4\n",
            "OU ./ravdess/extracted_audio/02-01-03-02-01-01-01.ogg\n",
            "IN ./ravdess/videos/Actor_01/01-01-06-01-02-01-01.mp4\n",
            "OU ./ravdess/extracted_audio/01-01-06-01-02-01-01.ogg\n",
            "IN ./ravdess/videos/Actor_01/01-01-07-02-02-02-01.mp4\n",
            "OU ./ravdess/extracted_audio/01-01-07-02-02-02-01.ogg\n",
            "IN ./ravdess/videos/Actor_01/01-01-02-01-02-02-01.mp4\n",
            "OU ./ravdess/extracted_audio/01-01-02-01-02-02-01.ogg\n",
            "IN ./ravdess/videos/Actor_01/02-01-02-02-02-01-01.mp4\n",
            "OU ./ravdess/extracted_audio/02-01-02-02-02-01-01.ogg\n",
            "IN ./ravdess/videos/Actor_01/01-01-01-01-02-01-01.mp4\n",
            "OU ./ravdess/extracted_audio/01-01-01-01-02-01-01.ogg\n",
            "IN ./ravdess/videos/Actor_01/02-01-04-01-02-01-01.mp4\n",
            "OU ./ravdess/extracted_audio/02-01-04-01-02-01-01.ogg\n",
            "IN ./ravdess/videos/Actor_01/01-01-03-02-02-01-01.mp4\n",
            "OU ./ravdess/extracted_audio/01-01-03-02-02-01-01.ogg\n",
            "IN ./ravdess/videos/Actor_01/02-01-07-02-02-02-01.mp4\n",
            "OU ./ravdess/extracted_audio/02-01-07-02-02-02-01.ogg\n",
            "IN ./ravdess/videos/Actor_01/02-01-06-01-02-02-01.mp4\n",
            "OU ./ravdess/extracted_audio/02-01-06-01-02-02-01.ogg\n",
            "IN ./ravdess/videos/Actor_01/01-01-07-01-02-01-01.mp4\n",
            "OU ./ravdess/extracted_audio/01-01-07-01-02-01-01.ogg\n",
            "IN ./ravdess/videos/Actor_01/01-01-06-02-02-02-01.mp4\n",
            "OU ./ravdess/extracted_audio/01-01-06-02-02-02-01.ogg\n",
            "IN ./ravdess/videos/Actor_01/01-01-04-01-02-01-01.mp4\n",
            "OU ./ravdess/extracted_audio/01-01-04-01-02-01-01.ogg\n",
            "IN ./ravdess/videos/Actor_01/02-01-05-01-02-01-01.mp4\n",
            "OU ./ravdess/extracted_audio/02-01-05-01-02-01-01.ogg\n",
            "IN ./ravdess/videos/Actor_01/01-01-08-02-01-02-01.mp4\n",
            "OU ./ravdess/extracted_audio/01-01-08-02-01-02-01.ogg\n",
            "IN ./ravdess/videos/Actor_01/02-01-05-01-02-02-01.mp4\n",
            "OU ./ravdess/extracted_audio/02-01-05-01-02-02-01.ogg\n",
            "IN ./ravdess/videos/Actor_01/01-01-05-02-01-02-01.mp4\n",
            "OU ./ravdess/extracted_audio/01-01-05-02-01-02-01.ogg\n",
            "IN ./ravdess/videos/Actor_01/02-01-08-02-02-02-01.mp4\n",
            "OU ./ravdess/extracted_audio/02-01-08-02-02-02-01.ogg\n",
            "IN ./ravdess/videos/Actor_01/02-01-02-01-02-02-01.mp4\n",
            "OU ./ravdess/extracted_audio/02-01-02-01-02-02-01.ogg\n",
            "IN ./ravdess/videos/Actor_01/02-01-06-02-01-01-01.mp4\n",
            "OU ./ravdess/extracted_audio/02-01-06-02-01-01-01.ogg\n",
            "IN ./ravdess/videos/Actor_01/02-01-08-02-01-01-01.mp4\n",
            "OU ./ravdess/extracted_audio/02-01-08-02-01-01-01.ogg\n",
            "IN ./ravdess/videos/Actor_01/01-01-08-02-02-01-01.mp4\n",
            "OU ./ravdess/extracted_audio/01-01-08-02-02-01-01.ogg\n",
            "IN ./ravdess/videos/Actor_01/01-01-07-02-01-02-01.mp4\n",
            "OU ./ravdess/extracted_audio/01-01-07-02-01-02-01.ogg\n",
            "IN ./ravdess/videos/Actor_01/01-01-07-02-02-01-01.mp4\n",
            "OU ./ravdess/extracted_audio/01-01-07-02-02-01-01.ogg\n",
            "IN ./ravdess/videos/Actor_01/01-01-04-02-02-02-01.mp4\n",
            "OU ./ravdess/extracted_audio/01-01-04-02-02-02-01.ogg\n",
            "IN ./ravdess/videos/Actor_01/01-01-07-01-02-02-01.mp4\n",
            "OU ./ravdess/extracted_audio/01-01-07-01-02-02-01.ogg\n",
            "IN ./ravdess/videos/Actor_01/02-01-06-02-01-02-01.mp4\n",
            "OU ./ravdess/extracted_audio/02-01-06-02-01-02-01.ogg\n",
            "IN ./ravdess/videos/Actor_01/01-01-02-02-01-01-01.mp4\n",
            "OU ./ravdess/extracted_audio/01-01-02-02-01-01-01.ogg\n",
            "IN ./ravdess/videos/Actor_01/02-01-03-01-01-01-01.mp4\n",
            "OU ./ravdess/extracted_audio/02-01-03-01-01-01-01.ogg\n",
            "IN ./ravdess/videos/Actor_01/01-01-07-02-01-01-01.mp4\n",
            "OU ./ravdess/extracted_audio/01-01-07-02-01-01-01.ogg\n",
            "IN ./ravdess/videos/Actor_01/02-01-06-02-02-01-01.mp4\n",
            "OU ./ravdess/extracted_audio/02-01-06-02-02-01-01.ogg\n",
            "IN ./ravdess/videos/Actor_01/02-01-02-02-01-02-01.mp4\n",
            "OU ./ravdess/extracted_audio/02-01-02-02-01-02-01.ogg\n",
            "IN ./ravdess/videos/Actor_01/02-01-05-02-02-02-01.mp4\n",
            "OU ./ravdess/extracted_audio/02-01-05-02-02-02-01.ogg\n",
            "IN ./ravdess/videos/Actor_01/02-01-08-01-02-01-01.mp4\n",
            "OU ./ravdess/extracted_audio/02-01-08-01-02-01-01.ogg\n",
            "IN ./ravdess/videos/Actor_01/02-01-08-01-02-02-01.mp4\n",
            "OU ./ravdess/extracted_audio/02-01-08-01-02-02-01.ogg\n",
            "IN ./ravdess/videos/Actor_01/01-01-06-01-01-01-01.mp4\n",
            "OU ./ravdess/extracted_audio/01-01-06-01-01-01-01.ogg\n",
            "IN ./ravdess/videos/Actor_01/01-01-05-01-02-01-01.mp4\n",
            "OU ./ravdess/extracted_audio/01-01-05-01-02-01-01.ogg\n",
            "IN ./ravdess/videos/Actor_01/02-01-04-02-02-01-01.mp4\n",
            "OU ./ravdess/extracted_audio/02-01-04-02-02-01-01.ogg\n",
            "IN ./ravdess/videos/Actor_01/02-01-07-01-02-02-01.mp4\n",
            "OU ./ravdess/extracted_audio/02-01-07-01-02-02-01.ogg\n",
            "IN ./ravdess/videos/Actor_01/02-01-07-01-01-02-01.mp4\n",
            "OU ./ravdess/extracted_audio/02-01-07-01-01-02-01.ogg\n",
            "IN ./ravdess/videos/Actor_01/02-01-05-01-01-02-01.mp4\n",
            "OU ./ravdess/extracted_audio/02-01-05-01-01-02-01.ogg\n",
            "IN ./ravdess/videos/Actor_01/02-01-04-01-01-01-01.mp4\n",
            "OU ./ravdess/extracted_audio/02-01-04-01-01-01-01.ogg\n",
            "IN ./ravdess/videos/Actor_01/02-01-03-01-02-02-01.mp4\n",
            "OU ./ravdess/extracted_audio/02-01-03-01-02-02-01.ogg\n",
            "IN ./ravdess/videos/Actor_01/02-01-04-02-01-02-01.mp4\n",
            "OU ./ravdess/extracted_audio/02-01-04-02-01-02-01.ogg\n",
            "IN ./ravdess/videos/Actor_01/02-01-03-02-02-01-01.mp4\n",
            "OU ./ravdess/extracted_audio/02-01-03-02-02-01-01.ogg\n",
            "Processing Videos for Actor_02\n",
            "Actor_02 has 120 videos.\n",
            "IN ./ravdess/videos/Actor_02/02-01-08-01-01-01-02.mp4\n",
            "OU ./ravdess/extracted_audio/02-01-08-01-01-01-02.ogg\n",
            "IN ./ravdess/videos/Actor_02/01-01-01-01-01-01-02.mp4\n",
            "OU ./ravdess/extracted_audio/01-01-01-01-01-01-02.ogg\n",
            "IN ./ravdess/videos/Actor_02/02-01-06-01-01-02-02.mp4\n",
            "OU ./ravdess/extracted_audio/02-01-06-01-01-02-02.ogg\n",
            "IN ./ravdess/videos/Actor_02/02-01-05-02-01-01-02.mp4\n",
            "OU ./ravdess/extracted_audio/02-01-05-02-01-01-02.ogg\n",
            "IN ./ravdess/videos/Actor_02/02-01-02-01-01-01-02.mp4\n",
            "OU ./ravdess/extracted_audio/02-01-02-01-01-01-02.ogg\n",
            "IN ./ravdess/videos/Actor_02/01-01-02-01-01-01-02.mp4\n",
            "OU ./ravdess/extracted_audio/01-01-02-01-01-01-02.ogg\n",
            "IN ./ravdess/videos/Actor_02/01-01-03-02-01-01-02.mp4\n",
            "OU ./ravdess/extracted_audio/01-01-03-02-01-01-02.ogg\n",
            "IN ./ravdess/videos/Actor_02/02-01-07-01-01-01-02.mp4\n",
            "OU ./ravdess/extracted_audio/02-01-07-01-01-01-02.ogg\n",
            "IN ./ravdess/videos/Actor_02/01-01-03-02-02-02-02.mp4\n",
            "OU ./ravdess/extracted_audio/01-01-03-02-02-02-02.ogg\n",
            "IN ./ravdess/videos/Actor_02/02-01-01-01-01-02-02.mp4\n",
            "OU ./ravdess/extracted_audio/02-01-01-01-01-02-02.ogg\n",
            "IN ./ravdess/videos/Actor_02/01-01-07-02-02-02-02.mp4\n",
            "OU ./ravdess/extracted_audio/01-01-07-02-02-02-02.ogg\n",
            "IN ./ravdess/videos/Actor_02/02-01-01-01-02-01-02.mp4\n",
            "OU ./ravdess/extracted_audio/02-01-01-01-02-01-02.ogg\n",
            "IN ./ravdess/videos/Actor_02/02-01-06-01-01-01-02.mp4\n",
            "OU ./ravdess/extracted_audio/02-01-06-01-01-01-02.ogg\n",
            "IN ./ravdess/videos/Actor_02/02-01-08-02-01-01-02.mp4\n",
            "OU ./ravdess/extracted_audio/02-01-08-02-01-01-02.ogg\n",
            "IN ./ravdess/videos/Actor_02/01-01-02-01-02-02-02.mp4\n",
            "OU ./ravdess/extracted_audio/01-01-02-01-02-02-02.ogg\n",
            "IN ./ravdess/videos/Actor_02/01-01-06-01-02-01-02.mp4\n",
            "OU ./ravdess/extracted_audio/01-01-06-01-02-01-02.ogg\n",
            "IN ./ravdess/videos/Actor_02/01-01-05-01-01-01-02.mp4\n",
            "OU ./ravdess/extracted_audio/01-01-05-01-01-01-02.ogg\n",
            "IN ./ravdess/videos/Actor_02/01-01-03-02-01-02-02.mp4\n",
            "OU ./ravdess/extracted_audio/01-01-03-02-01-02-02.ogg\n",
            "IN ./ravdess/videos/Actor_02/01-01-03-01-01-02-02.mp4\n",
            "OU ./ravdess/extracted_audio/01-01-03-01-01-02-02.ogg\n",
            "IN ./ravdess/videos/Actor_02/01-01-02-02-02-02-02.mp4\n",
            "OU ./ravdess/extracted_audio/01-01-02-02-02-02-02.ogg\n",
            "IN ./ravdess/videos/Actor_02/02-01-04-02-01-02-02.mp4\n",
            "OU ./ravdess/extracted_audio/02-01-04-02-01-02-02.ogg\n",
            "IN ./ravdess/videos/Actor_02/02-01-07-02-02-02-02.mp4\n",
            "OU ./ravdess/extracted_audio/02-01-07-02-02-02-02.ogg\n",
            "IN ./ravdess/videos/Actor_02/02-01-04-01-01-01-02.mp4\n",
            "OU ./ravdess/extracted_audio/02-01-04-01-01-01-02.ogg\n",
            "IN ./ravdess/videos/Actor_02/01-01-08-02-02-01-02.mp4\n",
            "OU ./ravdess/extracted_audio/01-01-08-02-02-01-02.ogg\n",
            "IN ./ravdess/videos/Actor_02/01-01-08-01-01-01-02.mp4\n",
            "OU ./ravdess/extracted_audio/01-01-08-01-01-01-02.ogg\n",
            "IN ./ravdess/videos/Actor_02/01-01-01-01-02-02-02.mp4\n",
            "OU ./ravdess/extracted_audio/01-01-01-01-02-02-02.ogg\n",
            "IN ./ravdess/videos/Actor_02/02-01-08-01-01-02-02.mp4\n",
            "OU ./ravdess/extracted_audio/02-01-08-01-01-02-02.ogg\n",
            "IN ./ravdess/videos/Actor_02/02-01-06-02-02-01-02.mp4\n",
            "OU ./ravdess/extracted_audio/02-01-06-02-02-01-02.ogg\n",
            "IN ./ravdess/videos/Actor_02/01-01-04-02-01-01-02.mp4\n",
            "OU ./ravdess/extracted_audio/01-01-04-02-01-01-02.ogg\n",
            "IN ./ravdess/videos/Actor_02/01-01-02-01-02-01-02.mp4\n",
            "OU ./ravdess/extracted_audio/01-01-02-01-02-01-02.ogg\n",
            "IN ./ravdess/videos/Actor_02/02-01-02-02-01-01-02.mp4\n",
            "OU ./ravdess/extracted_audio/02-01-02-02-01-01-02.ogg\n",
            "IN ./ravdess/videos/Actor_02/02-01-05-02-01-02-02.mp4\n",
            "OU ./ravdess/extracted_audio/02-01-05-02-01-02-02.ogg\n",
            "IN ./ravdess/videos/Actor_02/02-01-08-02-02-01-02.mp4\n",
            "OU ./ravdess/extracted_audio/02-01-08-02-02-01-02.ogg\n",
            "IN ./ravdess/videos/Actor_02/01-01-05-02-01-02-02.mp4\n",
            "OU ./ravdess/extracted_audio/01-01-05-02-01-02-02.ogg\n",
            "IN ./ravdess/videos/Actor_02/02-01-04-01-01-02-02.mp4\n",
            "OU ./ravdess/extracted_audio/02-01-04-01-01-02-02.ogg\n",
            "IN ./ravdess/videos/Actor_02/02-01-02-02-01-02-02.mp4\n",
            "OU ./ravdess/extracted_audio/02-01-02-02-01-02-02.ogg\n",
            "IN ./ravdess/videos/Actor_02/01-01-03-01-02-01-02.mp4\n",
            "OU ./ravdess/extracted_audio/01-01-03-01-02-01-02.ogg\n",
            "IN ./ravdess/videos/Actor_02/02-01-04-02-02-01-02.mp4\n",
            "OU ./ravdess/extracted_audio/02-01-04-02-02-01-02.ogg\n",
            "IN ./ravdess/videos/Actor_02/01-01-05-01-01-02-02.mp4\n",
            "OU ./ravdess/extracted_audio/01-01-05-01-01-02-02.ogg\n",
            "IN ./ravdess/videos/Actor_02/01-01-06-02-02-01-02.mp4\n",
            "OU ./ravdess/extracted_audio/01-01-06-02-02-01-02.ogg\n",
            "IN ./ravdess/videos/Actor_02/02-01-07-02-01-01-02.mp4\n",
            "OU ./ravdess/extracted_audio/02-01-07-02-01-01-02.ogg\n",
            "IN ./ravdess/videos/Actor_02/01-01-04-01-02-02-02.mp4\n",
            "OU ./ravdess/extracted_audio/01-01-04-01-02-02-02.ogg\n",
            "IN ./ravdess/videos/Actor_02/01-01-04-02-02-01-02.mp4\n",
            "OU ./ravdess/extracted_audio/01-01-04-02-02-01-02.ogg\n",
            "IN ./ravdess/videos/Actor_02/01-01-01-01-01-02-02.mp4\n",
            "OU ./ravdess/extracted_audio/01-01-01-01-01-02-02.ogg\n",
            "IN ./ravdess/videos/Actor_02/01-01-08-01-01-02-02.mp4\n",
            "OU ./ravdess/extracted_audio/01-01-08-01-01-02-02.ogg\n",
            "IN ./ravdess/videos/Actor_02/01-01-05-02-02-01-02.mp4\n",
            "OU ./ravdess/extracted_audio/01-01-05-02-02-01-02.ogg\n",
            "IN ./ravdess/videos/Actor_02/02-01-05-01-01-02-02.mp4\n",
            "OU ./ravdess/extracted_audio/02-01-05-01-01-02-02.ogg\n",
            "IN ./ravdess/videos/Actor_02/01-01-05-01-02-01-02.mp4\n",
            "OU ./ravdess/extracted_audio/01-01-05-01-02-01-02.ogg\n",
            "IN ./ravdess/videos/Actor_02/02-01-04-02-01-01-02.mp4\n",
            "OU ./ravdess/extracted_audio/02-01-04-02-01-01-02.ogg\n",
            "IN ./ravdess/videos/Actor_02/02-01-06-02-01-01-02.mp4\n",
            "OU ./ravdess/extracted_audio/02-01-06-02-01-01-02.ogg\n",
            "IN ./ravdess/videos/Actor_02/01-01-07-01-01-01-02.mp4\n",
            "OU ./ravdess/extracted_audio/01-01-07-01-01-01-02.ogg\n",
            "IN ./ravdess/videos/Actor_02/01-01-06-01-01-02-02.mp4\n",
            "OU ./ravdess/extracted_audio/01-01-06-01-01-02-02.ogg\n",
            "IN ./ravdess/videos/Actor_02/01-01-04-01-02-01-02.mp4\n",
            "OU ./ravdess/extracted_audio/01-01-04-01-02-01-02.ogg\n",
            "IN ./ravdess/videos/Actor_02/02-01-06-02-01-02-02.mp4\n",
            "OU ./ravdess/extracted_audio/02-01-06-02-01-02-02.ogg\n",
            "IN ./ravdess/videos/Actor_02/02-01-07-01-01-02-02.mp4\n",
            "OU ./ravdess/extracted_audio/02-01-07-01-01-02-02.ogg\n",
            "IN ./ravdess/videos/Actor_02/01-01-06-02-01-02-02.mp4\n",
            "OU ./ravdess/extracted_audio/01-01-06-02-01-02-02.ogg\n",
            "IN ./ravdess/videos/Actor_02/01-01-04-02-02-02-02.mp4\n",
            "OU ./ravdess/extracted_audio/01-01-04-02-02-02-02.ogg\n",
            "IN ./ravdess/videos/Actor_02/01-01-04-02-01-02-02.mp4\n",
            "OU ./ravdess/extracted_audio/01-01-04-02-01-02-02.ogg\n",
            "IN ./ravdess/videos/Actor_02/02-01-03-02-02-01-02.mp4\n",
            "OU ./ravdess/extracted_audio/02-01-03-02-02-01-02.ogg\n",
            "IN ./ravdess/videos/Actor_02/02-01-05-02-02-01-02.mp4\n",
            "OU ./ravdess/extracted_audio/02-01-05-02-02-01-02.ogg\n",
            "IN ./ravdess/videos/Actor_02/02-01-04-01-02-02-02.mp4\n",
            "OU ./ravdess/extracted_audio/02-01-04-01-02-02-02.ogg\n",
            "IN ./ravdess/videos/Actor_02/02-01-02-02-02-01-02.mp4\n",
            "OU ./ravdess/extracted_audio/02-01-02-02-02-01-02.ogg\n",
            "IN ./ravdess/videos/Actor_02/02-01-05-01-02-02-02.mp4\n",
            "OU ./ravdess/extracted_audio/02-01-05-01-02-02-02.ogg\n",
            "IN ./ravdess/videos/Actor_02/01-01-02-02-02-01-02.mp4\n",
            "OU ./ravdess/extracted_audio/01-01-02-02-02-01-02.ogg\n",
            "IN ./ravdess/videos/Actor_02/01-01-03-01-01-01-02.mp4\n",
            "OU ./ravdess/extracted_audio/01-01-03-01-01-01-02.ogg\n",
            "IN ./ravdess/videos/Actor_02/01-01-08-02-01-02-02.mp4\n",
            "OU ./ravdess/extracted_audio/01-01-08-02-01-02-02.ogg\n",
            "IN ./ravdess/videos/Actor_02/02-01-08-01-02-01-02.mp4\n",
            "OU ./ravdess/extracted_audio/02-01-08-01-02-01-02.ogg\n",
            "IN ./ravdess/videos/Actor_02/02-01-08-02-01-02-02.mp4\n",
            "OU ./ravdess/extracted_audio/02-01-08-02-01-02-02.ogg\n",
            "IN ./ravdess/videos/Actor_02/01-01-06-01-01-01-02.mp4\n",
            "OU ./ravdess/extracted_audio/01-01-06-01-01-01-02.ogg\n",
            "IN ./ravdess/videos/Actor_02/02-01-03-02-02-02-02.mp4\n",
            "OU ./ravdess/extracted_audio/02-01-03-02-02-02-02.ogg\n",
            "IN ./ravdess/videos/Actor_02/02-01-03-01-02-01-02.mp4\n",
            "OU ./ravdess/extracted_audio/02-01-03-01-02-01-02.ogg\n",
            "IN ./ravdess/videos/Actor_02/02-01-06-02-02-02-02.mp4\n",
            "OU ./ravdess/extracted_audio/02-01-06-02-02-02-02.ogg\n",
            "IN ./ravdess/videos/Actor_02/01-01-07-01-02-02-02.mp4\n",
            "OU ./ravdess/extracted_audio/01-01-07-01-02-02-02.ogg\n",
            "IN ./ravdess/videos/Actor_02/01-01-08-01-02-02-02.mp4\n",
            "OU ./ravdess/extracted_audio/01-01-08-01-02-02-02.ogg\n",
            "IN ./ravdess/videos/Actor_02/02-01-07-01-02-02-02.mp4\n",
            "OU ./ravdess/extracted_audio/02-01-07-01-02-02-02.ogg\n",
            "IN ./ravdess/videos/Actor_02/02-01-03-01-02-02-02.mp4\n",
            "OU ./ravdess/extracted_audio/02-01-03-01-02-02-02.ogg\n",
            "IN ./ravdess/videos/Actor_02/01-01-07-02-02-01-02.mp4\n",
            "OU ./ravdess/extracted_audio/01-01-07-02-02-01-02.ogg\n",
            "IN ./ravdess/videos/Actor_02/01-01-06-01-02-02-02.mp4\n",
            "OU ./ravdess/extracted_audio/01-01-06-01-02-02-02.ogg\n",
            "IN ./ravdess/videos/Actor_02/02-01-03-02-01-01-02.mp4\n",
            "OU ./ravdess/extracted_audio/02-01-03-02-01-01-02.ogg\n",
            "IN ./ravdess/videos/Actor_02/02-01-02-01-02-01-02.mp4\n",
            "OU ./ravdess/extracted_audio/02-01-02-01-02-01-02.ogg\n",
            "IN ./ravdess/videos/Actor_02/02-01-03-02-01-02-02.mp4\n",
            "OU ./ravdess/extracted_audio/02-01-03-02-01-02-02.ogg\n",
            "IN ./ravdess/videos/Actor_02/01-01-05-02-01-01-02.mp4\n",
            "OU ./ravdess/extracted_audio/01-01-05-02-01-01-02.ogg\n",
            "IN ./ravdess/videos/Actor_02/01-01-07-01-01-02-02.mp4\n",
            "OU ./ravdess/extracted_audio/01-01-07-01-01-02-02.ogg\n",
            "IN ./ravdess/videos/Actor_02/01-01-06-02-02-02-02.mp4\n",
            "OU ./ravdess/extracted_audio/01-01-06-02-02-02-02.ogg\n",
            "IN ./ravdess/videos/Actor_02/02-01-08-01-02-02-02.mp4\n",
            "OU ./ravdess/extracted_audio/02-01-08-01-02-02-02.ogg\n",
            "IN ./ravdess/videos/Actor_02/01-01-02-02-01-01-02.mp4\n",
            "OU ./ravdess/extracted_audio/01-01-02-02-01-01-02.ogg\n",
            "IN ./ravdess/videos/Actor_02/02-01-05-02-02-02-02.mp4\n",
            "OU ./ravdess/extracted_audio/02-01-05-02-02-02-02.ogg\n",
            "IN ./ravdess/videos/Actor_02/02-01-01-01-02-02-02.mp4\n",
            "OU ./ravdess/extracted_audio/02-01-01-01-02-02-02.ogg\n",
            "IN ./ravdess/videos/Actor_02/01-01-01-01-02-01-02.mp4\n",
            "OU ./ravdess/extracted_audio/01-01-01-01-02-01-02.ogg\n",
            "IN ./ravdess/videos/Actor_02/02-01-02-02-02-02-02.mp4\n",
            "OU ./ravdess/extracted_audio/02-01-02-02-02-02-02.ogg\n",
            "IN ./ravdess/videos/Actor_02/01-01-05-02-02-02-02.mp4\n",
            "OU ./ravdess/extracted_audio/01-01-05-02-02-02-02.ogg\n",
            "IN ./ravdess/videos/Actor_02/02-01-07-02-01-02-02.mp4\n",
            "OU ./ravdess/extracted_audio/02-01-07-02-01-02-02.ogg\n",
            "IN ./ravdess/videos/Actor_02/01-01-02-02-01-02-02.mp4\n",
            "OU ./ravdess/extracted_audio/01-01-02-02-01-02-02.ogg\n",
            "IN ./ravdess/videos/Actor_02/01-01-07-02-01-02-02.mp4\n",
            "OU ./ravdess/extracted_audio/01-01-07-02-01-02-02.ogg\n",
            "IN ./ravdess/videos/Actor_02/01-01-03-01-02-02-02.mp4\n",
            "OU ./ravdess/extracted_audio/01-01-03-01-02-02-02.ogg\n",
            "IN ./ravdess/videos/Actor_02/01-01-08-02-02-02-02.mp4\n",
            "OU ./ravdess/extracted_audio/01-01-08-02-02-02-02.ogg\n",
            "IN ./ravdess/videos/Actor_02/02-01-01-01-01-01-02.mp4\n",
            "OU ./ravdess/extracted_audio/02-01-01-01-01-01-02.ogg\n",
            "IN ./ravdess/videos/Actor_02/02-01-03-01-01-02-02.mp4\n",
            "OU ./ravdess/extracted_audio/02-01-03-01-01-02-02.ogg\n",
            "IN ./ravdess/videos/Actor_02/02-01-04-02-02-02-02.mp4\n",
            "OU ./ravdess/extracted_audio/02-01-04-02-02-02-02.ogg\n",
            "IN ./ravdess/videos/Actor_02/02-01-05-01-02-01-02.mp4\n",
            "OU ./ravdess/extracted_audio/02-01-05-01-02-01-02.ogg\n",
            "IN ./ravdess/videos/Actor_02/02-01-08-02-02-02-02.mp4\n",
            "OU ./ravdess/extracted_audio/02-01-08-02-02-02-02.ogg\n",
            "IN ./ravdess/videos/Actor_02/02-01-07-02-02-01-02.mp4\n",
            "OU ./ravdess/extracted_audio/02-01-07-02-02-01-02.ogg\n",
            "IN ./ravdess/videos/Actor_02/01-01-08-01-02-01-02.mp4\n",
            "OU ./ravdess/extracted_audio/01-01-08-01-02-01-02.ogg\n",
            "IN ./ravdess/videos/Actor_02/02-01-04-01-02-01-02.mp4\n",
            "OU ./ravdess/extracted_audio/02-01-04-01-02-01-02.ogg\n",
            "IN ./ravdess/videos/Actor_02/01-01-07-01-02-01-02.mp4\n",
            "OU ./ravdess/extracted_audio/01-01-07-01-02-01-02.ogg\n",
            "IN ./ravdess/videos/Actor_02/01-01-04-01-01-02-02.mp4\n",
            "OU ./ravdess/extracted_audio/01-01-04-01-01-02-02.ogg\n",
            "IN ./ravdess/videos/Actor_02/01-01-03-02-02-01-02.mp4\n",
            "OU ./ravdess/extracted_audio/01-01-03-02-02-01-02.ogg\n",
            "IN ./ravdess/videos/Actor_02/01-01-05-01-02-02-02.mp4\n",
            "OU ./ravdess/extracted_audio/01-01-05-01-02-02-02.ogg\n",
            "IN ./ravdess/videos/Actor_02/01-01-08-02-01-01-02.mp4\n",
            "OU ./ravdess/extracted_audio/01-01-08-02-01-01-02.ogg\n",
            "IN ./ravdess/videos/Actor_02/01-01-07-02-01-01-02.mp4\n",
            "OU ./ravdess/extracted_audio/01-01-07-02-01-01-02.ogg\n",
            "IN ./ravdess/videos/Actor_02/02-01-05-01-01-01-02.mp4\n",
            "OU ./ravdess/extracted_audio/02-01-05-01-01-01-02.ogg\n",
            "IN ./ravdess/videos/Actor_02/02-01-07-01-02-01-02.mp4\n",
            "OU ./ravdess/extracted_audio/02-01-07-01-02-01-02.ogg\n",
            "IN ./ravdess/videos/Actor_02/01-01-04-01-01-01-02.mp4\n",
            "OU ./ravdess/extracted_audio/01-01-04-01-01-01-02.ogg\n",
            "IN ./ravdess/videos/Actor_02/02-01-06-01-02-01-02.mp4\n",
            "OU ./ravdess/extracted_audio/02-01-06-01-02-01-02.ogg\n",
            "IN ./ravdess/videos/Actor_02/01-01-06-02-01-01-02.mp4\n",
            "OU ./ravdess/extracted_audio/01-01-06-02-01-01-02.ogg\n",
            "IN ./ravdess/videos/Actor_02/02-01-06-01-02-02-02.mp4\n",
            "OU ./ravdess/extracted_audio/02-01-06-01-02-02-02.ogg\n",
            "IN ./ravdess/videos/Actor_02/02-01-03-01-01-01-02.mp4\n",
            "OU ./ravdess/extracted_audio/02-01-03-01-01-01-02.ogg\n",
            "IN ./ravdess/videos/Actor_02/02-01-02-01-02-02-02.mp4\n",
            "OU ./ravdess/extracted_audio/02-01-02-01-02-02-02.ogg\n",
            "IN ./ravdess/videos/Actor_02/02-01-02-01-01-02-02.mp4\n",
            "OU ./ravdess/extracted_audio/02-01-02-01-01-02-02.ogg\n",
            "IN ./ravdess/videos/Actor_02/01-01-02-01-01-02-02.mp4\n",
            "OU ./ravdess/extracted_audio/01-01-02-01-01-02-02.ogg\n"
          ],
          "name": "stdout"
        }
      ]
    },
    {
      "cell_type": "code",
      "metadata": {
        "id": "lAFHVmcjaycs"
      },
      "source": [
        ""
      ],
      "execution_count": 44,
      "outputs": []
    },
    {
      "cell_type": "code",
      "metadata": {
        "id": "Hx-u5nMwjoED"
      },
      "source": [
        ""
      ],
      "execution_count": null,
      "outputs": []
    }
  ]
}