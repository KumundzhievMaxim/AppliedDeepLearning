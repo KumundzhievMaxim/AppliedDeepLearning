{
  "nbformat": 4,
  "nbformat_minor": 0,
  "metadata": {
    "colab": {
      "name": "Assignment 2/A -- Multi-object detection and segmentation on Simpsons.ipynb",
      "provenance": [],
      "collapsed_sections": []
    },
    "kernelspec": {
      "name": "python3",
      "display_name": "Python 3"
    },
    "accelerator": "GPU"
  },
  "cells": [
    {
      "cell_type": "markdown",
      "metadata": {
        "id": "Wx1HWNSr5a-H"
      },
      "source": [
        "# Assignment 2/A\n",
        "**Disclaimer: Only for ADL/AML students!**\n",
        "\n",
        "### General information\n",
        "**You have to solve all tasks to pass!** \n",
        "\n",
        "Grade is calculated by the day of the last submission, but you will only get it after you've succesfully presented it. \n",
        "\n",
        "*Deadlines and grades:* \n",
        "  * 2020.10.27 - 2020.11.24 ==> 5\n",
        "  * 2020.11.25 - 2020.12.01 ==> 4\n",
        "  * 2020.12.02 - 2020.12.08 ==> 3\n",
        "  * 2020.12.09 - 2020.12.15 ==> 2\n",
        "  * 2020.12.16 or later ==> 1\n",
        "\n",
        "### Description\n",
        "In this assignment you have to build a Mask R-CNN based instance segmentation model using [Detectron2](https://github.com/facebookresearch/detectron2). Detectron2 was written in PyTorch and contains many state-of-the-art obejct detection models with pretrained weights. (*Don't worry, you don't have to use any PyTorch specific function, just the methods provided by the Detectron2 package.*) \n",
        "\n",
        "First, you have to convert the Simpsons Main Characters dataset to COCO format. After that, finetune a pretrained instance segmentation model (which was trained on COCO dataset) to segment Simpson characters. Finally, to see the results, run it on some videos.\n",
        "\n",
        "**You can use this notebook for guidance: https://colab.research.google.com/drive/16jcaJoc6bCFAQ96jDe2HwtXj7BMD_-m5**\n",
        "\n",
        "*__Optional:__ You can get better a better grade on one of your assignments, if you temporally extend this method. By matching the bounding boxes using Hungarian algorithm, you can create a simple tracking method without modifying the network. Here you can find a good explanation of how it works: https://towardsdatascience.com/computer-vision-for-tracking-8220759eee85 (It's enough to only implement the Hungarian matching part without using Kalman filter.)*  \n",
        "\n",
        "### Use GPU\n",
        "Runtime -> Change runtime type\n",
        "\n",
        "At Hardware accelerator select  GPU then save it.  \n",
        "\n",
        "### Useful shortcuts\n",
        "* Run selected cell: *Ctrl + Enter*\n",
        "* Insert cell below: *Ctrl + M B*\n",
        "* Insert cell above: *Ctrl + M A*\n",
        "* Convert to text: *Ctrl + M M*\n",
        "* Split at cursor: *Ctrl + M -*\n",
        "* Autocomplete: *Ctrl + Space* or *Tab*\n",
        "* Move selected cells up: *Ctrl + M J*\n",
        "* Move selected cells down: *Ctrl + M K*\n",
        "* Delete selected cells: *Ctrl + M D*\n",
        "\n",
        "\n",
        "### Tips\n",
        "* **You may need to restart the notebook if the following cell returns some errors (red texts).**\n",
        "* To prevent Google colab from disconnecting: https://medium.com/@shivamrawat_756/how-to-prevent-google-colab-from-disconnecting-717b88a128c0 \n",
        "\n",
        "If you have any question, feel free to ask. \n",
        "kopacsi@inf.elte.hu"
      ]
    },
    {
      "cell_type": "code",
      "metadata": {
        "id": "ZwRGPNi0iQoQ"
      },
      "source": [
        "# install dependencies: \n",
        "!pip install pyyaml==5.1 'pycocotools>=2.0.1'\n",
        "import torch, torchvision\n",
        "print(torch.__version__, torch.cuda.is_available())\n",
        "!gcc --version\n",
        "# opencv is pre-installed on colab\n",
        "\n",
        "# install detectron2: (Colab has CUDA 10.1 + torch 1.6)\n",
        "# See https://detectron2.readthedocs.io/tutorials/install.html for instructions\n",
        "assert torch.__version__.startswith(\"1.6\")\n",
        "!pip install detectron2 -f https://dl.fbaipublicfiles.com/detectron2/wheels/cu101/torch1.6/index.html\n",
        "\n",
        "# Some basic setup:\n",
        "# Setup detectron2 logger\n",
        "import detectron2\n",
        "from detectron2.utils.logger import setup_logger\n",
        "setup_logger()\n",
        "\n",
        "# import some common libraries\n",
        "import numpy as np\n",
        "import os, json, cv2, random\n",
        "from google.colab.patches import cv2_imshow\n",
        "\n",
        "# import some common detectron2 utilities\n",
        "from detectron2 import model_zoo\n",
        "from detectron2.engine import DefaultPredictor\n",
        "from detectron2.config import get_cfg\n",
        "from detectron2.utils.visualizer import Visualizer\n",
        "from detectron2.data import MetadataCatalog, DatasetCatalog\n",
        "from detectron2.structures import BoxMode"
      ],
      "execution_count": null,
      "outputs": []
    },
    {
      "cell_type": "markdown",
      "metadata": {
        "id": "Qwfba0if-93A"
      },
      "source": [
        "## Prepare dataset\n",
        "\n",
        "* Download the Simpsons Main Characters dataset.Here you can find more information about the dataset: https://www.kaggle.com/mlwhiz/simpsons-main-characters \n",
        "* Preprocess the data.\n",
        "  * In the `file_name`, replace the '\\\\' characters with '/'.\n",
        "* Split the dataset into train-test sets. The test set should contain 8 images of each character.\n",
        "* Convert the datasets to Detectron2's COCO format. Here you can find the format: https://detectron2.readthedocs.io/tutorials/datasets.html#standard-dataset-dicts \n",
        "  * You only need to use these fields: `file_name, height, width, image_id, annotations`.\n",
        "  * Each `annotation` field should contain a list that contains dictionaries with the following keys: `bbox, bbox_mode, category_id, iscrowd, segmentation` (*Note: `category_id` indexing should start from 0 (you can use the original `category_id-1`), and the value of `iscrowd` should be 0.*)\n",
        "* Finally, register the datasets and visualize some (e.g. 3) samples (randomly), to check that everything works fine.\n",
        "  * You have to set the `MetadataCatalog` as well, see: https://detectron2.readthedocs.io/tutorials/datasets.html#metadata-for-datasets"
      ]
    },
    {
      "cell_type": "code",
      "metadata": {
        "id": "BsnF6rXiiQJl"
      },
      "source": [
        "# Download from Drive\n",
        "!if ! [ -f simpsons_main_characters.zip ]; then curl -c ./cookie -s -L \"https://drive.google.com/uc?export=download&id=1b-P1odn9flB1dj8rFJFN85nEaiVzbDbS\" > /dev/null; curl -Lb ./cookie \"https://drive.google.com/uc?export=download&confirm=`awk '/download/ {print $NF}' ./cookie`&id=1b-P1odn9flB1dj8rFJFN85nEaiVzbDbS\" -o simpsons_main_characters.zip; fi\n",
        "\n",
        "# Check if the file size is correct (~153MB)\n",
        "!if (( $(stat -c%s simpsons_main_characters.zip) < 160652076 )); then rm -rfd simpsons_main_characters.zip; fi\n",
        "\n",
        "# If not, download it from NIPG12\n",
        "!wget -nc -O simpsons_main_characters.zip http://nipg1.inf.elte.hu:8000/simpsons_main_characters.zip"
      ],
      "execution_count": null,
      "outputs": []
    },
    {
      "cell_type": "code",
      "metadata": {
        "id": "WQDTcEODmJDz"
      },
      "source": [
        "!unzip simpsons_main_characters.zip"
      ],
      "execution_count": null,
      "outputs": []
    },
    {
      "cell_type": "markdown",
      "metadata": {
        "id": "Ui3_jaq2XcW5"
      },
      "source": [
        "## Try out the model\n",
        "To test the model download the following image. Load the [pretrained R50-FPN 3x instance segmentation model](https://github.com/facebookresearch/detectron2/blob/master/MODEL_ZOO.md#coco-instance-segmentation-baselines-with-mask-r-cnn), evaluate it on the image, then visualize (plot) the result. \n"
      ]
    },
    {
      "cell_type": "code",
      "metadata": {
        "id": "zQYj-7YuiT8w"
      },
      "source": [
        "!wget http://images.cocodataset.org/val2017/000000439715.jpg -q -O input.jpg"
      ],
      "execution_count": null,
      "outputs": []
    },
    {
      "cell_type": "markdown",
      "metadata": {
        "id": "Fkj5OLXrHGqK"
      },
      "source": [
        "## Training\n",
        "* Initialize the model with pretrained weights: https://github.com/facebookresearch/detectron2/blob/master/MODEL_ZOO.md#coco-instance-segmentation-baselines-with-mask-r-cnn\n",
        "* Set the training parameters:\n",
        "```\n",
        "cfg.SOLVER.IMS_PER_BATCH = 2\n",
        "cfg.SOLVER.BASE_LR = 0.00025\n",
        "cfg.SOLVER.MAX_ITER = 3000\n",
        "cfg.MODEL.ROI_HEADS.BATCH_SIZE_PER_IMAGE = 128 \n",
        "cfg.MODEL.ROI_HEADS.NUM_CLASSES = 5\n",
        "```\n",
        "* Train the model. (*Note: To debug your code, you can reduce the MAX_ITER to 300 or 1000.*)  \n"
      ]
    },
    {
      "cell_type": "markdown",
      "metadata": {
        "id": "5LyV3_AUT0Or"
      },
      "source": [
        "## Evaluation\n",
        "* Evalute the model on the test set.\n",
        "* Visualize some (e.g. 5) results.\n",
        "* Run the model on the following and an additional (arbitrary) videos:\n",
        "  * https://www.youtube.com/watch?v=-doMNIdooe8&ab_channel=Nerdstalgic\n"
      ]
    },
    {
      "cell_type": "code",
      "metadata": {
        "id": "NPhkYQrLVHSO",
        "colab": {
          "base_uri": "https://localhost:8080/",
          "height": 321
        },
        "outputId": "952c211a-f083-400a-a5d8-344fe68cff35"
      },
      "source": [
        "from IPython.display import YouTubeVideo, display\n",
        "video = YouTubeVideo(\"-doMNIdooe8\", width=500)\n",
        "display(video)"
      ],
      "execution_count": null,
      "outputs": [
        {
          "output_type": "display_data",
          "data": {
            "text/html": [
              "\n",
              "        <iframe\n",
              "            width=\"500\"\n",
              "            height=\"300\"\n",
              "            src=\"https://www.youtube.com/embed/-doMNIdooe8\"\n",
              "            frameborder=\"0\"\n",
              "            allowfullscreen\n",
              "        ></iframe>\n",
              "        "
            ],
            "text/plain": [
              "<IPython.lib.display.YouTubeVideo at 0x7fe001320b00>"
            ],
            "image/jpeg": "[encoded data removed]"
          },
          "metadata": {
            "tags": []
          }
        }
      ]
    },
    {
      "cell_type": "markdown",
      "metadata": {
        "id": "-JtAFlNgVKLU"
      },
      "source": [
        "Download the videos:"
      ]
    },
    {
      "cell_type": "code",
      "metadata": {
        "id": "KQGO8gnsVODq"
      },
      "source": [
        "!pip install youtube-dl\n",
        "!pip uninstall -y opencv-python-headless opencv-contrib-python\n",
        "!apt install python3-opencv  # the one pre-installed have some issues\n",
        "\n",
        "!youtube-dl https://www.youtube.com/watch?v=-doMNIdooe8&ab_channel=Nerdstalgic\n",
        "!mv 'The Simpsons Funniest Scene--doMNIdooe8.mp4' video.mp4"
      ],
      "execution_count": null,
      "outputs": []
    },
    {
      "cell_type": "markdown",
      "metadata": {
        "id": "PemIJBbldadN"
      },
      "source": [
        "## Temporal extension (optional)\n",
        "For more info see the description.\n"
      ]
    }
  ]
}